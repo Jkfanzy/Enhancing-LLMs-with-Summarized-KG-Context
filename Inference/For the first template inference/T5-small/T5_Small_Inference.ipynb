{
  "nbformat": 4,
  "nbformat_minor": 0,
  "metadata": {
    "colab": {
      "provenance": [],
      "gpuType": "T4"
    },
    "kernelspec": {
      "name": "python3",
      "display_name": "Python 3"
    },
    "language_info": {
      "name": "python"
    },
    "accelerator": "GPU"
  },
  "cells": [
    {
      "cell_type": "code",
      "execution_count": null,
      "metadata": {
        "colab": {
          "base_uri": "https://localhost:8080/"
        },
        "id": "aIYnWx12RrX2",
        "outputId": "d65d8ad1-100c-4092-9798-4b3003ea7598"
      },
      "outputs": [
        {
          "output_type": "stream",
          "name": "stdout",
          "text": [
            "Collecting accelerate\n",
            "  Downloading accelerate-0.29.2-py3-none-any.whl (297 kB)\n",
            "\u001b[2K     \u001b[90m━━━━━━━━━━━━━━━━━━━━━━━━━━━━━━━━━━━━━━━━\u001b[0m \u001b[32m297.4/297.4 kB\u001b[0m \u001b[31m2.1 MB/s\u001b[0m eta \u001b[36m0:00:00\u001b[0m\n",
            "\u001b[?25hRequirement already satisfied: numpy>=1.17 in /usr/local/lib/python3.10/dist-packages (from accelerate) (1.25.2)\n",
            "Requirement already satisfied: packaging>=20.0 in /usr/local/lib/python3.10/dist-packages (from accelerate) (24.0)\n",
            "Requirement already satisfied: psutil in /usr/local/lib/python3.10/dist-packages (from accelerate) (5.9.5)\n",
            "Requirement already satisfied: pyyaml in /usr/local/lib/python3.10/dist-packages (from accelerate) (6.0.1)\n",
            "Requirement already satisfied: torch>=1.10.0 in /usr/local/lib/python3.10/dist-packages (from accelerate) (2.2.1+cu121)\n",
            "Requirement already satisfied: huggingface-hub in /usr/local/lib/python3.10/dist-packages (from accelerate) (0.20.3)\n",
            "Requirement already satisfied: safetensors>=0.3.1 in /usr/local/lib/python3.10/dist-packages (from accelerate) (0.4.2)\n",
            "Requirement already satisfied: filelock in /usr/local/lib/python3.10/dist-packages (from torch>=1.10.0->accelerate) (3.13.4)\n",
            "Requirement already satisfied: typing-extensions>=4.8.0 in /usr/local/lib/python3.10/dist-packages (from torch>=1.10.0->accelerate) (4.11.0)\n",
            "Requirement already satisfied: sympy in /usr/local/lib/python3.10/dist-packages (from torch>=1.10.0->accelerate) (1.12)\n",
            "Requirement already satisfied: networkx in /usr/local/lib/python3.10/dist-packages (from torch>=1.10.0->accelerate) (3.3)\n",
            "Requirement already satisfied: jinja2 in /usr/local/lib/python3.10/dist-packages (from torch>=1.10.0->accelerate) (3.1.3)\n",
            "Requirement already satisfied: fsspec in /usr/local/lib/python3.10/dist-packages (from torch>=1.10.0->accelerate) (2023.6.0)\n",
            "Collecting nvidia-cuda-nvrtc-cu12==12.1.105 (from torch>=1.10.0->accelerate)\n",
            "  Using cached nvidia_cuda_nvrtc_cu12-12.1.105-py3-none-manylinux1_x86_64.whl (23.7 MB)\n",
            "Collecting nvidia-cuda-runtime-cu12==12.1.105 (from torch>=1.10.0->accelerate)\n",
            "  Using cached nvidia_cuda_runtime_cu12-12.1.105-py3-none-manylinux1_x86_64.whl (823 kB)\n",
            "Collecting nvidia-cuda-cupti-cu12==12.1.105 (from torch>=1.10.0->accelerate)\n",
            "  Using cached nvidia_cuda_cupti_cu12-12.1.105-py3-none-manylinux1_x86_64.whl (14.1 MB)\n",
            "Collecting nvidia-cudnn-cu12==8.9.2.26 (from torch>=1.10.0->accelerate)\n",
            "  Using cached nvidia_cudnn_cu12-8.9.2.26-py3-none-manylinux1_x86_64.whl (731.7 MB)\n",
            "Collecting nvidia-cublas-cu12==12.1.3.1 (from torch>=1.10.0->accelerate)\n",
            "  Using cached nvidia_cublas_cu12-12.1.3.1-py3-none-manylinux1_x86_64.whl (410.6 MB)\n",
            "Collecting nvidia-cufft-cu12==11.0.2.54 (from torch>=1.10.0->accelerate)\n",
            "  Using cached nvidia_cufft_cu12-11.0.2.54-py3-none-manylinux1_x86_64.whl (121.6 MB)\n",
            "Collecting nvidia-curand-cu12==10.3.2.106 (from torch>=1.10.0->accelerate)\n",
            "  Using cached nvidia_curand_cu12-10.3.2.106-py3-none-manylinux1_x86_64.whl (56.5 MB)\n",
            "Collecting nvidia-cusolver-cu12==11.4.5.107 (from torch>=1.10.0->accelerate)\n",
            "  Using cached nvidia_cusolver_cu12-11.4.5.107-py3-none-manylinux1_x86_64.whl (124.2 MB)\n",
            "Collecting nvidia-cusparse-cu12==12.1.0.106 (from torch>=1.10.0->accelerate)\n",
            "  Using cached nvidia_cusparse_cu12-12.1.0.106-py3-none-manylinux1_x86_64.whl (196.0 MB)\n",
            "Collecting nvidia-nccl-cu12==2.19.3 (from torch>=1.10.0->accelerate)\n",
            "  Using cached nvidia_nccl_cu12-2.19.3-py3-none-manylinux1_x86_64.whl (166.0 MB)\n",
            "Collecting nvidia-nvtx-cu12==12.1.105 (from torch>=1.10.0->accelerate)\n",
            "  Using cached nvidia_nvtx_cu12-12.1.105-py3-none-manylinux1_x86_64.whl (99 kB)\n",
            "Requirement already satisfied: triton==2.2.0 in /usr/local/lib/python3.10/dist-packages (from torch>=1.10.0->accelerate) (2.2.0)\n",
            "Collecting nvidia-nvjitlink-cu12 (from nvidia-cusolver-cu12==11.4.5.107->torch>=1.10.0->accelerate)\n",
            "  Using cached nvidia_nvjitlink_cu12-12.4.127-py3-none-manylinux2014_x86_64.whl (21.1 MB)\n",
            "Requirement already satisfied: requests in /usr/local/lib/python3.10/dist-packages (from huggingface-hub->accelerate) (2.31.0)\n",
            "Requirement already satisfied: tqdm>=4.42.1 in /usr/local/lib/python3.10/dist-packages (from huggingface-hub->accelerate) (4.66.2)\n",
            "Requirement already satisfied: MarkupSafe>=2.0 in /usr/local/lib/python3.10/dist-packages (from jinja2->torch>=1.10.0->accelerate) (2.1.5)\n",
            "Requirement already satisfied: charset-normalizer<4,>=2 in /usr/local/lib/python3.10/dist-packages (from requests->huggingface-hub->accelerate) (3.3.2)\n",
            "Requirement already satisfied: idna<4,>=2.5 in /usr/local/lib/python3.10/dist-packages (from requests->huggingface-hub->accelerate) (3.6)\n",
            "Requirement already satisfied: urllib3<3,>=1.21.1 in /usr/local/lib/python3.10/dist-packages (from requests->huggingface-hub->accelerate) (2.0.7)\n",
            "Requirement already satisfied: certifi>=2017.4.17 in /usr/local/lib/python3.10/dist-packages (from requests->huggingface-hub->accelerate) (2024.2.2)\n",
            "Requirement already satisfied: mpmath>=0.19 in /usr/local/lib/python3.10/dist-packages (from sympy->torch>=1.10.0->accelerate) (1.3.0)\n",
            "Installing collected packages: nvidia-nvtx-cu12, nvidia-nvjitlink-cu12, nvidia-nccl-cu12, nvidia-curand-cu12, nvidia-cufft-cu12, nvidia-cuda-runtime-cu12, nvidia-cuda-nvrtc-cu12, nvidia-cuda-cupti-cu12, nvidia-cublas-cu12, nvidia-cusparse-cu12, nvidia-cudnn-cu12, nvidia-cusolver-cu12, accelerate\n",
            "Successfully installed accelerate-0.29.2 nvidia-cublas-cu12-12.1.3.1 nvidia-cuda-cupti-cu12-12.1.105 nvidia-cuda-nvrtc-cu12-12.1.105 nvidia-cuda-runtime-cu12-12.1.105 nvidia-cudnn-cu12-8.9.2.26 nvidia-cufft-cu12-11.0.2.54 nvidia-curand-cu12-10.3.2.106 nvidia-cusolver-cu12-11.4.5.107 nvidia-cusparse-cu12-12.1.0.106 nvidia-nccl-cu12-2.19.3 nvidia-nvjitlink-cu12-12.4.127 nvidia-nvtx-cu12-12.1.105\n"
          ]
        }
      ],
      "source": [
        "!pip install accelerate"
      ]
    },
    {
      "cell_type": "code",
      "source": [
        "import json\n",
        "from transformers import T5Tokenizer, T5ForConditionalGeneration\n",
        "import torch\n",
        "import accelerate"
      ],
      "metadata": {
        "id": "7gS3L9CQRznV"
      },
      "execution_count": null,
      "outputs": []
    },
    {
      "cell_type": "code",
      "source": [
        "tokenizer = T5Tokenizer.from_pretrained(\"google/flan-t5-small\")\n",
        "model = T5ForConditionalGeneration.from_pretrained(\"google/flan-t5-small\", device_map=\"auto\")"
      ],
      "metadata": {
        "colab": {
          "base_uri": "https://localhost:8080/"
        },
        "id": "te_uahS4Rzj_",
        "outputId": "b3da575d-7ef8-43c4-e638-724a3e59e08c"
      },
      "execution_count": null,
      "outputs": [
        {
          "output_type": "stream",
          "name": "stderr",
          "text": [
            "/usr/local/lib/python3.10/dist-packages/huggingface_hub/utils/_token.py:88: UserWarning: \n",
            "The secret `HF_TOKEN` does not exist in your Colab secrets.\n",
            "To authenticate with the Hugging Face Hub, create a token in your settings tab (https://huggingface.co/settings/tokens), set it as secret in your Google Colab and restart your session.\n",
            "You will be able to reuse this secret in all of your notebooks.\n",
            "Please note that authentication is recommended but still optional to access public models or datasets.\n",
            "  warnings.warn(\n",
            "You are using the default legacy behaviour of the <class 'transformers.models.t5.tokenization_t5.T5Tokenizer'>. This is expected, and simply means that the `legacy` (previous) behavior will be used so nothing changes for you. If you want to use the new behaviour, set `legacy=False`. This should only be set if you understand what it means, and thoroughly read the reason why this was added as explained in https://github.com/huggingface/transformers/pull/24565\n",
            "Special tokens have been added in the vocabulary, make sure the associated word embeddings are fine-tuned or trained.\n"
          ]
        }
      ]
    },
    {
      "cell_type": "code",
      "source": [
        "def evaluate(answer: str, predicted: str):\n",
        "    return answer.lower() in predicted.lower()"
      ],
      "metadata": {
        "id": "W3cZzUQBRzhJ"
      },
      "execution_count": null,
      "outputs": []
    },
    {
      "cell_type": "code",
      "source": [
        "with open('/content/updated_concept_net.dev.csqa.json', 'r') as file:\n",
        "    data = json.load(file)"
      ],
      "metadata": {
        "id": "Z2edPrBRRzaa"
      },
      "execution_count": null,
      "outputs": []
    },
    {
      "cell_type": "markdown",
      "source": [
        "# Model Inference with Information"
      ],
      "metadata": {
        "id": "vdLt5LiLUjn4"
      }
    },
    {
      "cell_type": "code",
      "source": [
        "from tqdm import tqdm\n",
        "\n",
        "results = []\n",
        "correct_count = 0  # Initialize correct answer count\n",
        "incorrect_count = 0  # Initialize incorrect answer count\n",
        "total_count = 0  # Initialize the total count of records\n",
        "\n",
        "for record in tqdm(data):\n",
        "    total_count += 1  # Increment the total record count\n",
        "\n",
        "    # Form the input text using both the question and the provided knowledge\n",
        "    input_text = f\"Answer the question based on the provided information: \\nQuestion: {record['query']}\\n\\nInformation: {record['knowledges']}\"\n",
        "    input_ids = tokenizer(input_text, return_tensors=\"pt\").input_ids.to(\"cuda\")  # Ensure tensors are on the correct device\n",
        "\n",
        "    # Generate output and decode\n",
        "    outputs = model.generate(input_ids)\n",
        "    predicted_answer = tokenizer.decode(outputs[0], skip_special_tokens=True)\n",
        "\n",
        "    # Evaluate the prediction\n",
        "    correct = evaluate(record['answer'], predicted_answer)\n",
        "\n",
        "    # Count correct predictions\n",
        "    if correct:\n",
        "        correct_count += 1\n",
        "    else:\n",
        "        incorrect_count += 1\n",
        "\n",
        "    # Append results with new fields \"ok\" and \"predicted\"\n",
        "    record['ok'] = 1 if correct else 0\n",
        "    record['predicted'] = predicted_answer  # Store the model's predicted answer\n",
        "    results.append(record)\n",
        "\n",
        "    # Calculate and print the current accuracy\n",
        "    current_accuracy = correct_count / total_count\n",
        "    print(f\"Current Accuracy after processing {total_count} records: {current_accuracy:.2f}\")\n",
        "\n",
        "# At the end of processing, print the number of correct and incorrect answers\n",
        "print(f\"Total Records Processed: {total_count}\")\n",
        "print(f\"Number of Correct Answers: {correct_count}\")\n",
        "print(f\"Number of Wrong Answers: {incorrect_count}\")\n",
        "accuracy = correct_count / total_count\n",
        "print(f\"Final Accuracy: {accuracy:.2f}\")\n",
        "\n",
        "# Optionally, write the results to a new JSON file\n",
        "with open('output_with_knowledge_results.json', 'w') as outfile:\n",
        "    json.dump(results, outfile, indent=4)\n",
        "print(\"Processing complete. Results saved to 'output_with_results.json'.\")"
      ],
      "metadata": {
        "colab": {
          "base_uri": "https://localhost:8080/"
        },
        "id": "tnxE-fOAR8Uq",
        "outputId": "c4cb6a0d-2435-4079-cf8e-bf81bdd36c36"
      },
      "execution_count": null,
      "outputs": [
        {
          "output_type": "stream",
          "name": "stderr",
          "text": [
            "  0%|          | 0/1221 [00:00<?, ?it/s]/usr/local/lib/python3.10/dist-packages/transformers/generation/utils.py:1178: UserWarning: Using the model-agnostic default `max_length` (=20) to control the generation length. We recommend setting `max_new_tokens` to control the maximum length of the generation.\n",
            "  warnings.warn(\n",
            "  0%|          | 1/1221 [00:08<2:48:52,  8.31s/it]"
          ]
        },
        {
          "output_type": "stream",
          "name": "stdout",
          "text": [
            "Current Accuracy after processing 1 records: 1.00\n"
          ]
        },
        {
          "output_type": "stream",
          "name": "stderr",
          "text": [
            "  0%|          | 3/1221 [00:08<40:53,  2.01s/it]  "
          ]
        },
        {
          "output_type": "stream",
          "name": "stdout",
          "text": [
            "Current Accuracy after processing 2 records: 0.50\n",
            "Current Accuracy after processing 3 records: 0.67\n"
          ]
        },
        {
          "output_type": "stream",
          "name": "stderr",
          "text": [
            "  1%|          | 7/1221 [00:09<10:21,  1.95it/s]"
          ]
        },
        {
          "output_type": "stream",
          "name": "stdout",
          "text": [
            "Current Accuracy after processing 4 records: 0.50\n",
            "Current Accuracy after processing 5 records: 0.40\n",
            "Current Accuracy after processing 6 records: 0.33\n",
            "Current Accuracy after processing 7 records: 0.29\n"
          ]
        },
        {
          "output_type": "stream",
          "name": "stderr",
          "text": [
            "\r  1%|          | 9/1221 [00:09<07:46,  2.60it/s]"
          ]
        },
        {
          "output_type": "stream",
          "name": "stdout",
          "text": [
            "Current Accuracy after processing 8 records: 0.25\n",
            "Current Accuracy after processing 9 records: 0.22\n"
          ]
        },
        {
          "output_type": "stream",
          "name": "stderr",
          "text": [
            "\r  1%|          | 10/1221 [00:09<07:22,  2.74it/s]"
          ]
        },
        {
          "output_type": "stream",
          "name": "stdout",
          "text": [
            "Current Accuracy after processing 10 records: 0.30\n",
            "Current Accuracy after processing 11 records: 0.27\n"
          ]
        },
        {
          "output_type": "stream",
          "name": "stderr",
          "text": [
            "  1%|          | 13/1221 [00:10<04:50,  4.16it/s]"
          ]
        },
        {
          "output_type": "stream",
          "name": "stdout",
          "text": [
            "Current Accuracy after processing 12 records: 0.25\n",
            "Current Accuracy after processing 13 records: 0.23\n"
          ]
        },
        {
          "output_type": "stream",
          "name": "stderr",
          "text": [
            "  1%|          | 15/1221 [00:10<03:47,  5.31it/s]"
          ]
        },
        {
          "output_type": "stream",
          "name": "stdout",
          "text": [
            "Current Accuracy after processing 14 records: 0.21\n",
            "Current Accuracy after processing 15 records: 0.20\n",
            "Current Accuracy after processing 16 records: 0.25\n"
          ]
        },
        {
          "output_type": "stream",
          "name": "stderr",
          "text": [
            "  2%|▏         | 19/1221 [00:10<02:27,  8.12it/s]"
          ]
        },
        {
          "output_type": "stream",
          "name": "stdout",
          "text": [
            "Current Accuracy after processing 17 records: 0.24\n",
            "Current Accuracy after processing 18 records: 0.28\n",
            "Current Accuracy after processing 19 records: 0.26\n"
          ]
        },
        {
          "output_type": "stream",
          "name": "stderr",
          "text": [
            "  2%|▏         | 23/1221 [00:11<02:10,  9.18it/s]"
          ]
        },
        {
          "output_type": "stream",
          "name": "stdout",
          "text": [
            "Current Accuracy after processing 20 records: 0.30\n",
            "Current Accuracy after processing 21 records: 0.29\n",
            "Current Accuracy after processing 22 records: 0.32\n",
            "Current Accuracy after processing 23 records: 0.35\n"
          ]
        },
        {
          "output_type": "stream",
          "name": "stderr",
          "text": [
            "  2%|▏         | 27/1221 [00:11<01:53, 10.55it/s]"
          ]
        },
        {
          "output_type": "stream",
          "name": "stdout",
          "text": [
            "Current Accuracy after processing 24 records: 0.33\n",
            "Current Accuracy after processing 25 records: 0.36\n",
            "Current Accuracy after processing 26 records: 0.38\n",
            "Current Accuracy after processing 27 records: 0.37\n"
          ]
        },
        {
          "output_type": "stream",
          "name": "stderr",
          "text": [
            "\r  2%|▏         | 30/1221 [00:11<01:44, 11.38it/s]"
          ]
        },
        {
          "output_type": "stream",
          "name": "stdout",
          "text": [
            "Current Accuracy after processing 28 records: 0.36\n",
            "Current Accuracy after processing 29 records: 0.34\n",
            "Current Accuracy after processing 30 records: 0.37\n",
            "Current Accuracy after processing 31 records: 0.35\n"
          ]
        },
        {
          "output_type": "stream",
          "name": "stderr",
          "text": [
            "  3%|▎         | 34/1221 [00:12<02:05,  9.43it/s]"
          ]
        },
        {
          "output_type": "stream",
          "name": "stdout",
          "text": [
            "Current Accuracy after processing 32 records: 0.38\n",
            "Current Accuracy after processing 33 records: 0.36\n",
            "Current Accuracy after processing 34 records: 0.35\n"
          ]
        },
        {
          "output_type": "stream",
          "name": "stderr",
          "text": [
            "\r  3%|▎         | 36/1221 [00:12<02:09,  9.12it/s]"
          ]
        },
        {
          "output_type": "stream",
          "name": "stdout",
          "text": [
            "Current Accuracy after processing 35 records: 0.37\n",
            "Current Accuracy after processing 36 records: 0.36\n"
          ]
        },
        {
          "output_type": "stream",
          "name": "stderr",
          "text": [
            "\r  3%|▎         | 38/1221 [00:12<02:45,  7.16it/s]"
          ]
        },
        {
          "output_type": "stream",
          "name": "stdout",
          "text": [
            "Current Accuracy after processing 37 records: 0.35\n",
            "Current Accuracy after processing 38 records: 0.37\n"
          ]
        },
        {
          "output_type": "stream",
          "name": "stderr",
          "text": [
            "  3%|▎         | 40/1221 [00:13<02:47,  7.06it/s]"
          ]
        },
        {
          "output_type": "stream",
          "name": "stdout",
          "text": [
            "Current Accuracy after processing 39 records: 0.36\n",
            "Current Accuracy after processing 40 records: 0.35\n"
          ]
        },
        {
          "output_type": "stream",
          "name": "stderr",
          "text": [
            "\r  3%|▎         | 41/1221 [00:13<02:49,  6.95it/s]"
          ]
        },
        {
          "output_type": "stream",
          "name": "stdout",
          "text": [
            "Current Accuracy after processing 41 records: 0.34\n"
          ]
        },
        {
          "output_type": "stream",
          "name": "stderr",
          "text": [
            "\r  3%|▎         | 42/1221 [00:13<03:31,  5.56it/s]"
          ]
        },
        {
          "output_type": "stream",
          "name": "stdout",
          "text": [
            "Current Accuracy after processing 42 records: 0.33\n"
          ]
        },
        {
          "output_type": "stream",
          "name": "stderr",
          "text": [
            "\r  4%|▎         | 43/1221 [00:13<04:00,  4.89it/s]"
          ]
        },
        {
          "output_type": "stream",
          "name": "stdout",
          "text": [
            "Current Accuracy after processing 43 records: 0.33\n",
            "Current Accuracy after processing 44 records: 0.32\n"
          ]
        },
        {
          "output_type": "stream",
          "name": "stderr",
          "text": [
            "\r  4%|▎         | 45/1221 [00:14<03:34,  5.48it/s]"
          ]
        },
        {
          "output_type": "stream",
          "name": "stdout",
          "text": [
            "Current Accuracy after processing 45 records: 0.31\n",
            "Current Accuracy after processing 46 records: 0.30\n"
          ]
        },
        {
          "output_type": "stream",
          "name": "stderr",
          "text": [
            "\r  4%|▍         | 47/1221 [00:14<03:24,  5.73it/s]"
          ]
        },
        {
          "output_type": "stream",
          "name": "stdout",
          "text": [
            "Current Accuracy after processing 47 records: 0.30\n"
          ]
        },
        {
          "output_type": "stream",
          "name": "stderr",
          "text": [
            "\r  4%|▍         | 48/1221 [00:14<04:09,  4.71it/s]"
          ]
        },
        {
          "output_type": "stream",
          "name": "stdout",
          "text": [
            "Current Accuracy after processing 48 records: 0.29\n",
            "Current Accuracy after processing 49 records: 0.29\n"
          ]
        },
        {
          "output_type": "stream",
          "name": "stderr",
          "text": [
            "  4%|▍         | 51/1221 [00:15<03:33,  5.47it/s]"
          ]
        },
        {
          "output_type": "stream",
          "name": "stdout",
          "text": [
            "Current Accuracy after processing 50 records: 0.28\n",
            "Current Accuracy after processing 51 records: 0.29\n",
            "Current Accuracy after processing 52 records: 0.29\n"
          ]
        },
        {
          "output_type": "stream",
          "name": "stderr",
          "text": [
            "\r  4%|▍         | 53/1221 [00:15<03:48,  5.12it/s]Token indices sequence length is longer than the specified maximum sequence length for this model (939 > 512). Running this sequence through the model will result in indexing errors\n"
          ]
        },
        {
          "output_type": "stream",
          "name": "stdout",
          "text": [
            "Current Accuracy after processing 53 records: 0.28\n",
            "Current Accuracy after processing 54 records: 0.28\n"
          ]
        },
        {
          "output_type": "stream",
          "name": "stderr",
          "text": [
            "  5%|▍         | 57/1221 [00:16<02:37,  7.38it/s]"
          ]
        },
        {
          "output_type": "stream",
          "name": "stdout",
          "text": [
            "Current Accuracy after processing 55 records: 0.27\n",
            "Current Accuracy after processing 56 records: 0.29\n",
            "Current Accuracy after processing 57 records: 0.30\n"
          ]
        },
        {
          "output_type": "stream",
          "name": "stderr",
          "text": [
            "  5%|▍         | 60/1221 [00:16<02:45,  7.02it/s]"
          ]
        },
        {
          "output_type": "stream",
          "name": "stdout",
          "text": [
            "Current Accuracy after processing 58 records: 0.29\n",
            "Current Accuracy after processing 59 records: 0.29\n",
            "Current Accuracy after processing 60 records: 0.28\n",
            "Current Accuracy after processing 61 records: 0.30\n"
          ]
        },
        {
          "output_type": "stream",
          "name": "stderr",
          "text": [
            "\r  5%|▌         | 62/1221 [00:17<03:06,  6.20it/s]"
          ]
        },
        {
          "output_type": "stream",
          "name": "stdout",
          "text": [
            "Current Accuracy after processing 62 records: 0.29\n",
            "Current Accuracy after processing 63 records: 0.30\n"
          ]
        },
        {
          "output_type": "stream",
          "name": "stderr",
          "text": [
            "\r  5%|▌         | 64/1221 [00:17<02:45,  7.00it/s]"
          ]
        },
        {
          "output_type": "stream",
          "name": "stdout",
          "text": [
            "Current Accuracy after processing 64 records: 0.30\n",
            "Current Accuracy after processing 65 records: 0.31\n"
          ]
        },
        {
          "output_type": "stream",
          "name": "stderr",
          "text": [
            "\r  5%|▌         | 66/1221 [00:17<02:52,  6.71it/s]"
          ]
        },
        {
          "output_type": "stream",
          "name": "stdout",
          "text": [
            "Current Accuracy after processing 66 records: 0.30\n"
          ]
        },
        {
          "output_type": "stream",
          "name": "stderr",
          "text": [
            "  6%|▌         | 69/1221 [00:17<02:32,  7.57it/s]"
          ]
        },
        {
          "output_type": "stream",
          "name": "stdout",
          "text": [
            "Current Accuracy after processing 67 records: 0.30\n",
            "Current Accuracy after processing 68 records: 0.29\n",
            "Current Accuracy after processing 69 records: 0.29\n",
            "Current Accuracy after processing 70 records: 0.30\n"
          ]
        },
        {
          "output_type": "stream",
          "name": "stderr",
          "text": [
            "\r  6%|▌         | 71/1221 [00:18<02:13,  8.59it/s]"
          ]
        },
        {
          "output_type": "stream",
          "name": "stdout",
          "text": [
            "Current Accuracy after processing 71 records: 0.31\n",
            "Current Accuracy after processing 72 records: 0.31\n"
          ]
        },
        {
          "output_type": "stream",
          "name": "stderr",
          "text": [
            "\r  6%|▌         | 73/1221 [00:18<02:56,  6.49it/s]"
          ]
        },
        {
          "output_type": "stream",
          "name": "stdout",
          "text": [
            "Current Accuracy after processing 73 records: 0.30\n"
          ]
        },
        {
          "output_type": "stream",
          "name": "stderr",
          "text": [
            "  6%|▌         | 75/1221 [00:19<03:18,  5.77it/s]"
          ]
        },
        {
          "output_type": "stream",
          "name": "stdout",
          "text": [
            "Current Accuracy after processing 74 records: 0.30\n",
            "Current Accuracy after processing 75 records: 0.29\n"
          ]
        },
        {
          "output_type": "stream",
          "name": "stderr",
          "text": [
            "\r  6%|▋         | 77/1221 [00:19<02:32,  7.48it/s]"
          ]
        },
        {
          "output_type": "stream",
          "name": "stdout",
          "text": [
            "Current Accuracy after processing 76 records: 0.29\n",
            "Current Accuracy after processing 77 records: 0.29\n"
          ]
        },
        {
          "output_type": "stream",
          "name": "stderr",
          "text": [
            "\r  6%|▋         | 78/1221 [00:19<03:06,  6.12it/s]"
          ]
        },
        {
          "output_type": "stream",
          "name": "stdout",
          "text": [
            "Current Accuracy after processing 78 records: 0.28\n"
          ]
        },
        {
          "output_type": "stream",
          "name": "stderr",
          "text": [
            "\r  6%|▋         | 79/1221 [00:19<03:35,  5.31it/s]"
          ]
        },
        {
          "output_type": "stream",
          "name": "stdout",
          "text": [
            "Current Accuracy after processing 79 records: 0.28\n"
          ]
        },
        {
          "output_type": "stream",
          "name": "stderr",
          "text": [
            "\r  7%|▋         | 80/1221 [00:19<03:53,  4.89it/s]"
          ]
        },
        {
          "output_type": "stream",
          "name": "stdout",
          "text": [
            "Current Accuracy after processing 80 records: 0.28\n"
          ]
        },
        {
          "output_type": "stream",
          "name": "stderr",
          "text": [
            "  7%|▋         | 83/1221 [00:20<03:00,  6.30it/s]"
          ]
        },
        {
          "output_type": "stream",
          "name": "stdout",
          "text": [
            "Current Accuracy after processing 81 records: 0.27\n",
            "Current Accuracy after processing 82 records: 0.27\n",
            "Current Accuracy after processing 83 records: 0.27\n"
          ]
        },
        {
          "output_type": "stream",
          "name": "stderr",
          "text": [
            "\r  7%|▋         | 84/1221 [00:20<02:47,  6.81it/s]"
          ]
        },
        {
          "output_type": "stream",
          "name": "stdout",
          "text": [
            "Current Accuracy after processing 84 records: 0.27\n",
            "Current Accuracy after processing 85 records: 0.27\n",
            "Current Accuracy after processing 86 records: 0.27\n"
          ]
        },
        {
          "output_type": "stream",
          "name": "stderr",
          "text": [
            "  7%|▋         | 88/1221 [00:20<02:36,  7.26it/s]"
          ]
        },
        {
          "output_type": "stream",
          "name": "stdout",
          "text": [
            "Current Accuracy after processing 87 records: 0.26\n",
            "Current Accuracy after processing 88 records: 0.26\n",
            "Current Accuracy after processing 89 records: 0.26\n"
          ]
        },
        {
          "output_type": "stream",
          "name": "stderr",
          "text": [
            "  8%|▊         | 92/1221 [00:21<02:05,  9.02it/s]"
          ]
        },
        {
          "output_type": "stream",
          "name": "stdout",
          "text": [
            "Current Accuracy after processing 90 records: 0.26\n",
            "Current Accuracy after processing 91 records: 0.25\n",
            "Current Accuracy after processing 92 records: 0.25\n",
            "Current Accuracy after processing 93 records: 0.25\n"
          ]
        },
        {
          "output_type": "stream",
          "name": "stderr",
          "text": [
            "\r  8%|▊         | 94/1221 [00:21<01:45, 10.70it/s]"
          ]
        },
        {
          "output_type": "stream",
          "name": "stdout",
          "text": [
            "Current Accuracy after processing 94 records: 0.24\n",
            "Current Accuracy after processing 95 records: 0.25\n"
          ]
        },
        {
          "output_type": "stream",
          "name": "stderr",
          "text": [
            "\r  8%|▊         | 96/1221 [00:21<01:51, 10.06it/s]"
          ]
        },
        {
          "output_type": "stream",
          "name": "stdout",
          "text": [
            "Current Accuracy after processing 96 records: 0.25\n",
            "Current Accuracy after processing 97 records: 0.25\n"
          ]
        },
        {
          "output_type": "stream",
          "name": "stderr",
          "text": [
            "\r  8%|▊         | 98/1221 [00:22<02:50,  6.59it/s]"
          ]
        },
        {
          "output_type": "stream",
          "name": "stdout",
          "text": [
            "Current Accuracy after processing 98 records: 0.24\n"
          ]
        },
        {
          "output_type": "stream",
          "name": "stderr",
          "text": [
            "  8%|▊         | 101/1221 [00:22<02:35,  7.22it/s]"
          ]
        },
        {
          "output_type": "stream",
          "name": "stdout",
          "text": [
            "Current Accuracy after processing 99 records: 0.24\n",
            "Current Accuracy after processing 100 records: 0.24\n",
            "Current Accuracy after processing 101 records: 0.24\n"
          ]
        },
        {
          "output_type": "stream",
          "name": "stderr",
          "text": [
            "\r  8%|▊         | 102/1221 [00:22<03:07,  5.98it/s]"
          ]
        },
        {
          "output_type": "stream",
          "name": "stdout",
          "text": [
            "Current Accuracy after processing 102 records: 0.24\n"
          ]
        },
        {
          "output_type": "stream",
          "name": "stderr",
          "text": [
            "  9%|▊         | 104/1221 [00:23<03:11,  5.82it/s]"
          ]
        },
        {
          "output_type": "stream",
          "name": "stdout",
          "text": [
            "Current Accuracy after processing 103 records: 0.23\n",
            "Current Accuracy after processing 104 records: 0.23\n"
          ]
        },
        {
          "output_type": "stream",
          "name": "stderr",
          "text": [
            "\r  9%|▊         | 105/1221 [00:23<03:37,  5.14it/s]"
          ]
        },
        {
          "output_type": "stream",
          "name": "stdout",
          "text": [
            "Current Accuracy after processing 105 records: 0.23\n",
            "Current Accuracy after processing 106 records: 0.24\n"
          ]
        },
        {
          "output_type": "stream",
          "name": "stderr",
          "text": [
            "  9%|▉         | 108/1221 [00:24<03:00,  6.15it/s]"
          ]
        },
        {
          "output_type": "stream",
          "name": "stdout",
          "text": [
            "Current Accuracy after processing 107 records: 0.23\n",
            "Current Accuracy after processing 108 records: 0.23\n"
          ]
        },
        {
          "output_type": "stream",
          "name": "stderr",
          "text": [
            "\r  9%|▉         | 109/1221 [00:24<03:30,  5.28it/s]"
          ]
        },
        {
          "output_type": "stream",
          "name": "stdout",
          "text": [
            "Current Accuracy after processing 109 records: 0.24\n"
          ]
        },
        {
          "output_type": "stream",
          "name": "stderr",
          "text": [
            "\r  9%|▉         | 110/1221 [00:24<03:57,  4.69it/s]"
          ]
        },
        {
          "output_type": "stream",
          "name": "stdout",
          "text": [
            "Current Accuracy after processing 110 records: 0.24\n"
          ]
        },
        {
          "output_type": "stream",
          "name": "stderr",
          "text": [
            "  9%|▉         | 112/1221 [00:24<03:46,  4.90it/s]"
          ]
        },
        {
          "output_type": "stream",
          "name": "stdout",
          "text": [
            "Current Accuracy after processing 111 records: 0.23\n",
            "Current Accuracy after processing 112 records: 0.23\n"
          ]
        },
        {
          "output_type": "stream",
          "name": "stderr",
          "text": [
            "\r  9%|▉         | 113/1221 [00:25<03:38,  5.07it/s]"
          ]
        },
        {
          "output_type": "stream",
          "name": "stdout",
          "text": [
            "Current Accuracy after processing 113 records: 0.24\n"
          ]
        },
        {
          "output_type": "stream",
          "name": "stderr",
          "text": [
            " 10%|▉         | 116/1221 [00:25<02:48,  6.57it/s]"
          ]
        },
        {
          "output_type": "stream",
          "name": "stdout",
          "text": [
            "Current Accuracy after processing 114 records: 0.25\n",
            "Current Accuracy after processing 115 records: 0.24\n",
            "Current Accuracy after processing 116 records: 0.25\n"
          ]
        },
        {
          "output_type": "stream",
          "name": "stderr",
          "text": [
            "\r 10%|▉         | 118/1221 [00:25<02:06,  8.74it/s]"
          ]
        },
        {
          "output_type": "stream",
          "name": "stdout",
          "text": [
            "Current Accuracy after processing 117 records: 0.25\n",
            "Current Accuracy after processing 118 records: 0.25\n",
            "Current Accuracy after processing 119 records: 0.24\n"
          ]
        },
        {
          "output_type": "stream",
          "name": "stderr",
          "text": [
            " 10%|▉         | 122/1221 [00:26<01:54,  9.62it/s]"
          ]
        },
        {
          "output_type": "stream",
          "name": "stdout",
          "text": [
            "Current Accuracy after processing 120 records: 0.24\n",
            "Current Accuracy after processing 121 records: 0.24\n",
            "Current Accuracy after processing 122 records: 0.24\n"
          ]
        },
        {
          "output_type": "stream",
          "name": "stderr",
          "text": [
            "\r 10%|█         | 124/1221 [00:26<01:36, 11.38it/s]"
          ]
        },
        {
          "output_type": "stream",
          "name": "stdout",
          "text": [
            "Current Accuracy after processing 123 records: 0.24\n",
            "Current Accuracy after processing 124 records: 0.23\n"
          ]
        },
        {
          "output_type": "stream",
          "name": "stderr",
          "text": [
            "\r 10%|█         | 126/1221 [00:26<01:55,  9.48it/s]"
          ]
        },
        {
          "output_type": "stream",
          "name": "stdout",
          "text": [
            "Current Accuracy after processing 125 records: 0.23\n",
            "Current Accuracy after processing 126 records: 0.23\n",
            "Current Accuracy after processing 127 records: 0.23\n"
          ]
        },
        {
          "output_type": "stream",
          "name": "stderr",
          "text": [
            "\r 10%|█         | 128/1221 [00:26<01:53,  9.65it/s]"
          ]
        },
        {
          "output_type": "stream",
          "name": "stdout",
          "text": [
            "Current Accuracy after processing 128 records: 0.23\n",
            "Current Accuracy after processing 129 records: 0.23\n",
            "Current Accuracy after processing 130 records: 0.23\n"
          ]
        },
        {
          "output_type": "stream",
          "name": "stderr",
          "text": [
            " 11%|█         | 133/1221 [00:27<01:58,  9.17it/s]"
          ]
        },
        {
          "output_type": "stream",
          "name": "stdout",
          "text": [
            "Current Accuracy after processing 131 records: 0.23\n",
            "Current Accuracy after processing 132 records: 0.23\n",
            "Current Accuracy after processing 133 records: 0.23\n",
            "Current Accuracy after processing 134 records: 0.24\n"
          ]
        },
        {
          "output_type": "stream",
          "name": "stderr",
          "text": [
            "\r 11%|█         | 135/1221 [00:27<02:29,  7.27it/s]"
          ]
        },
        {
          "output_type": "stream",
          "name": "stdout",
          "text": [
            "Current Accuracy after processing 135 records: 0.24\n",
            "Current Accuracy after processing 136 records: 0.24\n"
          ]
        },
        {
          "output_type": "stream",
          "name": "stderr",
          "text": [
            "\r 11%|█         | 137/1221 [00:27<02:36,  6.92it/s]"
          ]
        },
        {
          "output_type": "stream",
          "name": "stdout",
          "text": [
            "Current Accuracy after processing 137 records: 0.24\n"
          ]
        },
        {
          "output_type": "stream",
          "name": "stderr",
          "text": [
            " 11%|█▏        | 139/1221 [00:28<03:13,  5.59it/s]"
          ]
        },
        {
          "output_type": "stream",
          "name": "stdout",
          "text": [
            "Current Accuracy after processing 138 records: 0.24\n",
            "Current Accuracy after processing 139 records: 0.24\n"
          ]
        },
        {
          "output_type": "stream",
          "name": "stderr",
          "text": [
            " 12%|█▏        | 141/1221 [00:28<03:28,  5.18it/s]"
          ]
        },
        {
          "output_type": "stream",
          "name": "stdout",
          "text": [
            "Current Accuracy after processing 140 records: 0.24\n",
            "Current Accuracy after processing 141 records: 0.23\n"
          ]
        },
        {
          "output_type": "stream",
          "name": "stderr",
          "text": [
            " 12%|█▏        | 143/1221 [00:29<03:17,  5.46it/s]"
          ]
        },
        {
          "output_type": "stream",
          "name": "stdout",
          "text": [
            "Current Accuracy after processing 142 records: 0.23\n",
            "Current Accuracy after processing 143 records: 0.23\n",
            "Current Accuracy after processing 144 records: 0.23\n"
          ]
        },
        {
          "output_type": "stream",
          "name": "stderr",
          "text": [
            "\r 12%|█▏        | 145/1221 [00:29<03:02,  5.89it/s]"
          ]
        },
        {
          "output_type": "stream",
          "name": "stdout",
          "text": [
            "Current Accuracy after processing 145 records: 0.23\n",
            "Current Accuracy after processing 146 records: 0.23\n"
          ]
        },
        {
          "output_type": "stream",
          "name": "stderr",
          "text": [
            "\r 12%|█▏        | 147/1221 [00:29<02:40,  6.68it/s]"
          ]
        },
        {
          "output_type": "stream",
          "name": "stdout",
          "text": [
            "Current Accuracy after processing 147 records: 0.23\n"
          ]
        },
        {
          "output_type": "stream",
          "name": "stderr",
          "text": [
            " 12%|█▏        | 149/1221 [00:30<03:01,  5.92it/s]"
          ]
        },
        {
          "output_type": "stream",
          "name": "stdout",
          "text": [
            "Current Accuracy after processing 148 records: 0.24\n",
            "Current Accuracy after processing 149 records: 0.23\n"
          ]
        },
        {
          "output_type": "stream",
          "name": "stderr",
          "text": [
            "\r 12%|█▏        | 150/1221 [00:30<03:26,  5.19it/s]"
          ]
        },
        {
          "output_type": "stream",
          "name": "stdout",
          "text": [
            "Current Accuracy after processing 150 records: 0.23\n"
          ]
        },
        {
          "output_type": "stream",
          "name": "stderr",
          "text": [
            " 12%|█▏        | 152/1221 [00:30<03:25,  5.20it/s]"
          ]
        },
        {
          "output_type": "stream",
          "name": "stdout",
          "text": [
            "Current Accuracy after processing 151 records: 0.23\n",
            "Current Accuracy after processing 152 records: 0.23\n"
          ]
        },
        {
          "output_type": "stream",
          "name": "stderr",
          "text": [
            "\r 13%|█▎        | 153/1221 [00:31<03:10,  5.61it/s]"
          ]
        },
        {
          "output_type": "stream",
          "name": "stdout",
          "text": [
            "Current Accuracy after processing 153 records: 0.23\n"
          ]
        },
        {
          "output_type": "stream",
          "name": "stderr",
          "text": [
            " 13%|█▎        | 155/1221 [00:31<03:37,  4.91it/s]"
          ]
        },
        {
          "output_type": "stream",
          "name": "stdout",
          "text": [
            "Current Accuracy after processing 154 records: 0.23\n",
            "Current Accuracy after processing 155 records: 0.23\n"
          ]
        },
        {
          "output_type": "stream",
          "name": "stderr",
          "text": [
            " 13%|█▎        | 157/1221 [00:31<03:16,  5.43it/s]"
          ]
        },
        {
          "output_type": "stream",
          "name": "stdout",
          "text": [
            "Current Accuracy after processing 156 records: 0.22\n",
            "Current Accuracy after processing 157 records: 0.22\n"
          ]
        },
        {
          "output_type": "stream",
          "name": "stderr",
          "text": [
            "\r 13%|█▎        | 158/1221 [00:32<02:54,  6.10it/s]"
          ]
        },
        {
          "output_type": "stream",
          "name": "stdout",
          "text": [
            "Current Accuracy after processing 158 records: 0.22\n"
          ]
        },
        {
          "output_type": "stream",
          "name": "stderr",
          "text": [
            " 13%|█▎        | 160/1221 [00:32<03:10,  5.58it/s]"
          ]
        },
        {
          "output_type": "stream",
          "name": "stdout",
          "text": [
            "Current Accuracy after processing 159 records: 0.22\n",
            "Current Accuracy after processing 160 records: 0.22\n"
          ]
        },
        {
          "output_type": "stream",
          "name": "stderr",
          "text": [
            " 13%|█▎        | 163/1221 [00:32<02:25,  7.29it/s]"
          ]
        },
        {
          "output_type": "stream",
          "name": "stdout",
          "text": [
            "Current Accuracy after processing 161 records: 0.22\n",
            "Current Accuracy after processing 162 records: 0.22\n",
            "Current Accuracy after processing 163 records: 0.22\n"
          ]
        },
        {
          "output_type": "stream",
          "name": "stderr",
          "text": [
            " 14%|█▎        | 166/1221 [00:33<02:23,  7.33it/s]"
          ]
        },
        {
          "output_type": "stream",
          "name": "stdout",
          "text": [
            "Current Accuracy after processing 164 records: 0.22\n",
            "Current Accuracy after processing 165 records: 0.22\n",
            "Current Accuracy after processing 166 records: 0.23\n"
          ]
        },
        {
          "output_type": "stream",
          "name": "stderr",
          "text": [
            "\r 14%|█▍        | 168/1221 [00:33<01:57,  8.95it/s]"
          ]
        },
        {
          "output_type": "stream",
          "name": "stdout",
          "text": [
            "Current Accuracy after processing 167 records: 0.23\n",
            "Current Accuracy after processing 168 records: 0.23\n",
            "Current Accuracy after processing 169 records: 0.22\n"
          ]
        },
        {
          "output_type": "stream",
          "name": "stderr",
          "text": [
            " 14%|█▍        | 171/1221 [00:33<02:15,  7.76it/s]"
          ]
        },
        {
          "output_type": "stream",
          "name": "stdout",
          "text": [
            "Current Accuracy after processing 170 records: 0.22\n",
            "Current Accuracy after processing 171 records: 0.22\n"
          ]
        },
        {
          "output_type": "stream",
          "name": "stderr",
          "text": [
            "\r 14%|█▍        | 172/1221 [00:34<02:45,  6.35it/s]"
          ]
        },
        {
          "output_type": "stream",
          "name": "stdout",
          "text": [
            "Current Accuracy after processing 172 records: 0.22\n",
            "Current Accuracy after processing 173 records: 0.22\n"
          ]
        },
        {
          "output_type": "stream",
          "name": "stderr",
          "text": [
            " 14%|█▍        | 176/1221 [00:34<02:24,  7.24it/s]"
          ]
        },
        {
          "output_type": "stream",
          "name": "stdout",
          "text": [
            "Current Accuracy after processing 174 records: 0.22\n",
            "Current Accuracy after processing 175 records: 0.22\n",
            "Current Accuracy after processing 176 records: 0.22\n"
          ]
        },
        {
          "output_type": "stream",
          "name": "stderr",
          "text": [
            "\r 14%|█▍        | 177/1221 [00:34<02:19,  7.48it/s]"
          ]
        },
        {
          "output_type": "stream",
          "name": "stdout",
          "text": [
            "Current Accuracy after processing 177 records: 0.23\n",
            "Current Accuracy after processing 178 records: 0.23\n"
          ]
        },
        {
          "output_type": "stream",
          "name": "stderr",
          "text": [
            " 15%|█▍        | 181/1221 [00:35<01:55,  9.04it/s]"
          ]
        },
        {
          "output_type": "stream",
          "name": "stdout",
          "text": [
            "Current Accuracy after processing 179 records: 0.23\n",
            "Current Accuracy after processing 180 records: 0.23\n",
            "Current Accuracy after processing 181 records: 0.24\n"
          ]
        },
        {
          "output_type": "stream",
          "name": "stderr",
          "text": [
            " 15%|█▌        | 184/1221 [00:35<01:54,  9.02it/s]"
          ]
        },
        {
          "output_type": "stream",
          "name": "stdout",
          "text": [
            "Current Accuracy after processing 182 records: 0.24\n",
            "Current Accuracy after processing 183 records: 0.23\n",
            "Current Accuracy after processing 184 records: 0.23\n"
          ]
        },
        {
          "output_type": "stream",
          "name": "stderr",
          "text": [
            "\r 15%|█▌        | 186/1221 [00:35<01:46,  9.74it/s]"
          ]
        },
        {
          "output_type": "stream",
          "name": "stdout",
          "text": [
            "Current Accuracy after processing 185 records: 0.23\n",
            "Current Accuracy after processing 186 records: 0.23\n",
            "Current Accuracy after processing 187 records: 0.24\n"
          ]
        },
        {
          "output_type": "stream",
          "name": "stderr",
          "text": [
            "\r 15%|█▌        | 188/1221 [00:35<01:37, 10.57it/s]"
          ]
        },
        {
          "output_type": "stream",
          "name": "stdout",
          "text": [
            "Current Accuracy after processing 188 records: 0.23\n"
          ]
        },
        {
          "output_type": "stream",
          "name": "stderr",
          "text": [
            "\r 16%|█▌        | 190/1221 [00:36<02:23,  7.16it/s]"
          ]
        },
        {
          "output_type": "stream",
          "name": "stdout",
          "text": [
            "Current Accuracy after processing 189 records: 0.23\n",
            "Current Accuracy after processing 190 records: 0.24\n"
          ]
        },
        {
          "output_type": "stream",
          "name": "stderr",
          "text": [
            " 16%|█▌        | 193/1221 [00:36<02:05,  8.19it/s]"
          ]
        },
        {
          "output_type": "stream",
          "name": "stdout",
          "text": [
            "Current Accuracy after processing 191 records: 0.24\n",
            "Current Accuracy after processing 192 records: 0.23\n",
            "Current Accuracy after processing 193 records: 0.23\n"
          ]
        },
        {
          "output_type": "stream",
          "name": "stderr",
          "text": [
            " 16%|█▌        | 195/1221 [00:36<02:22,  7.18it/s]"
          ]
        },
        {
          "output_type": "stream",
          "name": "stdout",
          "text": [
            "Current Accuracy after processing 194 records: 0.23\n",
            "Current Accuracy after processing 195 records: 0.23\n",
            "Current Accuracy after processing 196 records: 0.23\n"
          ]
        },
        {
          "output_type": "stream",
          "name": "stderr",
          "text": [
            "\r 16%|█▌        | 197/1221 [00:37<01:59,  8.60it/s]"
          ]
        },
        {
          "output_type": "stream",
          "name": "stdout",
          "text": [
            "Current Accuracy after processing 197 records: 0.23\n",
            "Current Accuracy after processing 198 records: 0.23\n"
          ]
        },
        {
          "output_type": "stream",
          "name": "stderr",
          "text": [
            " 16%|█▋        | 200/1221 [00:37<01:59,  8.53it/s]"
          ]
        },
        {
          "output_type": "stream",
          "name": "stdout",
          "text": [
            "Current Accuracy after processing 199 records: 0.23\n",
            "Current Accuracy after processing 200 records: 0.23\n",
            "Current Accuracy after processing 201 records: 0.23\n"
          ]
        },
        {
          "output_type": "stream",
          "name": "stderr",
          "text": [
            "\r 17%|█▋        | 203/1221 [00:37<01:30, 11.28it/s]"
          ]
        },
        {
          "output_type": "stream",
          "name": "stdout",
          "text": [
            "Current Accuracy after processing 202 records: 0.23\n",
            "Current Accuracy after processing 203 records: 0.24\n",
            "Current Accuracy after processing 204 records: 0.24\n"
          ]
        },
        {
          "output_type": "stream",
          "name": "stderr",
          "text": [
            "\r 17%|█▋        | 205/1221 [00:37<01:55,  8.77it/s]"
          ]
        },
        {
          "output_type": "stream",
          "name": "stdout",
          "text": [
            "Current Accuracy after processing 205 records: 0.24\n"
          ]
        },
        {
          "output_type": "stream",
          "name": "stderr",
          "text": [
            "\r 17%|█▋        | 206/1221 [00:38<02:13,  7.58it/s]"
          ]
        },
        {
          "output_type": "stream",
          "name": "stdout",
          "text": [
            "Current Accuracy after processing 206 records: 0.24\n"
          ]
        },
        {
          "output_type": "stream",
          "name": "stderr",
          "text": [
            "\r 17%|█▋        | 207/1221 [00:38<02:46,  6.08it/s]"
          ]
        },
        {
          "output_type": "stream",
          "name": "stdout",
          "text": [
            "Current Accuracy after processing 207 records: 0.24\n",
            "Current Accuracy after processing 208 records: 0.24\n",
            "Current Accuracy after processing 209 records: 0.23\n"
          ]
        },
        {
          "output_type": "stream",
          "name": "stderr",
          "text": [
            "\r 17%|█▋        | 210/1221 [00:38<02:21,  7.13it/s]"
          ]
        },
        {
          "output_type": "stream",
          "name": "stdout",
          "text": [
            "Current Accuracy after processing 210 records: 0.23\n",
            "Current Accuracy after processing 211 records: 0.23\n"
          ]
        },
        {
          "output_type": "stream",
          "name": "stderr",
          "text": [
            " 17%|█▋        | 213/1221 [00:39<02:10,  7.72it/s]"
          ]
        },
        {
          "output_type": "stream",
          "name": "stdout",
          "text": [
            "Current Accuracy after processing 212 records: 0.23\n",
            "Current Accuracy after processing 213 records: 0.23\n"
          ]
        },
        {
          "output_type": "stream",
          "name": "stderr",
          "text": [
            "\r 18%|█▊        | 214/1221 [00:39<02:59,  5.60it/s]"
          ]
        },
        {
          "output_type": "stream",
          "name": "stdout",
          "text": [
            "Current Accuracy after processing 214 records: 0.23\n"
          ]
        },
        {
          "output_type": "stream",
          "name": "stderr",
          "text": [
            " 18%|█▊        | 217/1221 [00:39<02:25,  6.92it/s]"
          ]
        },
        {
          "output_type": "stream",
          "name": "stdout",
          "text": [
            "Current Accuracy after processing 215 records: 0.23\n",
            "Current Accuracy after processing 216 records: 0.23\n",
            "Current Accuracy after processing 217 records: 0.24\n"
          ]
        },
        {
          "output_type": "stream",
          "name": "stderr",
          "text": [
            " 18%|█▊        | 219/1221 [00:40<03:07,  5.36it/s]"
          ]
        },
        {
          "output_type": "stream",
          "name": "stdout",
          "text": [
            "Current Accuracy after processing 218 records: 0.24\n",
            "Current Accuracy after processing 219 records: 0.24\n"
          ]
        },
        {
          "output_type": "stream",
          "name": "stderr",
          "text": [
            "\r 18%|█▊        | 220/1221 [00:40<04:12,  3.97it/s]"
          ]
        },
        {
          "output_type": "stream",
          "name": "stdout",
          "text": [
            "Current Accuracy after processing 220 records: 0.24\n"
          ]
        },
        {
          "output_type": "stream",
          "name": "stderr",
          "text": [
            " 18%|█▊        | 223/1221 [00:41<03:31,  4.72it/s]"
          ]
        },
        {
          "output_type": "stream",
          "name": "stdout",
          "text": [
            "Current Accuracy after processing 221 records: 0.24\n",
            "Current Accuracy after processing 222 records: 0.23\n",
            "Current Accuracy after processing 223 records: 0.23\n"
          ]
        },
        {
          "output_type": "stream",
          "name": "stderr",
          "text": [
            "\r 18%|█▊        | 225/1221 [00:41<02:52,  5.77it/s]"
          ]
        },
        {
          "output_type": "stream",
          "name": "stdout",
          "text": [
            "Current Accuracy after processing 224 records: 0.23\n",
            "Current Accuracy after processing 225 records: 0.23\n"
          ]
        },
        {
          "output_type": "stream",
          "name": "stderr",
          "text": [
            "\r 19%|█▊        | 227/1221 [00:41<02:10,  7.60it/s]"
          ]
        },
        {
          "output_type": "stream",
          "name": "stdout",
          "text": [
            "Current Accuracy after processing 226 records: 0.23\n",
            "Current Accuracy after processing 227 records: 0.23\n",
            "Current Accuracy after processing 228 records: 0.23\n"
          ]
        },
        {
          "output_type": "stream",
          "name": "stderr",
          "text": [
            "\r 19%|█▉        | 229/1221 [00:42<02:03,  8.05it/s]"
          ]
        },
        {
          "output_type": "stream",
          "name": "stdout",
          "text": [
            "Current Accuracy after processing 229 records: 0.23\n",
            "Current Accuracy after processing 230 records: 0.23\n"
          ]
        },
        {
          "output_type": "stream",
          "name": "stderr",
          "text": [
            " 19%|█▉        | 232/1221 [00:42<02:40,  6.16it/s]"
          ]
        },
        {
          "output_type": "stream",
          "name": "stdout",
          "text": [
            "Current Accuracy after processing 231 records: 0.23\n",
            "Current Accuracy after processing 232 records: 0.23\n",
            "Current Accuracy after processing 233 records: 0.23\n"
          ]
        },
        {
          "output_type": "stream",
          "name": "stderr",
          "text": [
            " 19%|█▉        | 236/1221 [00:42<01:39,  9.86it/s]"
          ]
        },
        {
          "output_type": "stream",
          "name": "stdout",
          "text": [
            "Current Accuracy after processing 234 records: 0.24\n",
            "Current Accuracy after processing 235 records: 0.23\n",
            "Current Accuracy after processing 236 records: 0.23\n",
            "Current Accuracy after processing 237 records: 0.23\n"
          ]
        },
        {
          "output_type": "stream",
          "name": "stderr",
          "text": [
            " 20%|█▉        | 240/1221 [00:43<01:31, 10.75it/s]"
          ]
        },
        {
          "output_type": "stream",
          "name": "stdout",
          "text": [
            "Current Accuracy after processing 238 records: 0.23\n",
            "Current Accuracy after processing 239 records: 0.23\n",
            "Current Accuracy after processing 240 records: 0.23\n",
            "Current Accuracy after processing 241 records: 0.24\n"
          ]
        },
        {
          "output_type": "stream",
          "name": "stderr",
          "text": [
            "\r 20%|█▉        | 242/1221 [00:43<02:03,  7.95it/s]"
          ]
        },
        {
          "output_type": "stream",
          "name": "stdout",
          "text": [
            "Current Accuracy after processing 242 records: 0.24\n"
          ]
        },
        {
          "output_type": "stream",
          "name": "stderr",
          "text": [
            "\r 20%|█▉        | 244/1221 [00:44<02:17,  7.08it/s]"
          ]
        },
        {
          "output_type": "stream",
          "name": "stdout",
          "text": [
            "Current Accuracy after processing 243 records: 0.23\n",
            "Current Accuracy after processing 244 records: 0.23\n",
            "Current Accuracy after processing 245 records: 0.23\n",
            "Current Accuracy after processing 246 records: 0.23\n"
          ]
        },
        {
          "output_type": "stream",
          "name": "stderr",
          "text": [
            "\r 20%|██        | 247/1221 [00:44<01:59,  8.15it/s]"
          ]
        },
        {
          "output_type": "stream",
          "name": "stdout",
          "text": [
            "Current Accuracy after processing 247 records: 0.23\n",
            "Current Accuracy after processing 248 records: 0.23\n"
          ]
        },
        {
          "output_type": "stream",
          "name": "stderr",
          "text": [
            " 21%|██        | 251/1221 [00:44<01:51,  8.66it/s]"
          ]
        },
        {
          "output_type": "stream",
          "name": "stdout",
          "text": [
            "Current Accuracy after processing 249 records: 0.23\n",
            "Current Accuracy after processing 250 records: 0.23\n",
            "Current Accuracy after processing 251 records: 0.23\n"
          ]
        },
        {
          "output_type": "stream",
          "name": "stderr",
          "text": [
            " 21%|██        | 255/1221 [00:45<01:41,  9.55it/s]"
          ]
        },
        {
          "output_type": "stream",
          "name": "stdout",
          "text": [
            "Current Accuracy after processing 252 records: 0.23\n",
            "Current Accuracy after processing 253 records: 0.23\n",
            "Current Accuracy after processing 254 records: 0.23\n",
            "Current Accuracy after processing 255 records: 0.23\n",
            "Current Accuracy after processing 256 records: 0.23\n"
          ]
        },
        {
          "output_type": "stream",
          "name": "stderr",
          "text": [
            " 21%|██▏       | 260/1221 [00:45<01:31, 10.48it/s]"
          ]
        },
        {
          "output_type": "stream",
          "name": "stdout",
          "text": [
            "Current Accuracy after processing 257 records: 0.23\n",
            "Current Accuracy after processing 258 records: 0.23\n",
            "Current Accuracy after processing 259 records: 0.23\n",
            "Current Accuracy after processing 260 records: 0.23\n"
          ]
        },
        {
          "output_type": "stream",
          "name": "stderr",
          "text": [
            "\r 21%|██▏       | 262/1221 [00:46<02:02,  7.84it/s]"
          ]
        },
        {
          "output_type": "stream",
          "name": "stdout",
          "text": [
            "Current Accuracy after processing 261 records: 0.23\n",
            "Current Accuracy after processing 262 records: 0.23\n",
            "Current Accuracy after processing 263 records: 0.23\n"
          ]
        },
        {
          "output_type": "stream",
          "name": "stderr",
          "text": [
            " 22%|██▏       | 265/1221 [00:47<02:53,  5.51it/s]"
          ]
        },
        {
          "output_type": "stream",
          "name": "stdout",
          "text": [
            "Current Accuracy after processing 264 records: 0.23\n",
            "Current Accuracy after processing 265 records: 0.23\n",
            "Current Accuracy after processing 266 records: 0.23\n"
          ]
        },
        {
          "output_type": "stream",
          "name": "stderr",
          "text": [
            " 22%|██▏       | 268/1221 [00:47<02:38,  6.03it/s]"
          ]
        },
        {
          "output_type": "stream",
          "name": "stdout",
          "text": [
            "Current Accuracy after processing 267 records: 0.22\n",
            "Current Accuracy after processing 268 records: 0.22\n"
          ]
        },
        {
          "output_type": "stream",
          "name": "stderr",
          "text": [
            "\r 22%|██▏       | 270/1221 [00:47<02:20,  6.77it/s]"
          ]
        },
        {
          "output_type": "stream",
          "name": "stdout",
          "text": [
            "Current Accuracy after processing 269 records: 0.22\n",
            "Current Accuracy after processing 270 records: 0.22\n"
          ]
        },
        {
          "output_type": "stream",
          "name": "stderr",
          "text": [
            "\r 22%|██▏       | 272/1221 [00:47<01:59,  7.96it/s]"
          ]
        },
        {
          "output_type": "stream",
          "name": "stdout",
          "text": [
            "Current Accuracy after processing 271 records: 0.22\n",
            "Current Accuracy after processing 272 records: 0.22\n"
          ]
        },
        {
          "output_type": "stream",
          "name": "stderr",
          "text": [
            "\r 22%|██▏       | 273/1221 [00:48<02:29,  6.34it/s]"
          ]
        },
        {
          "output_type": "stream",
          "name": "stdout",
          "text": [
            "Current Accuracy after processing 273 records: 0.22\n"
          ]
        },
        {
          "output_type": "stream",
          "name": "stderr",
          "text": [
            " 23%|██▎       | 275/1221 [00:48<02:32,  6.19it/s]"
          ]
        },
        {
          "output_type": "stream",
          "name": "stdout",
          "text": [
            "Current Accuracy after processing 274 records: 0.22\n",
            "Current Accuracy after processing 275 records: 0.22\n",
            "Current Accuracy after processing 276 records: 0.22\n"
          ]
        },
        {
          "output_type": "stream",
          "name": "stderr",
          "text": [
            "\r 23%|██▎       | 277/1221 [00:48<01:50,  8.53it/s]"
          ]
        },
        {
          "output_type": "stream",
          "name": "stdout",
          "text": [
            "Current Accuracy after processing 277 records: 0.22\n"
          ]
        },
        {
          "output_type": "stream",
          "name": "stderr",
          "text": [
            "\r 23%|██▎       | 279/1221 [00:48<02:15,  6.95it/s]"
          ]
        },
        {
          "output_type": "stream",
          "name": "stdout",
          "text": [
            "Current Accuracy after processing 278 records: 0.22\n",
            "Current Accuracy after processing 279 records: 0.22\n",
            "Current Accuracy after processing 280 records: 0.22\n"
          ]
        },
        {
          "output_type": "stream",
          "name": "stderr",
          "text": [
            "\r 23%|██▎       | 281/1221 [00:49<01:47,  8.71it/s]"
          ]
        },
        {
          "output_type": "stream",
          "name": "stdout",
          "text": [
            "Current Accuracy after processing 281 records: 0.22\n",
            "Current Accuracy after processing 282 records: 0.22\n"
          ]
        },
        {
          "output_type": "stream",
          "name": "stderr",
          "text": [
            "\r 23%|██▎       | 283/1221 [00:49<02:10,  7.17it/s]"
          ]
        },
        {
          "output_type": "stream",
          "name": "stdout",
          "text": [
            "Current Accuracy after processing 283 records: 0.22\n"
          ]
        },
        {
          "output_type": "stream",
          "name": "stderr",
          "text": [
            "\r 23%|██▎       | 284/1221 [00:49<02:38,  5.92it/s]"
          ]
        },
        {
          "output_type": "stream",
          "name": "stdout",
          "text": [
            "Current Accuracy after processing 284 records: 0.22\n"
          ]
        },
        {
          "output_type": "stream",
          "name": "stderr",
          "text": [
            " 24%|██▎       | 287/1221 [00:50<02:09,  7.19it/s]"
          ]
        },
        {
          "output_type": "stream",
          "name": "stdout",
          "text": [
            "Current Accuracy after processing 285 records: 0.22\n",
            "Current Accuracy after processing 286 records: 0.22\n",
            "Current Accuracy after processing 287 records: 0.22\n"
          ]
        },
        {
          "output_type": "stream",
          "name": "stderr",
          "text": [
            "\r 24%|██▎       | 288/1221 [00:50<02:20,  6.63it/s]"
          ]
        },
        {
          "output_type": "stream",
          "name": "stdout",
          "text": [
            "Current Accuracy after processing 288 records: 0.22\n"
          ]
        },
        {
          "output_type": "stream",
          "name": "stderr",
          "text": [
            " 24%|██▍       | 291/1221 [00:50<01:56,  8.00it/s]"
          ]
        },
        {
          "output_type": "stream",
          "name": "stdout",
          "text": [
            "Current Accuracy after processing 289 records: 0.22\n",
            "Current Accuracy after processing 290 records: 0.22\n",
            "Current Accuracy after processing 291 records: 0.22\n"
          ]
        },
        {
          "output_type": "stream",
          "name": "stderr",
          "text": [
            " 24%|██▍       | 293/1221 [00:50<01:59,  7.76it/s]"
          ]
        },
        {
          "output_type": "stream",
          "name": "stdout",
          "text": [
            "Current Accuracy after processing 292 records: 0.22\n",
            "Current Accuracy after processing 293 records: 0.22\n",
            "Current Accuracy after processing 294 records: 0.21\n"
          ]
        },
        {
          "output_type": "stream",
          "name": "stderr",
          "text": [
            "\r 24%|██▍       | 295/1221 [00:51<02:27,  6.28it/s]"
          ]
        },
        {
          "output_type": "stream",
          "name": "stdout",
          "text": [
            "Current Accuracy after processing 295 records: 0.21\n"
          ]
        },
        {
          "output_type": "stream",
          "name": "stderr",
          "text": [
            "\r 24%|██▍       | 296/1221 [00:51<02:42,  5.70it/s]"
          ]
        },
        {
          "output_type": "stream",
          "name": "stdout",
          "text": [
            "Current Accuracy after processing 296 records: 0.21\n",
            "Current Accuracy after processing 297 records: 0.21\n"
          ]
        },
        {
          "output_type": "stream",
          "name": "stderr",
          "text": [
            "\r 24%|██▍       | 298/1221 [00:52<02:55,  5.26it/s]"
          ]
        },
        {
          "output_type": "stream",
          "name": "stdout",
          "text": [
            "Current Accuracy after processing 298 records: 0.21\n",
            "Current Accuracy after processing 299 records: 0.21\n"
          ]
        },
        {
          "output_type": "stream",
          "name": "stderr",
          "text": [
            "\r 25%|██▍       | 300/1221 [00:52<02:36,  5.90it/s]"
          ]
        },
        {
          "output_type": "stream",
          "name": "stdout",
          "text": [
            "Current Accuracy after processing 300 records: 0.22\n"
          ]
        },
        {
          "output_type": "stream",
          "name": "stderr",
          "text": [
            " 25%|██▍       | 302/1221 [00:52<02:44,  5.60it/s]"
          ]
        },
        {
          "output_type": "stream",
          "name": "stdout",
          "text": [
            "Current Accuracy after processing 301 records: 0.22\n",
            "Current Accuracy after processing 302 records: 0.22\n"
          ]
        },
        {
          "output_type": "stream",
          "name": "stderr",
          "text": [
            "\r 25%|██▍       | 304/1221 [00:52<02:20,  6.54it/s]"
          ]
        },
        {
          "output_type": "stream",
          "name": "stdout",
          "text": [
            "Current Accuracy after processing 303 records: 0.22\n",
            "Current Accuracy after processing 304 records: 0.22\n"
          ]
        },
        {
          "output_type": "stream",
          "name": "stderr",
          "text": [
            " 25%|██▌       | 306/1221 [00:53<02:16,  6.72it/s]"
          ]
        },
        {
          "output_type": "stream",
          "name": "stdout",
          "text": [
            "Current Accuracy after processing 305 records: 0.22\n",
            "Current Accuracy after processing 306 records: 0.22\n"
          ]
        },
        {
          "output_type": "stream",
          "name": "stderr",
          "text": [
            "\r 25%|██▌       | 307/1221 [00:53<02:40,  5.69it/s]"
          ]
        },
        {
          "output_type": "stream",
          "name": "stdout",
          "text": [
            "Current Accuracy after processing 307 records: 0.21\n"
          ]
        },
        {
          "output_type": "stream",
          "name": "stderr",
          "text": [
            "\r 25%|██▌       | 308/1221 [00:53<02:59,  5.08it/s]"
          ]
        },
        {
          "output_type": "stream",
          "name": "stdout",
          "text": [
            "Current Accuracy after processing 308 records: 0.22\n"
          ]
        },
        {
          "output_type": "stream",
          "name": "stderr",
          "text": [
            " 25%|██▌       | 311/1221 [00:54<02:22,  6.41it/s]"
          ]
        },
        {
          "output_type": "stream",
          "name": "stdout",
          "text": [
            "Current Accuracy after processing 309 records: 0.22\n",
            "Current Accuracy after processing 310 records: 0.22\n",
            "Current Accuracy after processing 311 records: 0.22\n"
          ]
        },
        {
          "output_type": "stream",
          "name": "stderr",
          "text": [
            "\r 26%|██▌       | 312/1221 [00:54<02:49,  5.38it/s]"
          ]
        },
        {
          "output_type": "stream",
          "name": "stdout",
          "text": [
            "Current Accuracy after processing 312 records: 0.22\n",
            "Current Accuracy after processing 313 records: 0.22\n"
          ]
        },
        {
          "output_type": "stream",
          "name": "stderr",
          "text": [
            " 26%|██▌       | 316/1221 [00:54<02:08,  7.06it/s]"
          ]
        },
        {
          "output_type": "stream",
          "name": "stdout",
          "text": [
            "Current Accuracy after processing 314 records: 0.22\n",
            "Current Accuracy after processing 315 records: 0.22\n",
            "Current Accuracy after processing 316 records: 0.22\n",
            "Current Accuracy after processing 317 records: 0.21\n"
          ]
        },
        {
          "output_type": "stream",
          "name": "stderr",
          "text": [
            "\r 26%|██▌       | 318/1221 [00:55<02:11,  6.87it/s]"
          ]
        },
        {
          "output_type": "stream",
          "name": "stdout",
          "text": [
            "Current Accuracy after processing 318 records: 0.21\n",
            "Current Accuracy after processing 319 records: 0.21\n"
          ]
        },
        {
          "output_type": "stream",
          "name": "stderr",
          "text": [
            " 26%|██▋       | 322/1221 [00:55<01:56,  7.75it/s]"
          ]
        },
        {
          "output_type": "stream",
          "name": "stdout",
          "text": [
            "Current Accuracy after processing 320 records: 0.21\n",
            "Current Accuracy after processing 321 records: 0.21\n",
            "Current Accuracy after processing 322 records: 0.21\n"
          ]
        },
        {
          "output_type": "stream",
          "name": "stderr",
          "text": [
            " 27%|██▋       | 325/1221 [00:56<01:42,  8.71it/s]"
          ]
        },
        {
          "output_type": "stream",
          "name": "stdout",
          "text": [
            "Current Accuracy after processing 323 records: 0.21\n",
            "Current Accuracy after processing 324 records: 0.21\n",
            "Current Accuracy after processing 325 records: 0.21\n",
            "Current Accuracy after processing 326 records: 0.21\n"
          ]
        },
        {
          "output_type": "stream",
          "name": "stderr",
          "text": [
            " 27%|██▋       | 328/1221 [00:56<01:54,  7.80it/s]"
          ]
        },
        {
          "output_type": "stream",
          "name": "stdout",
          "text": [
            "Current Accuracy after processing 327 records: 0.21\n",
            "Current Accuracy after processing 328 records: 0.21\n"
          ]
        },
        {
          "output_type": "stream",
          "name": "stderr",
          "text": [
            "\r 27%|██▋       | 330/1221 [00:56<01:43,  8.64it/s]"
          ]
        },
        {
          "output_type": "stream",
          "name": "stdout",
          "text": [
            "Current Accuracy after processing 329 records: 0.22\n",
            "Current Accuracy after processing 330 records: 0.22\n"
          ]
        },
        {
          "output_type": "stream",
          "name": "stderr",
          "text": [
            "\r 27%|██▋       | 331/1221 [00:56<02:07,  6.97it/s]"
          ]
        },
        {
          "output_type": "stream",
          "name": "stdout",
          "text": [
            "Current Accuracy after processing 331 records: 0.21\n",
            "Current Accuracy after processing 332 records: 0.21\n"
          ]
        },
        {
          "output_type": "stream",
          "name": "stderr",
          "text": [
            " 27%|██▋       | 335/1221 [00:57<01:42,  8.64it/s]"
          ]
        },
        {
          "output_type": "stream",
          "name": "stdout",
          "text": [
            "Current Accuracy after processing 333 records: 0.22\n",
            "Current Accuracy after processing 334 records: 0.22\n",
            "Current Accuracy after processing 335 records: 0.22\n"
          ]
        },
        {
          "output_type": "stream",
          "name": "stderr",
          "text": [
            " 28%|██▊       | 339/1221 [00:57<01:27, 10.08it/s]"
          ]
        },
        {
          "output_type": "stream",
          "name": "stdout",
          "text": [
            "Current Accuracy after processing 336 records: 0.22\n",
            "Current Accuracy after processing 337 records: 0.22\n",
            "Current Accuracy after processing 338 records: 0.22\n",
            "Current Accuracy after processing 339 records: 0.22\n",
            "Current Accuracy after processing 340 records: 0.21\n"
          ]
        },
        {
          "output_type": "stream",
          "name": "stderr",
          "text": [
            " 28%|██▊       | 343/1221 [00:58<01:19, 11.09it/s]"
          ]
        },
        {
          "output_type": "stream",
          "name": "stdout",
          "text": [
            "Current Accuracy after processing 341 records: 0.22\n",
            "Current Accuracy after processing 342 records: 0.22\n",
            "Current Accuracy after processing 343 records: 0.22\n"
          ]
        },
        {
          "output_type": "stream",
          "name": "stderr",
          "text": [
            "\r 28%|██▊       | 345/1221 [00:58<01:17, 11.33it/s]"
          ]
        },
        {
          "output_type": "stream",
          "name": "stdout",
          "text": [
            "Current Accuracy after processing 344 records: 0.22\n",
            "Current Accuracy after processing 345 records: 0.21\n",
            "Current Accuracy after processing 346 records: 0.21\n"
          ]
        },
        {
          "output_type": "stream",
          "name": "stderr",
          "text": [
            " 29%|██▊       | 350/1221 [00:58<01:20, 10.78it/s]"
          ]
        },
        {
          "output_type": "stream",
          "name": "stdout",
          "text": [
            "Current Accuracy after processing 347 records: 0.21\n",
            "Current Accuracy after processing 348 records: 0.21\n",
            "Current Accuracy after processing 349 records: 0.21\n",
            "Current Accuracy after processing 350 records: 0.21\n",
            "Current Accuracy after processing 351 records: 0.21\n"
          ]
        },
        {
          "output_type": "stream",
          "name": "stderr",
          "text": [
            " 29%|██▉       | 354/1221 [00:59<01:32,  9.42it/s]"
          ]
        },
        {
          "output_type": "stream",
          "name": "stdout",
          "text": [
            "Current Accuracy after processing 352 records: 0.21\n",
            "Current Accuracy after processing 353 records: 0.21\n",
            "Current Accuracy after processing 354 records: 0.21\n"
          ]
        },
        {
          "output_type": "stream",
          "name": "stderr",
          "text": [
            "\r 29%|██▉       | 356/1221 [00:59<01:24, 10.27it/s]"
          ]
        },
        {
          "output_type": "stream",
          "name": "stdout",
          "text": [
            "Current Accuracy after processing 355 records: 0.21\n",
            "Current Accuracy after processing 356 records: 0.21\n",
            "Current Accuracy after processing 357 records: 0.21\n"
          ]
        },
        {
          "output_type": "stream",
          "name": "stderr",
          "text": [
            " 29%|██▉       | 360/1221 [00:59<01:25, 10.03it/s]"
          ]
        },
        {
          "output_type": "stream",
          "name": "stdout",
          "text": [
            "Current Accuracy after processing 358 records: 0.21\n",
            "Current Accuracy after processing 359 records: 0.21\n",
            "Current Accuracy after processing 360 records: 0.21\n",
            "Current Accuracy after processing 361 records: 0.21\n"
          ]
        },
        {
          "output_type": "stream",
          "name": "stderr",
          "text": [
            "\r 30%|██▉       | 362/1221 [00:59<01:23, 10.26it/s]"
          ]
        },
        {
          "output_type": "stream",
          "name": "stdout",
          "text": [
            "Current Accuracy after processing 362 records: 0.22\n",
            "Current Accuracy after processing 363 records: 0.21\n"
          ]
        },
        {
          "output_type": "stream",
          "name": "stderr",
          "text": [
            "\r 30%|██▉       | 364/1221 [01:00<01:25,  9.99it/s]"
          ]
        },
        {
          "output_type": "stream",
          "name": "stdout",
          "text": [
            "Current Accuracy after processing 364 records: 0.21\n",
            "Current Accuracy after processing 365 records: 0.22\n"
          ]
        },
        {
          "output_type": "stream",
          "name": "stderr",
          "text": [
            "\r 30%|██▉       | 366/1221 [01:00<01:39,  8.64it/s]"
          ]
        },
        {
          "output_type": "stream",
          "name": "stdout",
          "text": [
            "Current Accuracy after processing 366 records: 0.22\n",
            "Current Accuracy after processing 367 records: 0.22\n"
          ]
        },
        {
          "output_type": "stream",
          "name": "stderr",
          "text": [
            "\r 30%|███       | 368/1221 [01:00<01:48,  7.88it/s]"
          ]
        },
        {
          "output_type": "stream",
          "name": "stdout",
          "text": [
            "Current Accuracy after processing 368 records: 0.22\n"
          ]
        },
        {
          "output_type": "stream",
          "name": "stderr",
          "text": [
            "\r 30%|███       | 369/1221 [01:01<02:12,  6.42it/s]"
          ]
        },
        {
          "output_type": "stream",
          "name": "stdout",
          "text": [
            "Current Accuracy after processing 369 records: 0.22\n",
            "Current Accuracy after processing 370 records: 0.22\n"
          ]
        },
        {
          "output_type": "stream",
          "name": "stderr",
          "text": [
            " 31%|███       | 373/1221 [01:01<01:53,  7.45it/s]"
          ]
        },
        {
          "output_type": "stream",
          "name": "stdout",
          "text": [
            "Current Accuracy after processing 371 records: 0.22\n",
            "Current Accuracy after processing 372 records: 0.22\n",
            "Current Accuracy after processing 373 records: 0.21\n"
          ]
        },
        {
          "output_type": "stream",
          "name": "stderr",
          "text": [
            "\r 31%|███       | 375/1221 [01:01<01:33,  9.04it/s]"
          ]
        },
        {
          "output_type": "stream",
          "name": "stdout",
          "text": [
            "Current Accuracy after processing 374 records: 0.21\n",
            "Current Accuracy after processing 375 records: 0.21\n",
            "Current Accuracy after processing 376 records: 0.21\n"
          ]
        },
        {
          "output_type": "stream",
          "name": "stderr",
          "text": [
            "\r 31%|███       | 377/1221 [01:01<01:30,  9.30it/s]"
          ]
        },
        {
          "output_type": "stream",
          "name": "stdout",
          "text": [
            "Current Accuracy after processing 377 records: 0.21\n",
            "Current Accuracy after processing 378 records: 0.21\n"
          ]
        },
        {
          "output_type": "stream",
          "name": "stderr",
          "text": [
            "\r 31%|███       | 379/1221 [01:02<01:29,  9.37it/s]"
          ]
        },
        {
          "output_type": "stream",
          "name": "stdout",
          "text": [
            "Current Accuracy after processing 379 records: 0.21\n",
            "Current Accuracy after processing 380 records: 0.21\n"
          ]
        },
        {
          "output_type": "stream",
          "name": "stderr",
          "text": [
            " 31%|███▏      | 382/1221 [01:02<02:16,  6.13it/s]"
          ]
        },
        {
          "output_type": "stream",
          "name": "stdout",
          "text": [
            "Current Accuracy after processing 381 records: 0.21\n",
            "Current Accuracy after processing 382 records: 0.21\n"
          ]
        },
        {
          "output_type": "stream",
          "name": "stderr",
          "text": [
            " 32%|███▏      | 385/1221 [01:03<01:53,  7.36it/s]"
          ]
        },
        {
          "output_type": "stream",
          "name": "stdout",
          "text": [
            "Current Accuracy after processing 383 records: 0.21\n",
            "Current Accuracy after processing 384 records: 0.21\n",
            "Current Accuracy after processing 385 records: 0.21\n"
          ]
        },
        {
          "output_type": "stream",
          "name": "stderr",
          "text": [
            "\r 32%|███▏      | 386/1221 [01:03<01:58,  7.05it/s]"
          ]
        },
        {
          "output_type": "stream",
          "name": "stdout",
          "text": [
            "Current Accuracy after processing 386 records: 0.21\n",
            "Current Accuracy after processing 387 records: 0.21\n"
          ]
        },
        {
          "output_type": "stream",
          "name": "stderr",
          "text": [
            "\r 32%|███▏      | 388/1221 [01:03<02:12,  6.30it/s]"
          ]
        },
        {
          "output_type": "stream",
          "name": "stdout",
          "text": [
            "Current Accuracy after processing 388 records: 0.21\n"
          ]
        },
        {
          "output_type": "stream",
          "name": "stderr",
          "text": [
            "\r 32%|███▏      | 389/1221 [01:04<02:36,  5.30it/s]"
          ]
        },
        {
          "output_type": "stream",
          "name": "stdout",
          "text": [
            "Current Accuracy after processing 389 records: 0.21\n",
            "Current Accuracy after processing 390 records: 0.21\n"
          ]
        },
        {
          "output_type": "stream",
          "name": "stderr",
          "text": [
            " 32%|███▏      | 393/1221 [01:04<01:52,  7.34it/s]"
          ]
        },
        {
          "output_type": "stream",
          "name": "stdout",
          "text": [
            "Current Accuracy after processing 391 records: 0.21\n",
            "Current Accuracy after processing 392 records: 0.21\n",
            "Current Accuracy after processing 393 records: 0.21\n"
          ]
        },
        {
          "output_type": "stream",
          "name": "stderr",
          "text": [
            "\r 32%|███▏      | 394/1221 [01:04<02:13,  6.20it/s]"
          ]
        },
        {
          "output_type": "stream",
          "name": "stdout",
          "text": [
            "Current Accuracy after processing 394 records: 0.21\n",
            "Current Accuracy after processing 395 records: 0.21\n"
          ]
        },
        {
          "output_type": "stream",
          "name": "stderr",
          "text": [
            " 33%|███▎      | 398/1221 [01:05<01:39,  8.25it/s]"
          ]
        },
        {
          "output_type": "stream",
          "name": "stdout",
          "text": [
            "Current Accuracy after processing 396 records: 0.21\n",
            "Current Accuracy after processing 397 records: 0.21\n",
            "Current Accuracy after processing 398 records: 0.21\n"
          ]
        },
        {
          "output_type": "stream",
          "name": "stderr",
          "text": [
            " 33%|███▎      | 400/1221 [01:05<01:53,  7.21it/s]"
          ]
        },
        {
          "output_type": "stream",
          "name": "stdout",
          "text": [
            "Current Accuracy after processing 399 records: 0.21\n",
            "Current Accuracy after processing 400 records: 0.21\n",
            "Current Accuracy after processing 401 records: 0.21\n"
          ]
        },
        {
          "output_type": "stream",
          "name": "stderr",
          "text": [
            " 33%|███▎      | 403/1221 [01:06<02:21,  5.77it/s]"
          ]
        },
        {
          "output_type": "stream",
          "name": "stdout",
          "text": [
            "Current Accuracy after processing 402 records: 0.21\n",
            "Current Accuracy after processing 403 records: 0.21\n"
          ]
        },
        {
          "output_type": "stream",
          "name": "stderr",
          "text": [
            "\r 33%|███▎      | 405/1221 [01:06<01:44,  7.79it/s]"
          ]
        },
        {
          "output_type": "stream",
          "name": "stdout",
          "text": [
            "Current Accuracy after processing 404 records: 0.21\n",
            "Current Accuracy after processing 405 records: 0.21\n"
          ]
        },
        {
          "output_type": "stream",
          "name": "stderr",
          "text": [
            "\r 33%|███▎      | 407/1221 [01:06<01:44,  7.77it/s]"
          ]
        },
        {
          "output_type": "stream",
          "name": "stdout",
          "text": [
            "Current Accuracy after processing 406 records: 0.21\n",
            "Current Accuracy after processing 407 records: 0.21\n"
          ]
        },
        {
          "output_type": "stream",
          "name": "stderr",
          "text": [
            " 34%|███▎      | 410/1221 [01:06<01:34,  8.58it/s]"
          ]
        },
        {
          "output_type": "stream",
          "name": "stdout",
          "text": [
            "Current Accuracy after processing 408 records: 0.21\n",
            "Current Accuracy after processing 409 records: 0.21\n",
            "Current Accuracy after processing 410 records: 0.21\n",
            "Current Accuracy after processing 411 records: 0.21\n"
          ]
        },
        {
          "output_type": "stream",
          "name": "stderr",
          "text": [
            " 34%|███▍      | 413/1221 [01:07<01:44,  7.75it/s]"
          ]
        },
        {
          "output_type": "stream",
          "name": "stdout",
          "text": [
            "Current Accuracy after processing 412 records: 0.21\n",
            "Current Accuracy after processing 413 records: 0.21\n"
          ]
        },
        {
          "output_type": "stream",
          "name": "stderr",
          "text": [
            " 34%|███▍      | 416/1221 [01:07<01:24,  9.52it/s]"
          ]
        },
        {
          "output_type": "stream",
          "name": "stdout",
          "text": [
            "Current Accuracy after processing 414 records: 0.21\n",
            "Current Accuracy after processing 415 records: 0.21\n",
            "Current Accuracy after processing 416 records: 0.21\n",
            "Current Accuracy after processing 417 records: 0.21\n"
          ]
        },
        {
          "output_type": "stream",
          "name": "stderr",
          "text": [
            " 34%|███▍      | 420/1221 [01:07<01:09, 11.59it/s]"
          ]
        },
        {
          "output_type": "stream",
          "name": "stdout",
          "text": [
            "Current Accuracy after processing 418 records: 0.21\n",
            "Current Accuracy after processing 419 records: 0.21\n",
            "Current Accuracy after processing 420 records: 0.21\n",
            "Current Accuracy after processing 421 records: 0.21\n"
          ]
        },
        {
          "output_type": "stream",
          "name": "stderr",
          "text": [
            " 35%|███▍      | 424/1221 [01:08<01:10, 11.24it/s]"
          ]
        },
        {
          "output_type": "stream",
          "name": "stdout",
          "text": [
            "Current Accuracy after processing 422 records: 0.21\n",
            "Current Accuracy after processing 423 records: 0.21\n",
            "Current Accuracy after processing 424 records: 0.21\n"
          ]
        },
        {
          "output_type": "stream",
          "name": "stderr",
          "text": [
            "\r 35%|███▍      | 426/1221 [01:08<01:25,  9.33it/s]"
          ]
        },
        {
          "output_type": "stream",
          "name": "stdout",
          "text": [
            "Current Accuracy after processing 425 records: 0.21\n",
            "Current Accuracy after processing 426 records: 0.21\n",
            "Current Accuracy after processing 427 records: 0.21\n"
          ]
        },
        {
          "output_type": "stream",
          "name": "stderr",
          "text": [
            "\r 35%|███▌      | 428/1221 [01:08<01:44,  7.57it/s]"
          ]
        },
        {
          "output_type": "stream",
          "name": "stdout",
          "text": [
            "Current Accuracy after processing 428 records: 0.21\n",
            "Current Accuracy after processing 429 records: 0.21\n",
            "Current Accuracy after processing 430 records: 0.21\n"
          ]
        },
        {
          "output_type": "stream",
          "name": "stderr",
          "text": [
            "\r 35%|███▌      | 431/1221 [01:09<01:27,  8.99it/s]"
          ]
        },
        {
          "output_type": "stream",
          "name": "stdout",
          "text": [
            "Current Accuracy after processing 431 records: 0.21\n",
            "Current Accuracy after processing 432 records: 0.21\n",
            "Current Accuracy after processing 433 records: 0.21\n"
          ]
        },
        {
          "output_type": "stream",
          "name": "stderr",
          "text": [
            "\r 36%|███▌      | 434/1221 [01:09<01:15, 10.37it/s]"
          ]
        },
        {
          "output_type": "stream",
          "name": "stdout",
          "text": [
            "Current Accuracy after processing 434 records: 0.21\n",
            "Current Accuracy after processing 435 records: 0.21\n"
          ]
        },
        {
          "output_type": "stream",
          "name": "stderr",
          "text": [
            "\r 36%|███▌      | 436/1221 [01:09<01:24,  9.25it/s]"
          ]
        },
        {
          "output_type": "stream",
          "name": "stdout",
          "text": [
            "Current Accuracy after processing 436 records: 0.21\n",
            "Current Accuracy after processing 437 records: 0.21\n"
          ]
        },
        {
          "output_type": "stream",
          "name": "stderr",
          "text": [
            " 36%|███▌      | 439/1221 [01:10<01:37,  8.06it/s]"
          ]
        },
        {
          "output_type": "stream",
          "name": "stdout",
          "text": [
            "Current Accuracy after processing 438 records: 0.21\n",
            "Current Accuracy after processing 439 records: 0.21\n",
            "Current Accuracy after processing 440 records: 0.21\n"
          ]
        },
        {
          "output_type": "stream",
          "name": "stderr",
          "text": [
            " 36%|███▋      | 444/1221 [01:10<01:05, 11.77it/s]"
          ]
        },
        {
          "output_type": "stream",
          "name": "stdout",
          "text": [
            "Current Accuracy after processing 441 records: 0.21\n",
            "Current Accuracy after processing 442 records: 0.21\n",
            "Current Accuracy after processing 443 records: 0.21\n",
            "Current Accuracy after processing 444 records: 0.21\n"
          ]
        },
        {
          "output_type": "stream",
          "name": "stderr",
          "text": [
            "\r 37%|███▋      | 446/1221 [01:10<01:24,  9.17it/s]"
          ]
        },
        {
          "output_type": "stream",
          "name": "stdout",
          "text": [
            "Current Accuracy after processing 445 records: 0.21\n",
            "Current Accuracy after processing 446 records: 0.21\n"
          ]
        },
        {
          "output_type": "stream",
          "name": "stderr",
          "text": [
            " 37%|███▋      | 450/1221 [01:11<01:20,  9.56it/s]"
          ]
        },
        {
          "output_type": "stream",
          "name": "stdout",
          "text": [
            "Current Accuracy after processing 447 records: 0.21\n",
            "Current Accuracy after processing 448 records: 0.21\n",
            "Current Accuracy after processing 449 records: 0.21\n",
            "Current Accuracy after processing 450 records: 0.21\n"
          ]
        },
        {
          "output_type": "stream",
          "name": "stderr",
          "text": [
            "\r 37%|███▋      | 452/1221 [01:11<01:33,  8.26it/s]"
          ]
        },
        {
          "output_type": "stream",
          "name": "stdout",
          "text": [
            "Current Accuracy after processing 451 records: 0.21\n",
            "Current Accuracy after processing 452 records: 0.21\n",
            "Current Accuracy after processing 453 records: 0.21\n"
          ]
        },
        {
          "output_type": "stream",
          "name": "stderr",
          "text": [
            " 37%|███▋      | 456/1221 [01:12<02:05,  6.08it/s]"
          ]
        },
        {
          "output_type": "stream",
          "name": "stdout",
          "text": [
            "Current Accuracy after processing 454 records: 0.21\n",
            "Current Accuracy after processing 455 records: 0.21\n",
            "Current Accuracy after processing 456 records: 0.21\n"
          ]
        },
        {
          "output_type": "stream",
          "name": "stderr",
          "text": [
            "\r 38%|███▊      | 458/1221 [01:12<01:47,  7.07it/s]"
          ]
        },
        {
          "output_type": "stream",
          "name": "stdout",
          "text": [
            "Current Accuracy after processing 457 records: 0.21\n",
            "Current Accuracy after processing 458 records: 0.21\n"
          ]
        },
        {
          "output_type": "stream",
          "name": "stderr",
          "text": [
            "\r 38%|███▊      | 459/1221 [01:12<01:44,  7.26it/s]"
          ]
        },
        {
          "output_type": "stream",
          "name": "stdout",
          "text": [
            "Current Accuracy after processing 459 records: 0.21\n"
          ]
        },
        {
          "output_type": "stream",
          "name": "stderr",
          "text": [
            " 38%|███▊      | 461/1221 [01:13<02:05,  6.04it/s]"
          ]
        },
        {
          "output_type": "stream",
          "name": "stdout",
          "text": [
            "Current Accuracy after processing 460 records: 0.21\n",
            "Current Accuracy after processing 461 records: 0.21\n",
            "Current Accuracy after processing 462 records: 0.21\n"
          ]
        },
        {
          "output_type": "stream",
          "name": "stderr",
          "text": [
            "\r 38%|███▊      | 463/1221 [01:13<01:55,  6.58it/s]"
          ]
        },
        {
          "output_type": "stream",
          "name": "stdout",
          "text": [
            "Current Accuracy after processing 463 records: 0.21\n",
            "Current Accuracy after processing 464 records: 0.21\n"
          ]
        },
        {
          "output_type": "stream",
          "name": "stderr",
          "text": [
            "\r 38%|███▊      | 465/1221 [01:13<01:55,  6.53it/s]"
          ]
        },
        {
          "output_type": "stream",
          "name": "stdout",
          "text": [
            "Current Accuracy after processing 465 records: 0.21\n",
            "Current Accuracy after processing 466 records: 0.21\n"
          ]
        },
        {
          "output_type": "stream",
          "name": "stderr",
          "text": [
            "\r 38%|███▊      | 467/1221 [01:14<02:01,  6.19it/s]"
          ]
        },
        {
          "output_type": "stream",
          "name": "stdout",
          "text": [
            "Current Accuracy after processing 467 records: 0.21\n",
            "Current Accuracy after processing 468 records: 0.21\n"
          ]
        },
        {
          "output_type": "stream",
          "name": "stderr",
          "text": [
            " 38%|███▊      | 470/1221 [01:14<02:03,  6.10it/s]"
          ]
        },
        {
          "output_type": "stream",
          "name": "stdout",
          "text": [
            "Current Accuracy after processing 469 records: 0.21\n",
            "Current Accuracy after processing 470 records: 0.21\n"
          ]
        },
        {
          "output_type": "stream",
          "name": "stderr",
          "text": [
            "\r 39%|███▊      | 472/1221 [01:14<01:52,  6.64it/s]"
          ]
        },
        {
          "output_type": "stream",
          "name": "stdout",
          "text": [
            "Current Accuracy after processing 471 records: 0.21\n",
            "Current Accuracy after processing 472 records: 0.21\n"
          ]
        },
        {
          "output_type": "stream",
          "name": "stderr",
          "text": [
            " 39%|███▉      | 476/1221 [01:15<01:24,  8.80it/s]"
          ]
        },
        {
          "output_type": "stream",
          "name": "stdout",
          "text": [
            "Current Accuracy after processing 473 records: 0.21\n",
            "Current Accuracy after processing 474 records: 0.21\n",
            "Current Accuracy after processing 475 records: 0.21\n",
            "Current Accuracy after processing 476 records: 0.21\n",
            "Current Accuracy after processing 477 records: 0.21\n"
          ]
        },
        {
          "output_type": "stream",
          "name": "stderr",
          "text": [
            "\r 39%|███▉      | 478/1221 [01:15<01:32,  8.06it/s]"
          ]
        },
        {
          "output_type": "stream",
          "name": "stdout",
          "text": [
            "Current Accuracy after processing 478 records: 0.21\n"
          ]
        },
        {
          "output_type": "stream",
          "name": "stderr",
          "text": [
            "\r 39%|███▉      | 479/1221 [01:15<01:44,  7.07it/s]"
          ]
        },
        {
          "output_type": "stream",
          "name": "stdout",
          "text": [
            "Current Accuracy after processing 479 records: 0.21\n",
            "Current Accuracy after processing 480 records: 0.21\n",
            "Current Accuracy after processing 481 records: 0.21\n"
          ]
        },
        {
          "output_type": "stream",
          "name": "stderr",
          "text": [
            " 40%|███▉      | 484/1221 [01:16<01:26,  8.54it/s]"
          ]
        },
        {
          "output_type": "stream",
          "name": "stdout",
          "text": [
            "Current Accuracy after processing 482 records: 0.21\n",
            "Current Accuracy after processing 483 records: 0.21\n",
            "Current Accuracy after processing 484 records: 0.21\n"
          ]
        },
        {
          "output_type": "stream",
          "name": "stderr",
          "text": [
            " 40%|███▉      | 487/1221 [01:16<01:43,  7.11it/s]"
          ]
        },
        {
          "output_type": "stream",
          "name": "stdout",
          "text": [
            "Current Accuracy after processing 485 records: 0.21\n",
            "Current Accuracy after processing 486 records: 0.21\n",
            "Current Accuracy after processing 487 records: 0.21\n"
          ]
        },
        {
          "output_type": "stream",
          "name": "stderr",
          "text": [
            " 40%|████      | 490/1221 [01:17<01:29,  8.20it/s]"
          ]
        },
        {
          "output_type": "stream",
          "name": "stdout",
          "text": [
            "Current Accuracy after processing 488 records: 0.21\n",
            "Current Accuracy after processing 489 records: 0.21\n",
            "Current Accuracy after processing 490 records: 0.21\n",
            "Current Accuracy after processing 491 records: 0.21\n"
          ]
        },
        {
          "output_type": "stream",
          "name": "stderr",
          "text": [
            "\r 40%|████      | 492/1221 [01:17<01:56,  6.26it/s]"
          ]
        },
        {
          "output_type": "stream",
          "name": "stdout",
          "text": [
            "Current Accuracy after processing 492 records: 0.21\n"
          ]
        },
        {
          "output_type": "stream",
          "name": "stderr",
          "text": [
            " 40%|████      | 494/1221 [01:18<02:25,  4.98it/s]"
          ]
        },
        {
          "output_type": "stream",
          "name": "stdout",
          "text": [
            "Current Accuracy after processing 493 records: 0.21\n",
            "Current Accuracy after processing 494 records: 0.21\n"
          ]
        },
        {
          "output_type": "stream",
          "name": "stderr",
          "text": [
            "\r 41%|████      | 495/1221 [01:18<02:20,  5.15it/s]"
          ]
        },
        {
          "output_type": "stream",
          "name": "stdout",
          "text": [
            "Current Accuracy after processing 495 records: 0.21\n"
          ]
        },
        {
          "output_type": "stream",
          "name": "stderr",
          "text": [
            "\r 41%|████      | 496/1221 [01:18<02:26,  4.95it/s]"
          ]
        },
        {
          "output_type": "stream",
          "name": "stdout",
          "text": [
            "Current Accuracy after processing 496 records: 0.22\n",
            "Current Accuracy after processing 497 records: 0.22\n"
          ]
        },
        {
          "output_type": "stream",
          "name": "stderr",
          "text": [
            " 41%|████      | 500/1221 [01:19<01:40,  7.17it/s]"
          ]
        },
        {
          "output_type": "stream",
          "name": "stdout",
          "text": [
            "Current Accuracy after processing 498 records: 0.22\n",
            "Current Accuracy after processing 499 records: 0.22\n",
            "Current Accuracy after processing 500 records: 0.22\n"
          ]
        },
        {
          "output_type": "stream",
          "name": "stderr",
          "text": [
            " 41%|████      | 502/1221 [01:19<01:47,  6.69it/s]"
          ]
        },
        {
          "output_type": "stream",
          "name": "stdout",
          "text": [
            "Current Accuracy after processing 501 records: 0.22\n",
            "Current Accuracy after processing 502 records: 0.22\n",
            "Current Accuracy after processing 503 records: 0.21\n",
            "Current Accuracy after processing 504 records: 0.22\n"
          ]
        },
        {
          "output_type": "stream",
          "name": "stderr",
          "text": [
            "\r 41%|████▏     | 505/1221 [01:19<01:37,  7.33it/s]"
          ]
        },
        {
          "output_type": "stream",
          "name": "stdout",
          "text": [
            "Current Accuracy after processing 505 records: 0.22\n"
          ]
        },
        {
          "output_type": "stream",
          "name": "stderr",
          "text": [
            " 42%|████▏     | 507/1221 [01:20<01:51,  6.40it/s]"
          ]
        },
        {
          "output_type": "stream",
          "name": "stdout",
          "text": [
            "Current Accuracy after processing 506 records: 0.22\n",
            "Current Accuracy after processing 507 records: 0.21\n",
            "Current Accuracy after processing 508 records: 0.21\n"
          ]
        },
        {
          "output_type": "stream",
          "name": "stderr",
          "text": [
            " 42%|████▏     | 511/1221 [01:20<01:14,  9.51it/s]"
          ]
        },
        {
          "output_type": "stream",
          "name": "stdout",
          "text": [
            "Current Accuracy after processing 509 records: 0.21\n",
            "Current Accuracy after processing 510 records: 0.22\n",
            "Current Accuracy after processing 511 records: 0.22\n",
            "Current Accuracy after processing 512 records: 0.21\n"
          ]
        },
        {
          "output_type": "stream",
          "name": "stderr",
          "text": [
            "\r 42%|████▏     | 513/1221 [01:20<01:22,  8.56it/s]"
          ]
        },
        {
          "output_type": "stream",
          "name": "stdout",
          "text": [
            "Current Accuracy after processing 513 records: 0.22\n",
            "Current Accuracy after processing 514 records: 0.22\n"
          ]
        },
        {
          "output_type": "stream",
          "name": "stderr",
          "text": [
            " 42%|████▏     | 516/1221 [01:21<01:38,  7.14it/s]"
          ]
        },
        {
          "output_type": "stream",
          "name": "stdout",
          "text": [
            "Current Accuracy after processing 515 records: 0.22\n",
            "Current Accuracy after processing 516 records: 0.22\n",
            "Current Accuracy after processing 517 records: 0.22\n"
          ]
        },
        {
          "output_type": "stream",
          "name": "stderr",
          "text": [
            "\r 42%|████▏     | 518/1221 [01:21<01:19,  8.83it/s]"
          ]
        },
        {
          "output_type": "stream",
          "name": "stdout",
          "text": [
            "Current Accuracy after processing 518 records: 0.22\n",
            "Current Accuracy after processing 519 records: 0.22\n"
          ]
        },
        {
          "output_type": "stream",
          "name": "stderr",
          "text": [
            " 43%|████▎     | 521/1221 [01:21<01:21,  8.60it/s]"
          ]
        },
        {
          "output_type": "stream",
          "name": "stdout",
          "text": [
            "Current Accuracy after processing 520 records: 0.22\n",
            "Current Accuracy after processing 521 records: 0.22\n"
          ]
        },
        {
          "output_type": "stream",
          "name": "stderr",
          "text": [
            " 43%|████▎     | 524/1221 [01:21<01:10,  9.91it/s]"
          ]
        },
        {
          "output_type": "stream",
          "name": "stdout",
          "text": [
            "Current Accuracy after processing 522 records: 0.22\n",
            "Current Accuracy after processing 523 records: 0.22\n",
            "Current Accuracy after processing 524 records: 0.22\n",
            "Current Accuracy after processing 525 records: 0.22\n"
          ]
        },
        {
          "output_type": "stream",
          "name": "stderr",
          "text": [
            " 43%|████▎     | 527/1221 [01:22<01:25,  8.10it/s]"
          ]
        },
        {
          "output_type": "stream",
          "name": "stdout",
          "text": [
            "Current Accuracy after processing 526 records: 0.22\n",
            "Current Accuracy after processing 527 records: 0.22\n"
          ]
        },
        {
          "output_type": "stream",
          "name": "stderr",
          "text": [
            " 43%|████▎     | 530/1221 [01:22<01:12,  9.51it/s]"
          ]
        },
        {
          "output_type": "stream",
          "name": "stdout",
          "text": [
            "Current Accuracy after processing 528 records: 0.22\n",
            "Current Accuracy after processing 529 records: 0.22\n",
            "Current Accuracy after processing 530 records: 0.22\n",
            "Current Accuracy after processing 531 records: 0.22\n"
          ]
        },
        {
          "output_type": "stream",
          "name": "stderr",
          "text": [
            "\r 44%|████▎     | 532/1221 [01:22<01:13,  9.32it/s]"
          ]
        },
        {
          "output_type": "stream",
          "name": "stdout",
          "text": [
            "Current Accuracy after processing 532 records: 0.22\n",
            "Current Accuracy after processing 533 records: 0.22\n"
          ]
        },
        {
          "output_type": "stream",
          "name": "stderr",
          "text": [
            "\r 44%|████▎     | 534/1221 [01:23<01:14,  9.18it/s]"
          ]
        },
        {
          "output_type": "stream",
          "name": "stdout",
          "text": [
            "Current Accuracy after processing 534 records: 0.22\n"
          ]
        },
        {
          "output_type": "stream",
          "name": "stderr",
          "text": [
            " 44%|████▍     | 536/1221 [01:23<01:35,  7.14it/s]"
          ]
        },
        {
          "output_type": "stream",
          "name": "stdout",
          "text": [
            "Current Accuracy after processing 535 records: 0.22\n",
            "Current Accuracy after processing 536 records: 0.22\n",
            "Current Accuracy after processing 537 records: 0.22\n"
          ]
        },
        {
          "output_type": "stream",
          "name": "stderr",
          "text": [
            " 44%|████▍     | 539/1221 [01:24<01:49,  6.21it/s]"
          ]
        },
        {
          "output_type": "stream",
          "name": "stdout",
          "text": [
            "Current Accuracy after processing 538 records: 0.22\n",
            "Current Accuracy after processing 539 records: 0.22\n"
          ]
        },
        {
          "output_type": "stream",
          "name": "stderr",
          "text": [
            "\r 44%|████▍     | 541/1221 [01:24<01:24,  8.01it/s]"
          ]
        },
        {
          "output_type": "stream",
          "name": "stdout",
          "text": [
            "Current Accuracy after processing 540 records: 0.23\n",
            "Current Accuracy after processing 541 records: 0.23\n"
          ]
        },
        {
          "output_type": "stream",
          "name": "stderr",
          "text": [
            "\r 44%|████▍     | 542/1221 [01:24<01:47,  6.31it/s]"
          ]
        },
        {
          "output_type": "stream",
          "name": "stdout",
          "text": [
            "Current Accuracy after processing 542 records: 0.23\n",
            "Current Accuracy after processing 543 records: 0.23\n"
          ]
        },
        {
          "output_type": "stream",
          "name": "stderr",
          "text": [
            "\r 45%|████▍     | 544/1221 [01:24<01:49,  6.18it/s]"
          ]
        },
        {
          "output_type": "stream",
          "name": "stdout",
          "text": [
            "Current Accuracy after processing 544 records: 0.23\n"
          ]
        },
        {
          "output_type": "stream",
          "name": "stderr",
          "text": [
            "\r 45%|████▍     | 545/1221 [01:25<02:04,  5.43it/s]"
          ]
        },
        {
          "output_type": "stream",
          "name": "stdout",
          "text": [
            "Current Accuracy after processing 545 records: 0.23\n",
            "Current Accuracy after processing 546 records: 0.23\n"
          ]
        },
        {
          "output_type": "stream",
          "name": "stderr",
          "text": [
            " 45%|████▍     | 549/1221 [01:25<01:22,  8.16it/s]"
          ]
        },
        {
          "output_type": "stream",
          "name": "stdout",
          "text": [
            "Current Accuracy after processing 547 records: 0.23\n",
            "Current Accuracy after processing 548 records: 0.23\n",
            "Current Accuracy after processing 549 records: 0.23\n"
          ]
        },
        {
          "output_type": "stream",
          "name": "stderr",
          "text": [
            "\r 45%|████▌     | 550/1221 [01:25<01:41,  6.62it/s]"
          ]
        },
        {
          "output_type": "stream",
          "name": "stdout",
          "text": [
            "Current Accuracy after processing 550 records: 0.23\n"
          ]
        },
        {
          "output_type": "stream",
          "name": "stderr",
          "text": [
            "\r 45%|████▌     | 551/1221 [01:26<02:03,  5.43it/s]"
          ]
        },
        {
          "output_type": "stream",
          "name": "stdout",
          "text": [
            "Current Accuracy after processing 551 records: 0.23\n",
            "Current Accuracy after processing 552 records: 0.23\n"
          ]
        },
        {
          "output_type": "stream",
          "name": "stderr",
          "text": [
            " 45%|████▌     | 554/1221 [01:26<01:44,  6.41it/s]"
          ]
        },
        {
          "output_type": "stream",
          "name": "stdout",
          "text": [
            "Current Accuracy after processing 553 records: 0.23\n",
            "Current Accuracy after processing 554 records: 0.23\n",
            "Current Accuracy after processing 555 records: 0.23\n"
          ]
        },
        {
          "output_type": "stream",
          "name": "stderr",
          "text": [
            "\r 46%|████▌     | 556/1221 [01:26<01:22,  8.11it/s]"
          ]
        },
        {
          "output_type": "stream",
          "name": "stdout",
          "text": [
            "Current Accuracy after processing 556 records: 0.23\n",
            "Current Accuracy after processing 557 records: 0.23\n",
            "Current Accuracy after processing 558 records: 0.23\n"
          ]
        },
        {
          "output_type": "stream",
          "name": "stderr",
          "text": [
            "\r 46%|████▌     | 559/1221 [01:26<01:15,  8.73it/s]"
          ]
        },
        {
          "output_type": "stream",
          "name": "stdout",
          "text": [
            "Current Accuracy after processing 559 records: 0.23\n",
            "Current Accuracy after processing 560 records: 0.23\n"
          ]
        },
        {
          "output_type": "stream",
          "name": "stderr",
          "text": [
            " 46%|████▌     | 563/1221 [01:27<01:03, 10.42it/s]"
          ]
        },
        {
          "output_type": "stream",
          "name": "stdout",
          "text": [
            "Current Accuracy after processing 561 records: 0.23\n",
            "Current Accuracy after processing 562 records: 0.23\n",
            "Current Accuracy after processing 563 records: 0.23\n",
            "Current Accuracy after processing 564 records: 0.23\n"
          ]
        },
        {
          "output_type": "stream",
          "name": "stderr",
          "text": [
            "\r 46%|████▋     | 565/1221 [01:27<00:56, 11.69it/s]"
          ]
        },
        {
          "output_type": "stream",
          "name": "stdout",
          "text": [
            "Current Accuracy after processing 565 records: 0.23\n"
          ]
        },
        {
          "output_type": "stream",
          "name": "stderr",
          "text": [
            "\r 46%|████▋     | 567/1221 [01:27<01:15,  8.70it/s]"
          ]
        },
        {
          "output_type": "stream",
          "name": "stdout",
          "text": [
            "Current Accuracy after processing 566 records: 0.23\n",
            "Current Accuracy after processing 567 records: 0.23\n",
            "Current Accuracy after processing 568 records: 0.23\n"
          ]
        },
        {
          "output_type": "stream",
          "name": "stderr",
          "text": [
            " 47%|████▋     | 571/1221 [01:28<01:10,  9.21it/s]"
          ]
        },
        {
          "output_type": "stream",
          "name": "stdout",
          "text": [
            "Current Accuracy after processing 569 records: 0.23\n",
            "Current Accuracy after processing 570 records: 0.23\n",
            "Current Accuracy after processing 571 records: 0.23\n",
            "Current Accuracy after processing 572 records: 0.23\n"
          ]
        },
        {
          "output_type": "stream",
          "name": "stderr",
          "text": [
            "\r 47%|████▋     | 573/1221 [01:28<01:39,  6.49it/s]"
          ]
        },
        {
          "output_type": "stream",
          "name": "stdout",
          "text": [
            "Current Accuracy after processing 573 records: 0.23\n"
          ]
        },
        {
          "output_type": "stream",
          "name": "stderr",
          "text": [
            "\r 47%|████▋     | 574/1221 [01:29<02:02,  5.28it/s]"
          ]
        },
        {
          "output_type": "stream",
          "name": "stdout",
          "text": [
            "Current Accuracy after processing 574 records: 0.23\n"
          ]
        },
        {
          "output_type": "stream",
          "name": "stderr",
          "text": [
            "\r 47%|████▋     | 575/1221 [01:29<02:22,  4.53it/s]"
          ]
        },
        {
          "output_type": "stream",
          "name": "stdout",
          "text": [
            "Current Accuracy after processing 575 records: 0.23\n"
          ]
        },
        {
          "output_type": "stream",
          "name": "stderr",
          "text": [
            " 47%|████▋     | 577/1221 [01:29<02:18,  4.64it/s]"
          ]
        },
        {
          "output_type": "stream",
          "name": "stdout",
          "text": [
            "Current Accuracy after processing 576 records: 0.23\n",
            "Current Accuracy after processing 577 records: 0.23\n",
            "Current Accuracy after processing 578 records: 0.23\n"
          ]
        },
        {
          "output_type": "stream",
          "name": "stderr",
          "text": [
            "\r 47%|████▋     | 579/1221 [01:29<01:40,  6.41it/s]"
          ]
        },
        {
          "output_type": "stream",
          "name": "stdout",
          "text": [
            "Current Accuracy after processing 579 records: 0.23\n",
            "Current Accuracy after processing 580 records: 0.23\n"
          ]
        },
        {
          "output_type": "stream",
          "name": "stderr",
          "text": [
            "\r 48%|████▊     | 581/1221 [01:30<01:27,  7.28it/s]"
          ]
        },
        {
          "output_type": "stream",
          "name": "stdout",
          "text": [
            "Current Accuracy after processing 581 records: 0.23\n",
            "Current Accuracy after processing 582 records: 0.23\n"
          ]
        },
        {
          "output_type": "stream",
          "name": "stderr",
          "text": [
            " 48%|████▊     | 585/1221 [01:30<01:06,  9.59it/s]"
          ]
        },
        {
          "output_type": "stream",
          "name": "stdout",
          "text": [
            "Current Accuracy after processing 583 records: 0.23\n",
            "Current Accuracy after processing 584 records: 0.23\n",
            "Current Accuracy after processing 585 records: 0.23\n"
          ]
        },
        {
          "output_type": "stream",
          "name": "stderr",
          "text": [
            "\r 48%|████▊     | 587/1221 [01:30<01:06,  9.47it/s]"
          ]
        },
        {
          "output_type": "stream",
          "name": "stdout",
          "text": [
            "Current Accuracy after processing 586 records: 0.23\n",
            "Current Accuracy after processing 587 records: 0.23\n",
            "Current Accuracy after processing 588 records: 0.23\n"
          ]
        },
        {
          "output_type": "stream",
          "name": "stderr",
          "text": [
            "\r 48%|████▊     | 589/1221 [01:31<01:18,  8.04it/s]"
          ]
        },
        {
          "output_type": "stream",
          "name": "stdout",
          "text": [
            "Current Accuracy after processing 589 records: 0.23\n"
          ]
        },
        {
          "output_type": "stream",
          "name": "stderr",
          "text": [
            "\r 48%|████▊     | 590/1221 [01:31<01:35,  6.58it/s]"
          ]
        },
        {
          "output_type": "stream",
          "name": "stdout",
          "text": [
            "Current Accuracy after processing 590 records: 0.23\n",
            "Current Accuracy after processing 591 records: 0.23\n"
          ]
        },
        {
          "output_type": "stream",
          "name": "stderr",
          "text": [
            " 49%|████▊     | 594/1221 [01:31<01:18,  8.03it/s]"
          ]
        },
        {
          "output_type": "stream",
          "name": "stdout",
          "text": [
            "Current Accuracy after processing 592 records: 0.23\n",
            "Current Accuracy after processing 593 records: 0.23\n",
            "Current Accuracy after processing 594 records: 0.23\n",
            "Current Accuracy after processing 595 records: 0.23\n"
          ]
        },
        {
          "output_type": "stream",
          "name": "stderr",
          "text": [
            " 49%|████▉     | 599/1221 [01:32<00:47, 12.97it/s]"
          ]
        },
        {
          "output_type": "stream",
          "name": "stdout",
          "text": [
            "Current Accuracy after processing 596 records: 0.23\n",
            "Current Accuracy after processing 597 records: 0.23\n",
            "Current Accuracy after processing 598 records: 0.23\n",
            "Current Accuracy after processing 599 records: 0.23\n",
            "Current Accuracy after processing 600 records: 0.23\n"
          ]
        },
        {
          "output_type": "stream",
          "name": "stderr",
          "text": [
            "\r 49%|████▉     | 601/1221 [01:32<00:47, 13.13it/s]"
          ]
        },
        {
          "output_type": "stream",
          "name": "stdout",
          "text": [
            "Current Accuracy after processing 601 records: 0.23\n",
            "Current Accuracy after processing 602 records: 0.23\n"
          ]
        },
        {
          "output_type": "stream",
          "name": "stderr",
          "text": [
            "\r 49%|████▉     | 603/1221 [01:32<01:01, 10.03it/s]"
          ]
        },
        {
          "output_type": "stream",
          "name": "stdout",
          "text": [
            "Current Accuracy after processing 603 records: 0.23\n",
            "Current Accuracy after processing 604 records: 0.23\n"
          ]
        },
        {
          "output_type": "stream",
          "name": "stderr",
          "text": [
            " 50%|████▉     | 607/1221 [01:32<00:59, 10.33it/s]"
          ]
        },
        {
          "output_type": "stream",
          "name": "stdout",
          "text": [
            "Current Accuracy after processing 605 records: 0.23\n",
            "Current Accuracy after processing 606 records: 0.23\n",
            "Current Accuracy after processing 607 records: 0.23\n",
            "Current Accuracy after processing 608 records: 0.23\n",
            "Current Accuracy after processing 609 records: 0.22\n"
          ]
        },
        {
          "output_type": "stream",
          "name": "stderr",
          "text": [
            "\r 50%|████▉     | 610/1221 [01:33<00:46, 13.06it/s]"
          ]
        },
        {
          "output_type": "stream",
          "name": "stdout",
          "text": [
            "Current Accuracy after processing 610 records: 0.23\n",
            "Current Accuracy after processing 611 records: 0.23\n"
          ]
        },
        {
          "output_type": "stream",
          "name": "stderr",
          "text": [
            "\r 50%|█████     | 612/1221 [01:33<00:53, 11.29it/s]"
          ]
        },
        {
          "output_type": "stream",
          "name": "stdout",
          "text": [
            "Current Accuracy after processing 612 records: 0.23\n",
            "Current Accuracy after processing 613 records: 0.23\n"
          ]
        },
        {
          "output_type": "stream",
          "name": "stderr",
          "text": [
            "\r 50%|█████     | 614/1221 [01:33<00:59, 10.24it/s]"
          ]
        },
        {
          "output_type": "stream",
          "name": "stdout",
          "text": [
            "Current Accuracy after processing 614 records: 0.23\n",
            "Current Accuracy after processing 615 records: 0.23\n"
          ]
        },
        {
          "output_type": "stream",
          "name": "stderr",
          "text": [
            "\r 50%|█████     | 616/1221 [01:33<01:18,  7.66it/s]"
          ]
        },
        {
          "output_type": "stream",
          "name": "stdout",
          "text": [
            "Current Accuracy after processing 616 records: 0.23\n"
          ]
        },
        {
          "output_type": "stream",
          "name": "stderr",
          "text": [
            "\r 51%|█████     | 617/1221 [01:34<01:36,  6.25it/s]"
          ]
        },
        {
          "output_type": "stream",
          "name": "stdout",
          "text": [
            "Current Accuracy after processing 617 records: 0.23\n",
            "Current Accuracy after processing 618 records: 0.23\n"
          ]
        },
        {
          "output_type": "stream",
          "name": "stderr",
          "text": [
            "\r 51%|█████     | 619/1221 [01:34<01:40,  6.01it/s]"
          ]
        },
        {
          "output_type": "stream",
          "name": "stdout",
          "text": [
            "Current Accuracy after processing 619 records: 0.23\n"
          ]
        },
        {
          "output_type": "stream",
          "name": "stderr",
          "text": [
            " 51%|█████     | 621/1221 [01:34<01:44,  5.72it/s]"
          ]
        },
        {
          "output_type": "stream",
          "name": "stdout",
          "text": [
            "Current Accuracy after processing 620 records: 0.23\n",
            "Current Accuracy after processing 621 records: 0.23\n",
            "Current Accuracy after processing 622 records: 0.23\n"
          ]
        },
        {
          "output_type": "stream",
          "name": "stderr",
          "text": [
            "\r 51%|█████     | 623/1221 [01:35<01:16,  7.77it/s]"
          ]
        },
        {
          "output_type": "stream",
          "name": "stdout",
          "text": [
            "Current Accuracy after processing 623 records: 0.23\n"
          ]
        },
        {
          "output_type": "stream",
          "name": "stderr",
          "text": [
            "\r 51%|█████     | 625/1221 [01:35<01:33,  6.39it/s]"
          ]
        },
        {
          "output_type": "stream",
          "name": "stdout",
          "text": [
            "Current Accuracy after processing 624 records: 0.23\n",
            "Current Accuracy after processing 625 records: 0.23\n"
          ]
        },
        {
          "output_type": "stream",
          "name": "stderr",
          "text": [
            " 51%|█████▏    | 627/1221 [01:35<01:32,  6.44it/s]"
          ]
        },
        {
          "output_type": "stream",
          "name": "stdout",
          "text": [
            "Current Accuracy after processing 626 records: 0.23\n",
            "Current Accuracy after processing 627 records: 0.23\n",
            "Current Accuracy after processing 628 records: 0.23\n"
          ]
        },
        {
          "output_type": "stream",
          "name": "stderr",
          "text": [
            "\r 52%|█████▏    | 629/1221 [01:36<01:31,  6.48it/s]"
          ]
        },
        {
          "output_type": "stream",
          "name": "stdout",
          "text": [
            "Current Accuracy after processing 629 records: 0.23\n",
            "Current Accuracy after processing 630 records: 0.23\n"
          ]
        },
        {
          "output_type": "stream",
          "name": "stderr",
          "text": [
            "\r 52%|█████▏    | 631/1221 [01:36<01:33,  6.29it/s]"
          ]
        },
        {
          "output_type": "stream",
          "name": "stdout",
          "text": [
            "Current Accuracy after processing 631 records: 0.23\n"
          ]
        },
        {
          "output_type": "stream",
          "name": "stderr",
          "text": [
            " 52%|█████▏    | 633/1221 [01:36<01:41,  5.80it/s]"
          ]
        },
        {
          "output_type": "stream",
          "name": "stdout",
          "text": [
            "Current Accuracy after processing 632 records: 0.23\n",
            "Current Accuracy after processing 633 records: 0.23\n"
          ]
        },
        {
          "output_type": "stream",
          "name": "stderr",
          "text": [
            "\r 52%|█████▏    | 634/1221 [01:37<01:40,  5.83it/s]"
          ]
        },
        {
          "output_type": "stream",
          "name": "stdout",
          "text": [
            "Current Accuracy after processing 634 records: 0.23\n",
            "Current Accuracy after processing 635 records: 0.23\n"
          ]
        },
        {
          "output_type": "stream",
          "name": "stderr",
          "text": [
            " 52%|█████▏    | 638/1221 [01:37<01:11,  8.10it/s]"
          ]
        },
        {
          "output_type": "stream",
          "name": "stdout",
          "text": [
            "Current Accuracy after processing 636 records: 0.22\n",
            "Current Accuracy after processing 637 records: 0.23\n",
            "Current Accuracy after processing 638 records: 0.23\n",
            "Current Accuracy after processing 639 records: 0.23\n"
          ]
        },
        {
          "output_type": "stream",
          "name": "stderr",
          "text": [
            " 52%|█████▏    | 641/1221 [01:37<01:06,  8.70it/s]"
          ]
        },
        {
          "output_type": "stream",
          "name": "stdout",
          "text": [
            "Current Accuracy after processing 640 records: 0.23\n",
            "Current Accuracy after processing 641 records: 0.22\n",
            "Current Accuracy after processing 642 records: 0.22\n"
          ]
        },
        {
          "output_type": "stream",
          "name": "stderr",
          "text": [
            "\r 53%|█████▎    | 643/1221 [01:37<00:58,  9.86it/s]"
          ]
        },
        {
          "output_type": "stream",
          "name": "stdout",
          "text": [
            "Current Accuracy after processing 643 records: 0.22\n"
          ]
        },
        {
          "output_type": "stream",
          "name": "stderr",
          "text": [
            "\r 53%|█████▎    | 645/1221 [01:38<01:15,  7.66it/s]"
          ]
        },
        {
          "output_type": "stream",
          "name": "stdout",
          "text": [
            "Current Accuracy after processing 644 records: 0.22\n",
            "Current Accuracy after processing 645 records: 0.22\n",
            "Current Accuracy after processing 646 records: 0.22\n"
          ]
        },
        {
          "output_type": "stream",
          "name": "stderr",
          "text": [
            " 53%|█████▎    | 649/1221 [01:38<00:59,  9.55it/s]"
          ]
        },
        {
          "output_type": "stream",
          "name": "stdout",
          "text": [
            "Current Accuracy after processing 647 records: 0.22\n",
            "Current Accuracy after processing 648 records: 0.23\n",
            "Current Accuracy after processing 649 records: 0.22\n"
          ]
        },
        {
          "output_type": "stream",
          "name": "stderr",
          "text": [
            "\r 53%|█████▎    | 651/1221 [01:38<01:06,  8.63it/s]"
          ]
        },
        {
          "output_type": "stream",
          "name": "stdout",
          "text": [
            "Current Accuracy after processing 650 records: 0.23\n",
            "Current Accuracy after processing 651 records: 0.23\n"
          ]
        },
        {
          "output_type": "stream",
          "name": "stderr",
          "text": [
            "\r 53%|█████▎    | 652/1221 [01:39<01:12,  7.89it/s]"
          ]
        },
        {
          "output_type": "stream",
          "name": "stdout",
          "text": [
            "Current Accuracy after processing 652 records: 0.23\n",
            "Current Accuracy after processing 653 records: 0.23\n"
          ]
        },
        {
          "output_type": "stream",
          "name": "stderr",
          "text": [
            " 54%|█████▎    | 655/1221 [01:39<01:07,  8.35it/s]"
          ]
        },
        {
          "output_type": "stream",
          "name": "stdout",
          "text": [
            "Current Accuracy after processing 654 records: 0.23\n",
            "Current Accuracy after processing 655 records: 0.23\n",
            "Current Accuracy after processing 656 records: 0.23\n"
          ]
        },
        {
          "output_type": "stream",
          "name": "stderr",
          "text": [
            "\r 54%|█████▍    | 657/1221 [01:39<00:57,  9.83it/s]"
          ]
        },
        {
          "output_type": "stream",
          "name": "stdout",
          "text": [
            "Current Accuracy after processing 657 records: 0.23\n",
            "Current Accuracy after processing 658 records: 0.23\n"
          ]
        },
        {
          "output_type": "stream",
          "name": "stderr",
          "text": [
            " 54%|█████▍    | 660/1221 [01:39<01:05,  8.57it/s]"
          ]
        },
        {
          "output_type": "stream",
          "name": "stdout",
          "text": [
            "Current Accuracy after processing 659 records: 0.23\n",
            "Current Accuracy after processing 660 records: 0.23\n"
          ]
        },
        {
          "output_type": "stream",
          "name": "stderr",
          "text": [
            "\r 54%|█████▍    | 661/1221 [01:40<01:26,  6.49it/s]"
          ]
        },
        {
          "output_type": "stream",
          "name": "stdout",
          "text": [
            "Current Accuracy after processing 661 records: 0.23\n",
            "Current Accuracy after processing 662 records: 0.23\n"
          ]
        },
        {
          "output_type": "stream",
          "name": "stderr",
          "text": [
            " 54%|█████▍    | 664/1221 [01:40<01:30,  6.14it/s]"
          ]
        },
        {
          "output_type": "stream",
          "name": "stdout",
          "text": [
            "Current Accuracy after processing 663 records: 0.23\n",
            "Current Accuracy after processing 664 records: 0.23\n"
          ]
        },
        {
          "output_type": "stream",
          "name": "stderr",
          "text": [
            "\r 54%|█████▍    | 665/1221 [01:41<01:40,  5.54it/s]"
          ]
        },
        {
          "output_type": "stream",
          "name": "stdout",
          "text": [
            "Current Accuracy after processing 665 records: 0.23\n",
            "Current Accuracy after processing 666 records: 0.23\n"
          ]
        },
        {
          "output_type": "stream",
          "name": "stderr",
          "text": [
            "\r 55%|█████▍    | 667/1221 [01:41<01:39,  5.56it/s]"
          ]
        },
        {
          "output_type": "stream",
          "name": "stdout",
          "text": [
            "Current Accuracy after processing 667 records: 0.23\n"
          ]
        },
        {
          "output_type": "stream",
          "name": "stderr",
          "text": [
            "\r 55%|█████▍    | 668/1221 [01:41<01:49,  5.06it/s]"
          ]
        },
        {
          "output_type": "stream",
          "name": "stdout",
          "text": [
            "Current Accuracy after processing 668 records: 0.23\n",
            "Current Accuracy after processing 669 records: 0.23\n"
          ]
        },
        {
          "output_type": "stream",
          "name": "stderr",
          "text": [
            "\r 55%|█████▍    | 670/1221 [01:41<01:29,  6.14it/s]"
          ]
        },
        {
          "output_type": "stream",
          "name": "stdout",
          "text": [
            "Current Accuracy after processing 670 records: 0.23\n"
          ]
        },
        {
          "output_type": "stream",
          "name": "stderr",
          "text": [
            "\r 55%|█████▍    | 671/1221 [01:42<01:57,  4.68it/s]"
          ]
        },
        {
          "output_type": "stream",
          "name": "stdout",
          "text": [
            "Current Accuracy after processing 671 records: 0.23\n",
            "Current Accuracy after processing 672 records: 0.22\n"
          ]
        },
        {
          "output_type": "stream",
          "name": "stderr",
          "text": [
            " 55%|█████▌    | 674/1221 [01:42<01:34,  5.79it/s]"
          ]
        },
        {
          "output_type": "stream",
          "name": "stdout",
          "text": [
            "Current Accuracy after processing 673 records: 0.22\n",
            "Current Accuracy after processing 674 records: 0.22\n"
          ]
        },
        {
          "output_type": "stream",
          "name": "stderr",
          "text": [
            "\r 55%|█████▌    | 676/1221 [01:42<01:24,  6.45it/s]"
          ]
        },
        {
          "output_type": "stream",
          "name": "stdout",
          "text": [
            "Current Accuracy after processing 675 records: 0.23\n",
            "Current Accuracy after processing 676 records: 0.22\n"
          ]
        },
        {
          "output_type": "stream",
          "name": "stderr",
          "text": [
            "\r 56%|█████▌    | 679/1221 [01:43<00:58,  9.26it/s]"
          ]
        },
        {
          "output_type": "stream",
          "name": "stdout",
          "text": [
            "Current Accuracy after processing 677 records: 0.22\n",
            "Current Accuracy after processing 678 records: 0.22\n",
            "Current Accuracy after processing 679 records: 0.22\n",
            "Current Accuracy after processing 680 records: 0.22\n"
          ]
        },
        {
          "output_type": "stream",
          "name": "stderr",
          "text": [
            "\r 56%|█████▌    | 681/1221 [01:43<00:53, 10.11it/s]"
          ]
        },
        {
          "output_type": "stream",
          "name": "stdout",
          "text": [
            "Current Accuracy after processing 681 records: 0.22\n"
          ]
        },
        {
          "output_type": "stream",
          "name": "stderr",
          "text": [
            "\r 56%|█████▌    | 683/1221 [01:43<01:06,  8.15it/s]"
          ]
        },
        {
          "output_type": "stream",
          "name": "stdout",
          "text": [
            "Current Accuracy after processing 682 records: 0.22\n",
            "Current Accuracy after processing 683 records: 0.22\n",
            "Current Accuracy after processing 684 records: 0.22\n"
          ]
        },
        {
          "output_type": "stream",
          "name": "stderr",
          "text": [
            "\r 56%|█████▌    | 685/1221 [01:43<00:55,  9.62it/s]"
          ]
        },
        {
          "output_type": "stream",
          "name": "stdout",
          "text": [
            "Current Accuracy after processing 685 records: 0.22\n",
            "Current Accuracy after processing 686 records: 0.22\n"
          ]
        },
        {
          "output_type": "stream",
          "name": "stderr",
          "text": [
            "\r 56%|█████▋    | 687/1221 [01:43<00:57,  9.37it/s]"
          ]
        },
        {
          "output_type": "stream",
          "name": "stdout",
          "text": [
            "Current Accuracy after processing 687 records: 0.22\n",
            "Current Accuracy after processing 688 records: 0.22\n"
          ]
        },
        {
          "output_type": "stream",
          "name": "stderr",
          "text": [
            " 57%|█████▋    | 690/1221 [01:44<01:07,  7.91it/s]"
          ]
        },
        {
          "output_type": "stream",
          "name": "stdout",
          "text": [
            "Current Accuracy after processing 689 records: 0.22\n",
            "Current Accuracy after processing 690 records: 0.22\n"
          ]
        },
        {
          "output_type": "stream",
          "name": "stderr",
          "text": [
            "\r 57%|█████▋    | 693/1221 [01:44<00:55,  9.46it/s]"
          ]
        },
        {
          "output_type": "stream",
          "name": "stdout",
          "text": [
            "Current Accuracy after processing 691 records: 0.22\n",
            "Current Accuracy after processing 692 records: 0.22\n",
            "Current Accuracy after processing 693 records: 0.22\n"
          ]
        },
        {
          "output_type": "stream",
          "name": "stderr",
          "text": [
            "\r 57%|█████▋    | 694/1221 [01:44<01:12,  7.30it/s]"
          ]
        },
        {
          "output_type": "stream",
          "name": "stdout",
          "text": [
            "Current Accuracy after processing 694 records: 0.22\n"
          ]
        },
        {
          "output_type": "stream",
          "name": "stderr",
          "text": [
            " 57%|█████▋    | 696/1221 [01:45<01:23,  6.28it/s]"
          ]
        },
        {
          "output_type": "stream",
          "name": "stdout",
          "text": [
            "Current Accuracy after processing 695 records: 0.22\n",
            "Current Accuracy after processing 696 records: 0.22\n",
            "Current Accuracy after processing 697 records: 0.22\n"
          ]
        },
        {
          "output_type": "stream",
          "name": "stderr",
          "text": [
            "\r 57%|█████▋    | 698/1221 [01:45<01:08,  7.62it/s]"
          ]
        },
        {
          "output_type": "stream",
          "name": "stdout",
          "text": [
            "Current Accuracy after processing 698 records: 0.22\n",
            "Current Accuracy after processing 699 records: 0.22\n"
          ]
        },
        {
          "output_type": "stream",
          "name": "stderr",
          "text": [
            "\r 57%|█████▋    | 700/1221 [01:45<01:14,  6.97it/s]"
          ]
        },
        {
          "output_type": "stream",
          "name": "stdout",
          "text": [
            "Current Accuracy after processing 700 records: 0.22\n"
          ]
        },
        {
          "output_type": "stream",
          "name": "stderr",
          "text": [
            "\r 57%|█████▋    | 701/1221 [01:46<01:26,  6.00it/s]"
          ]
        },
        {
          "output_type": "stream",
          "name": "stdout",
          "text": [
            "Current Accuracy after processing 701 records: 0.22\n"
          ]
        },
        {
          "output_type": "stream",
          "name": "stderr",
          "text": [
            "\r 57%|█████▋    | 702/1221 [01:46<01:34,  5.50it/s]"
          ]
        },
        {
          "output_type": "stream",
          "name": "stdout",
          "text": [
            "Current Accuracy after processing 702 records: 0.22\n",
            "Current Accuracy after processing 703 records: 0.22\n"
          ]
        },
        {
          "output_type": "stream",
          "name": "stderr",
          "text": [
            "\r 58%|█████▊    | 704/1221 [01:46<01:30,  5.72it/s]"
          ]
        },
        {
          "output_type": "stream",
          "name": "stdout",
          "text": [
            "Current Accuracy after processing 704 records: 0.22\n"
          ]
        },
        {
          "output_type": "stream",
          "name": "stderr",
          "text": [
            " 58%|█████▊    | 707/1221 [01:46<01:11,  7.22it/s]"
          ]
        },
        {
          "output_type": "stream",
          "name": "stdout",
          "text": [
            "Current Accuracy after processing 705 records: 0.22\n",
            "Current Accuracy after processing 706 records: 0.22\n",
            "Current Accuracy after processing 707 records: 0.22\n"
          ]
        },
        {
          "output_type": "stream",
          "name": "stderr",
          "text": [
            "\r 58%|█████▊    | 708/1221 [01:47<01:27,  5.85it/s]"
          ]
        },
        {
          "output_type": "stream",
          "name": "stdout",
          "text": [
            "Current Accuracy after processing 708 records: 0.22\n"
          ]
        },
        {
          "output_type": "stream",
          "name": "stderr",
          "text": [
            "\r 58%|█████▊    | 709/1221 [01:47<01:42,  4.98it/s]"
          ]
        },
        {
          "output_type": "stream",
          "name": "stdout",
          "text": [
            "Current Accuracy after processing 709 records: 0.22\n",
            "Current Accuracy after processing 710 records: 0.22\n"
          ]
        },
        {
          "output_type": "stream",
          "name": "stderr",
          "text": [
            " 58%|█████▊    | 713/1221 [01:48<01:10,  7.16it/s]"
          ]
        },
        {
          "output_type": "stream",
          "name": "stdout",
          "text": [
            "Current Accuracy after processing 711 records: 0.22\n",
            "Current Accuracy after processing 712 records: 0.22\n",
            "Current Accuracy after processing 713 records: 0.22\n",
            "Current Accuracy after processing 714 records: 0.22\n"
          ]
        },
        {
          "output_type": "stream",
          "name": "stderr",
          "text": [
            " 59%|█████▊    | 717/1221 [01:48<00:58,  8.59it/s]"
          ]
        },
        {
          "output_type": "stream",
          "name": "stdout",
          "text": [
            "Current Accuracy after processing 715 records: 0.22\n",
            "Current Accuracy after processing 716 records: 0.22\n",
            "Current Accuracy after processing 717 records: 0.22\n"
          ]
        },
        {
          "output_type": "stream",
          "name": "stderr",
          "text": [
            "\r 59%|█████▉    | 719/1221 [01:48<01:17,  6.44it/s]"
          ]
        },
        {
          "output_type": "stream",
          "name": "stdout",
          "text": [
            "Current Accuracy after processing 718 records: 0.22\n",
            "Current Accuracy after processing 719 records: 0.22\n"
          ]
        },
        {
          "output_type": "stream",
          "name": "stderr",
          "text": [
            "\r 59%|█████▉    | 720/1221 [01:49<01:24,  5.92it/s]"
          ]
        },
        {
          "output_type": "stream",
          "name": "stdout",
          "text": [
            "Current Accuracy after processing 720 records: 0.22\n"
          ]
        },
        {
          "output_type": "stream",
          "name": "stderr",
          "text": [
            "\r 59%|█████▉    | 721/1221 [01:49<01:31,  5.47it/s]"
          ]
        },
        {
          "output_type": "stream",
          "name": "stdout",
          "text": [
            "Current Accuracy after processing 721 records: 0.21\n",
            "Current Accuracy after processing 722 records: 0.21\n"
          ]
        },
        {
          "output_type": "stream",
          "name": "stderr",
          "text": [
            " 59%|█████▉    | 724/1221 [01:49<01:31,  5.42it/s]"
          ]
        },
        {
          "output_type": "stream",
          "name": "stdout",
          "text": [
            "Current Accuracy after processing 723 records: 0.21\n",
            "Current Accuracy after processing 724 records: 0.21\n"
          ]
        },
        {
          "output_type": "stream",
          "name": "stderr",
          "text": [
            "\r 59%|█████▉    | 725/1221 [01:50<01:22,  6.02it/s]"
          ]
        },
        {
          "output_type": "stream",
          "name": "stdout",
          "text": [
            "Current Accuracy after processing 725 records: 0.22\n",
            "Current Accuracy after processing 726 records: 0.21\n"
          ]
        },
        {
          "output_type": "stream",
          "name": "stderr",
          "text": [
            "\r 60%|█████▉    | 727/1221 [01:50<01:21,  6.07it/s]"
          ]
        },
        {
          "output_type": "stream",
          "name": "stdout",
          "text": [
            "Current Accuracy after processing 727 records: 0.22\n"
          ]
        },
        {
          "output_type": "stream",
          "name": "stderr",
          "text": [
            " 60%|█████▉    | 730/1221 [01:50<01:13,  6.68it/s]"
          ]
        },
        {
          "output_type": "stream",
          "name": "stdout",
          "text": [
            "Current Accuracy after processing 728 records: 0.22\n",
            "Current Accuracy after processing 729 records: 0.22\n",
            "Current Accuracy after processing 730 records: 0.22\n"
          ]
        },
        {
          "output_type": "stream",
          "name": "stderr",
          "text": [
            " 60%|██████    | 734/1221 [01:51<00:47, 10.15it/s]"
          ]
        },
        {
          "output_type": "stream",
          "name": "stdout",
          "text": [
            "Current Accuracy after processing 731 records: 0.22\n",
            "Current Accuracy after processing 732 records: 0.22\n",
            "Current Accuracy after processing 733 records: 0.22\n",
            "Current Accuracy after processing 734 records: 0.22\n",
            "Current Accuracy after processing 735 records: 0.21\n"
          ]
        },
        {
          "output_type": "stream",
          "name": "stderr",
          "text": [
            "\r 60%|██████    | 736/1221 [01:51<00:43, 11.27it/s]"
          ]
        },
        {
          "output_type": "stream",
          "name": "stdout",
          "text": [
            "Current Accuracy after processing 736 records: 0.21\n",
            "Current Accuracy after processing 737 records: 0.21\n"
          ]
        },
        {
          "output_type": "stream",
          "name": "stderr",
          "text": [
            "\r 60%|██████    | 738/1221 [01:51<00:45, 10.63it/s]"
          ]
        },
        {
          "output_type": "stream",
          "name": "stdout",
          "text": [
            "Current Accuracy after processing 738 records: 0.21\n"
          ]
        },
        {
          "output_type": "stream",
          "name": "stderr",
          "text": [
            "\r 61%|██████    | 740/1221 [01:51<00:59,  8.06it/s]"
          ]
        },
        {
          "output_type": "stream",
          "name": "stdout",
          "text": [
            "Current Accuracy after processing 739 records: 0.21\n",
            "Current Accuracy after processing 740 records: 0.21\n",
            "Current Accuracy after processing 741 records: 0.21\n"
          ]
        },
        {
          "output_type": "stream",
          "name": "stderr",
          "text": [
            " 61%|██████    | 744/1221 [01:52<00:49,  9.65it/s]"
          ]
        },
        {
          "output_type": "stream",
          "name": "stdout",
          "text": [
            "Current Accuracy after processing 742 records: 0.21\n",
            "Current Accuracy after processing 743 records: 0.21\n",
            "Current Accuracy after processing 744 records: 0.21\n"
          ]
        },
        {
          "output_type": "stream",
          "name": "stderr",
          "text": [
            "\r 61%|██████    | 746/1221 [01:52<00:47,  9.99it/s]"
          ]
        },
        {
          "output_type": "stream",
          "name": "stdout",
          "text": [
            "Current Accuracy after processing 745 records: 0.21\n",
            "Current Accuracy after processing 746 records: 0.21\n",
            "Current Accuracy after processing 747 records: 0.21\n"
          ]
        },
        {
          "output_type": "stream",
          "name": "stderr",
          "text": [
            "\r 61%|██████▏   | 748/1221 [01:52<00:56,  8.41it/s]"
          ]
        },
        {
          "output_type": "stream",
          "name": "stdout",
          "text": [
            "Current Accuracy after processing 748 records: 0.21\n"
          ]
        },
        {
          "output_type": "stream",
          "name": "stderr",
          "text": [
            " 62%|██████▏   | 751/1221 [01:53<01:03,  7.45it/s]"
          ]
        },
        {
          "output_type": "stream",
          "name": "stdout",
          "text": [
            "Current Accuracy after processing 749 records: 0.21\n",
            "Current Accuracy after processing 750 records: 0.21\n",
            "Current Accuracy after processing 751 records: 0.21\n"
          ]
        },
        {
          "output_type": "stream",
          "name": "stderr",
          "text": [
            "\r 62%|██████▏   | 753/1221 [01:53<00:57,  8.14it/s]"
          ]
        },
        {
          "output_type": "stream",
          "name": "stdout",
          "text": [
            "Current Accuracy after processing 752 records: 0.21\n",
            "Current Accuracy after processing 753 records: 0.21\n"
          ]
        },
        {
          "output_type": "stream",
          "name": "stderr",
          "text": [
            " 62%|██████▏   | 756/1221 [01:53<00:52,  8.94it/s]"
          ]
        },
        {
          "output_type": "stream",
          "name": "stdout",
          "text": [
            "Current Accuracy after processing 754 records: 0.21\n",
            "Current Accuracy after processing 755 records: 0.21\n",
            "Current Accuracy after processing 756 records: 0.21\n"
          ]
        },
        {
          "output_type": "stream",
          "name": "stderr",
          "text": [
            "\r 62%|██████▏   | 757/1221 [01:54<01:14,  6.20it/s]"
          ]
        },
        {
          "output_type": "stream",
          "name": "stdout",
          "text": [
            "Current Accuracy after processing 757 records: 0.21\n"
          ]
        },
        {
          "output_type": "stream",
          "name": "stderr",
          "text": [
            " 62%|██████▏   | 760/1221 [01:54<01:15,  6.13it/s]"
          ]
        },
        {
          "output_type": "stream",
          "name": "stdout",
          "text": [
            "Current Accuracy after processing 758 records: 0.21\n",
            "Current Accuracy after processing 759 records: 0.21\n",
            "Current Accuracy after processing 760 records: 0.21\n"
          ]
        },
        {
          "output_type": "stream",
          "name": "stderr",
          "text": [
            " 62%|██████▏   | 762/1221 [01:55<01:18,  5.87it/s]"
          ]
        },
        {
          "output_type": "stream",
          "name": "stdout",
          "text": [
            "Current Accuracy after processing 761 records: 0.21\n",
            "Current Accuracy after processing 762 records: 0.21\n"
          ]
        },
        {
          "output_type": "stream",
          "name": "stderr",
          "text": [
            " 63%|██████▎   | 764/1221 [01:55<01:20,  5.66it/s]"
          ]
        },
        {
          "output_type": "stream",
          "name": "stdout",
          "text": [
            "Current Accuracy after processing 763 records: 0.21\n",
            "Current Accuracy after processing 764 records: 0.21\n",
            "Current Accuracy after processing 765 records: 0.21\n"
          ]
        },
        {
          "output_type": "stream",
          "name": "stderr",
          "text": [
            "\r 63%|██████▎   | 766/1221 [01:55<00:56,  8.04it/s]"
          ]
        },
        {
          "output_type": "stream",
          "name": "stdout",
          "text": [
            "Current Accuracy after processing 766 records: 0.21\n",
            "Current Accuracy after processing 767 records: 0.21\n"
          ]
        },
        {
          "output_type": "stream",
          "name": "stderr",
          "text": [
            " 63%|██████▎   | 769/1221 [01:56<01:19,  5.71it/s]"
          ]
        },
        {
          "output_type": "stream",
          "name": "stdout",
          "text": [
            "Current Accuracy after processing 768 records: 0.21\n",
            "Current Accuracy after processing 769 records: 0.21\n"
          ]
        },
        {
          "output_type": "stream",
          "name": "stderr",
          "text": [
            "\r 63%|██████▎   | 770/1221 [01:56<01:15,  5.98it/s]"
          ]
        },
        {
          "output_type": "stream",
          "name": "stdout",
          "text": [
            "Current Accuracy after processing 770 records: 0.21\n"
          ]
        },
        {
          "output_type": "stream",
          "name": "stderr",
          "text": [
            " 63%|██████▎   | 772/1221 [01:56<01:20,  5.61it/s]"
          ]
        },
        {
          "output_type": "stream",
          "name": "stdout",
          "text": [
            "Current Accuracy after processing 771 records: 0.21\n",
            "Current Accuracy after processing 772 records: 0.21\n"
          ]
        },
        {
          "output_type": "stream",
          "name": "stderr",
          "text": [
            "\r 63%|██████▎   | 774/1221 [01:57<01:06,  6.69it/s]"
          ]
        },
        {
          "output_type": "stream",
          "name": "stdout",
          "text": [
            "Current Accuracy after processing 773 records: 0.21\n",
            "Current Accuracy after processing 774 records: 0.21\n",
            "Current Accuracy after processing 775 records: 0.21\n"
          ]
        },
        {
          "output_type": "stream",
          "name": "stderr",
          "text": [
            " 64%|██████▎   | 778/1221 [01:57<00:54,  8.14it/s]"
          ]
        },
        {
          "output_type": "stream",
          "name": "stdout",
          "text": [
            "Current Accuracy after processing 776 records: 0.21\n",
            "Current Accuracy after processing 777 records: 0.21\n",
            "Current Accuracy after processing 778 records: 0.21\n",
            "Current Accuracy after processing 779 records: 0.21\n"
          ]
        },
        {
          "output_type": "stream",
          "name": "stderr",
          "text": [
            " 64%|██████▍   | 782/1221 [01:57<00:42, 10.28it/s]"
          ]
        },
        {
          "output_type": "stream",
          "name": "stdout",
          "text": [
            "Current Accuracy after processing 780 records: 0.21\n",
            "Current Accuracy after processing 781 records: 0.21\n",
            "Current Accuracy after processing 782 records: 0.21\n"
          ]
        },
        {
          "output_type": "stream",
          "name": "stderr",
          "text": [
            "\r 64%|██████▍   | 784/1221 [01:58<00:45,  9.54it/s]"
          ]
        },
        {
          "output_type": "stream",
          "name": "stdout",
          "text": [
            "Current Accuracy after processing 783 records: 0.21\n",
            "Current Accuracy after processing 784 records: 0.21\n"
          ]
        },
        {
          "output_type": "stream",
          "name": "stderr",
          "text": [
            "\r 64%|██████▍   | 786/1221 [01:58<00:52,  8.34it/s]"
          ]
        },
        {
          "output_type": "stream",
          "name": "stdout",
          "text": [
            "Current Accuracy after processing 785 records: 0.21\n",
            "Current Accuracy after processing 786 records: 0.21\n"
          ]
        },
        {
          "output_type": "stream",
          "name": "stderr",
          "text": [
            "\r 64%|██████▍   | 787/1221 [01:58<00:59,  7.28it/s]"
          ]
        },
        {
          "output_type": "stream",
          "name": "stdout",
          "text": [
            "Current Accuracy after processing 787 records: 0.21\n",
            "Current Accuracy after processing 788 records: 0.21\n"
          ]
        },
        {
          "output_type": "stream",
          "name": "stderr",
          "text": [
            " 65%|██████▍   | 790/1221 [01:59<01:04,  6.73it/s]"
          ]
        },
        {
          "output_type": "stream",
          "name": "stdout",
          "text": [
            "Current Accuracy after processing 789 records: 0.21\n",
            "Current Accuracy after processing 790 records: 0.21\n"
          ]
        },
        {
          "output_type": "stream",
          "name": "stderr",
          "text": [
            "\r 65%|██████▍   | 791/1221 [01:59<01:01,  7.02it/s]"
          ]
        },
        {
          "output_type": "stream",
          "name": "stdout",
          "text": [
            "Current Accuracy after processing 791 records: 0.21\n",
            "Current Accuracy after processing 792 records: 0.21\n"
          ]
        },
        {
          "output_type": "stream",
          "name": "stderr",
          "text": [
            " 65%|██████▌   | 794/1221 [01:59<01:08,  6.28it/s]"
          ]
        },
        {
          "output_type": "stream",
          "name": "stdout",
          "text": [
            "Current Accuracy after processing 793 records: 0.21\n",
            "Current Accuracy after processing 794 records: 0.21\n"
          ]
        },
        {
          "output_type": "stream",
          "name": "stderr",
          "text": [
            " 65%|██████▌   | 797/1221 [01:59<00:51,  8.23it/s]"
          ]
        },
        {
          "output_type": "stream",
          "name": "stdout",
          "text": [
            "Current Accuracy after processing 795 records: 0.21\n",
            "Current Accuracy after processing 796 records: 0.21\n",
            "Current Accuracy after processing 797 records: 0.21\n"
          ]
        },
        {
          "output_type": "stream",
          "name": "stderr",
          "text": [
            "\r 65%|██████▌   | 799/1221 [02:00<00:43,  9.70it/s]"
          ]
        },
        {
          "output_type": "stream",
          "name": "stdout",
          "text": [
            "Current Accuracy after processing 798 records: 0.21\n",
            "Current Accuracy after processing 799 records: 0.21\n",
            "Current Accuracy after processing 800 records: 0.21\n"
          ]
        },
        {
          "output_type": "stream",
          "name": "stderr",
          "text": [
            "\r 66%|██████▌   | 801/1221 [02:00<00:39, 10.55it/s]"
          ]
        },
        {
          "output_type": "stream",
          "name": "stdout",
          "text": [
            "Current Accuracy after processing 801 records: 0.21\n",
            "Current Accuracy after processing 802 records: 0.21\n"
          ]
        },
        {
          "output_type": "stream",
          "name": "stderr",
          "text": [
            "\r 66%|██████▌   | 803/1221 [02:00<00:43,  9.52it/s]"
          ]
        },
        {
          "output_type": "stream",
          "name": "stdout",
          "text": [
            "Current Accuracy after processing 803 records: 0.21\n",
            "Current Accuracy after processing 804 records: 0.21\n"
          ]
        },
        {
          "output_type": "stream",
          "name": "stderr",
          "text": [
            " 66%|██████▌   | 808/1221 [02:00<00:33, 12.21it/s]"
          ]
        },
        {
          "output_type": "stream",
          "name": "stdout",
          "text": [
            "Current Accuracy after processing 805 records: 0.21\n",
            "Current Accuracy after processing 806 records: 0.21\n",
            "Current Accuracy after processing 807 records: 0.21\n",
            "Current Accuracy after processing 808 records: 0.21\n",
            "Current Accuracy after processing 809 records: 0.21\n"
          ]
        },
        {
          "output_type": "stream",
          "name": "stderr",
          "text": [
            "\r 66%|██████▋   | 810/1221 [02:00<00:32, 12.71it/s]"
          ]
        },
        {
          "output_type": "stream",
          "name": "stdout",
          "text": [
            "Current Accuracy after processing 810 records: 0.21\n",
            "Current Accuracy after processing 811 records: 0.21\n"
          ]
        },
        {
          "output_type": "stream",
          "name": "stderr",
          "text": [
            " 67%|██████▋   | 814/1221 [02:01<00:35, 11.31it/s]"
          ]
        },
        {
          "output_type": "stream",
          "name": "stdout",
          "text": [
            "Current Accuracy after processing 812 records: 0.21\n",
            "Current Accuracy after processing 813 records: 0.21\n",
            "Current Accuracy after processing 814 records: 0.21\n",
            "Current Accuracy after processing 815 records: 0.21\n"
          ]
        },
        {
          "output_type": "stream",
          "name": "stderr",
          "text": [
            " 67%|██████▋   | 818/1221 [02:01<00:44,  9.13it/s]"
          ]
        },
        {
          "output_type": "stream",
          "name": "stdout",
          "text": [
            "Current Accuracy after processing 816 records: 0.21\n",
            "Current Accuracy after processing 817 records: 0.21\n",
            "Current Accuracy after processing 818 records: 0.21\n"
          ]
        },
        {
          "output_type": "stream",
          "name": "stderr",
          "text": [
            "\r 67%|██████▋   | 820/1221 [02:02<00:51,  7.83it/s]"
          ]
        },
        {
          "output_type": "stream",
          "name": "stdout",
          "text": [
            "Current Accuracy after processing 819 records: 0.21\n",
            "Current Accuracy after processing 820 records: 0.21\n",
            "Current Accuracy after processing 821 records: 0.21\n"
          ]
        },
        {
          "output_type": "stream",
          "name": "stderr",
          "text": [
            "\r 67%|██████▋   | 822/1221 [02:02<00:42,  9.35it/s]"
          ]
        },
        {
          "output_type": "stream",
          "name": "stdout",
          "text": [
            "Current Accuracy after processing 822 records: 0.21\n",
            "Current Accuracy after processing 823 records: 0.21\n"
          ]
        },
        {
          "output_type": "stream",
          "name": "stderr",
          "text": [
            "\r 67%|██████▋   | 824/1221 [02:02<00:53,  7.43it/s]"
          ]
        },
        {
          "output_type": "stream",
          "name": "stdout",
          "text": [
            "Current Accuracy after processing 824 records: 0.21\n",
            "Current Accuracy after processing 825 records: 0.21\n"
          ]
        },
        {
          "output_type": "stream",
          "name": "stderr",
          "text": [
            "\r 68%|██████▊   | 826/1221 [02:03<00:52,  7.58it/s]"
          ]
        },
        {
          "output_type": "stream",
          "name": "stdout",
          "text": [
            "Current Accuracy after processing 826 records: 0.21\n",
            "Current Accuracy after processing 827 records: 0.21\n"
          ]
        },
        {
          "output_type": "stream",
          "name": "stderr",
          "text": [
            " 68%|██████▊   | 830/1221 [02:03<00:45,  8.68it/s]"
          ]
        },
        {
          "output_type": "stream",
          "name": "stdout",
          "text": [
            "Current Accuracy after processing 828 records: 0.21\n",
            "Current Accuracy after processing 829 records: 0.21\n",
            "Current Accuracy after processing 830 records: 0.21\n",
            "Current Accuracy after processing 831 records: 0.21\n"
          ]
        },
        {
          "output_type": "stream",
          "name": "stderr",
          "text": [
            "\r 68%|██████▊   | 832/1221 [02:03<00:43,  8.87it/s]"
          ]
        },
        {
          "output_type": "stream",
          "name": "stdout",
          "text": [
            "Current Accuracy after processing 832 records: 0.21\n",
            "Current Accuracy after processing 833 records: 0.21\n"
          ]
        },
        {
          "output_type": "stream",
          "name": "stderr",
          "text": [
            " 68%|██████▊   | 836/1221 [02:04<00:39,  9.81it/s]"
          ]
        },
        {
          "output_type": "stream",
          "name": "stdout",
          "text": [
            "Current Accuracy after processing 834 records: 0.21\n",
            "Current Accuracy after processing 835 records: 0.21\n",
            "Current Accuracy after processing 836 records: 0.21\n",
            "Current Accuracy after processing 837 records: 0.21\n"
          ]
        },
        {
          "output_type": "stream",
          "name": "stderr",
          "text": [
            "\r 69%|██████▊   | 838/1221 [02:04<00:47,  8.03it/s]"
          ]
        },
        {
          "output_type": "stream",
          "name": "stdout",
          "text": [
            "Current Accuracy after processing 838 records: 0.21\n"
          ]
        },
        {
          "output_type": "stream",
          "name": "stderr",
          "text": [
            "\r 69%|██████▊   | 839/1221 [02:04<00:59,  6.42it/s]"
          ]
        },
        {
          "output_type": "stream",
          "name": "stdout",
          "text": [
            "Current Accuracy after processing 839 records: 0.21\n"
          ]
        },
        {
          "output_type": "stream",
          "name": "stderr",
          "text": [
            " 69%|██████▉   | 841/1221 [02:05<01:07,  5.64it/s]"
          ]
        },
        {
          "output_type": "stream",
          "name": "stdout",
          "text": [
            "Current Accuracy after processing 840 records: 0.21\n",
            "Current Accuracy after processing 841 records: 0.21\n"
          ]
        },
        {
          "output_type": "stream",
          "name": "stderr",
          "text": [
            "\r 69%|██████▉   | 842/1221 [02:05<01:26,  4.38it/s]"
          ]
        },
        {
          "output_type": "stream",
          "name": "stdout",
          "text": [
            "Current Accuracy after processing 842 records: 0.21\n"
          ]
        },
        {
          "output_type": "stream",
          "name": "stderr",
          "text": [
            "\r 69%|██████▉   | 843/1221 [02:05<01:34,  3.98it/s]"
          ]
        },
        {
          "output_type": "stream",
          "name": "stdout",
          "text": [
            "Current Accuracy after processing 843 records: 0.21\n"
          ]
        },
        {
          "output_type": "stream",
          "name": "stderr",
          "text": [
            " 69%|██████▉   | 845/1221 [02:06<01:28,  4.24it/s]"
          ]
        },
        {
          "output_type": "stream",
          "name": "stdout",
          "text": [
            "Current Accuracy after processing 844 records: 0.21\n",
            "Current Accuracy after processing 845 records: 0.21\n",
            "Current Accuracy after processing 846 records: 0.21\n"
          ]
        },
        {
          "output_type": "stream",
          "name": "stderr",
          "text": [
            "\r 69%|██████▉   | 847/1221 [02:06<01:01,  6.13it/s]"
          ]
        },
        {
          "output_type": "stream",
          "name": "stdout",
          "text": [
            "Current Accuracy after processing 847 records: 0.21\n"
          ]
        },
        {
          "output_type": "stream",
          "name": "stderr",
          "text": [
            "\r 69%|██████▉   | 848/1221 [02:06<01:17,  4.82it/s]"
          ]
        },
        {
          "output_type": "stream",
          "name": "stdout",
          "text": [
            "Current Accuracy after processing 848 records: 0.21\n",
            "Current Accuracy after processing 849 records: 0.21\n"
          ]
        },
        {
          "output_type": "stream",
          "name": "stderr",
          "text": [
            "\r 70%|██████▉   | 850/1221 [02:07<01:16,  4.84it/s]"
          ]
        },
        {
          "output_type": "stream",
          "name": "stdout",
          "text": [
            "Current Accuracy after processing 850 records: 0.21\n"
          ]
        },
        {
          "output_type": "stream",
          "name": "stderr",
          "text": [
            "\r 70%|██████▉   | 851/1221 [02:07<01:22,  4.47it/s]"
          ]
        },
        {
          "output_type": "stream",
          "name": "stdout",
          "text": [
            "Current Accuracy after processing 851 records: 0.21\n",
            "Current Accuracy after processing 852 records: 0.21\n"
          ]
        },
        {
          "output_type": "stream",
          "name": "stderr",
          "text": [
            "\r 70%|██████▉   | 853/1221 [02:07<01:14,  4.93it/s]"
          ]
        },
        {
          "output_type": "stream",
          "name": "stdout",
          "text": [
            "Current Accuracy after processing 853 records: 0.21\n",
            "Current Accuracy after processing 854 records: 0.21\n",
            "Current Accuracy after processing 855 records: 0.21\n"
          ]
        },
        {
          "output_type": "stream",
          "name": "stderr",
          "text": [
            "\r 70%|███████   | 856/1221 [02:08<01:01,  5.97it/s]"
          ]
        },
        {
          "output_type": "stream",
          "name": "stdout",
          "text": [
            "Current Accuracy after processing 856 records: 0.21\n"
          ]
        },
        {
          "output_type": "stream",
          "name": "stderr",
          "text": [
            " 70%|███████   | 858/1221 [02:08<01:04,  5.61it/s]"
          ]
        },
        {
          "output_type": "stream",
          "name": "stdout",
          "text": [
            "Current Accuracy after processing 857 records: 0.21\n",
            "Current Accuracy after processing 858 records: 0.21\n"
          ]
        },
        {
          "output_type": "stream",
          "name": "stderr",
          "text": [
            " 71%|███████   | 861/1221 [02:09<00:55,  6.54it/s]"
          ]
        },
        {
          "output_type": "stream",
          "name": "stdout",
          "text": [
            "Current Accuracy after processing 859 records: 0.21\n",
            "Current Accuracy after processing 860 records: 0.21\n",
            "Current Accuracy after processing 861 records: 0.21\n",
            "Current Accuracy after processing 862 records: 0.21\n"
          ]
        },
        {
          "output_type": "stream",
          "name": "stderr",
          "text": [
            " 71%|███████   | 865/1221 [02:09<00:33, 10.73it/s]"
          ]
        },
        {
          "output_type": "stream",
          "name": "stdout",
          "text": [
            "Current Accuracy after processing 863 records: 0.21\n",
            "Current Accuracy after processing 864 records: 0.21\n",
            "Current Accuracy after processing 865 records: 0.21\n"
          ]
        },
        {
          "output_type": "stream",
          "name": "stderr",
          "text": [
            "\r 71%|███████   | 867/1221 [02:09<00:46,  7.65it/s]"
          ]
        },
        {
          "output_type": "stream",
          "name": "stdout",
          "text": [
            "Current Accuracy after processing 866 records: 0.21\n",
            "Current Accuracy after processing 867 records: 0.21\n",
            "Current Accuracy after processing 868 records: 0.21\n"
          ]
        },
        {
          "output_type": "stream",
          "name": "stderr",
          "text": [
            " 71%|███████▏  | 871/1221 [02:10<00:51,  6.74it/s]"
          ]
        },
        {
          "output_type": "stream",
          "name": "stdout",
          "text": [
            "Current Accuracy after processing 869 records: 0.21\n",
            "Current Accuracy after processing 870 records: 0.21\n",
            "Current Accuracy after processing 871 records: 0.21\n"
          ]
        },
        {
          "output_type": "stream",
          "name": "stderr",
          "text": [
            " 71%|███████▏  | 873/1221 [02:10<00:46,  7.44it/s]"
          ]
        },
        {
          "output_type": "stream",
          "name": "stdout",
          "text": [
            "Current Accuracy after processing 872 records: 0.21\n",
            "Current Accuracy after processing 873 records: 0.21\n"
          ]
        },
        {
          "output_type": "stream",
          "name": "stderr",
          "text": [
            " 72%|███████▏  | 876/1221 [02:11<00:40,  8.42it/s]"
          ]
        },
        {
          "output_type": "stream",
          "name": "stdout",
          "text": [
            "Current Accuracy after processing 874 records: 0.21\n",
            "Current Accuracy after processing 875 records: 0.21\n",
            "Current Accuracy after processing 876 records: 0.21\n",
            "Current Accuracy after processing 877 records: 0.21\n"
          ]
        },
        {
          "output_type": "stream",
          "name": "stderr",
          "text": [
            " 72%|███████▏  | 880/1221 [02:11<00:37,  8.99it/s]"
          ]
        },
        {
          "output_type": "stream",
          "name": "stdout",
          "text": [
            "Current Accuracy after processing 878 records: 0.21\n",
            "Current Accuracy after processing 879 records: 0.21\n",
            "Current Accuracy after processing 880 records: 0.21\n",
            "Current Accuracy after processing 881 records: 0.21\n"
          ]
        },
        {
          "output_type": "stream",
          "name": "stderr",
          "text": [
            " 72%|███████▏  | 885/1221 [02:11<00:26, 12.52it/s]"
          ]
        },
        {
          "output_type": "stream",
          "name": "stdout",
          "text": [
            "Current Accuracy after processing 882 records: 0.21\n",
            "Current Accuracy after processing 883 records: 0.21\n",
            "Current Accuracy after processing 884 records: 0.21\n",
            "Current Accuracy after processing 885 records: 0.21\n",
            "Current Accuracy after processing 886 records: 0.21\n"
          ]
        },
        {
          "output_type": "stream",
          "name": "stderr",
          "text": [
            "\r 73%|███████▎  | 887/1221 [02:12<00:44,  7.47it/s]"
          ]
        },
        {
          "output_type": "stream",
          "name": "stdout",
          "text": [
            "Current Accuracy after processing 887 records: 0.21\n",
            "Current Accuracy after processing 888 records: 0.20\n"
          ]
        },
        {
          "output_type": "stream",
          "name": "stderr",
          "text": [
            " 73%|███████▎  | 891/1221 [02:12<00:35,  9.38it/s]"
          ]
        },
        {
          "output_type": "stream",
          "name": "stdout",
          "text": [
            "Current Accuracy after processing 889 records: 0.21\n",
            "Current Accuracy after processing 890 records: 0.21\n",
            "Current Accuracy after processing 891 records: 0.21\n",
            "Current Accuracy after processing 892 records: 0.21\n"
          ]
        },
        {
          "output_type": "stream",
          "name": "stderr",
          "text": [
            "\r 73%|███████▎  | 893/1221 [02:13<00:44,  7.31it/s]"
          ]
        },
        {
          "output_type": "stream",
          "name": "stdout",
          "text": [
            "Current Accuracy after processing 893 records: 0.21\n"
          ]
        },
        {
          "output_type": "stream",
          "name": "stderr",
          "text": [
            "\r 73%|███████▎  | 895/1221 [02:13<00:54,  6.01it/s]"
          ]
        },
        {
          "output_type": "stream",
          "name": "stdout",
          "text": [
            "Current Accuracy after processing 894 records: 0.21\n",
            "Current Accuracy after processing 895 records: 0.21\n"
          ]
        },
        {
          "output_type": "stream",
          "name": "stderr",
          "text": [
            "\r 73%|███████▎  | 897/1221 [02:13<00:47,  6.84it/s]"
          ]
        },
        {
          "output_type": "stream",
          "name": "stdout",
          "text": [
            "Current Accuracy after processing 896 records: 0.21\n",
            "Current Accuracy after processing 897 records: 0.21\n",
            "Current Accuracy after processing 898 records: 0.21\n"
          ]
        },
        {
          "output_type": "stream",
          "name": "stderr",
          "text": [
            "\r 74%|███████▎  | 900/1221 [02:13<00:34,  9.38it/s]"
          ]
        },
        {
          "output_type": "stream",
          "name": "stdout",
          "text": [
            "Current Accuracy after processing 899 records: 0.21\n",
            "Current Accuracy after processing 900 records: 0.21\n",
            "Current Accuracy after processing 901 records: 0.21\n"
          ]
        },
        {
          "output_type": "stream",
          "name": "stderr",
          "text": [
            "\r 74%|███████▍  | 902/1221 [02:14<00:48,  6.62it/s]"
          ]
        },
        {
          "output_type": "stream",
          "name": "stdout",
          "text": [
            "Current Accuracy after processing 902 records: 0.21\n",
            "Current Accuracy after processing 903 records: 0.21\n"
          ]
        },
        {
          "output_type": "stream",
          "name": "stderr",
          "text": [
            " 74%|███████▍  | 905/1221 [02:14<00:51,  6.19it/s]"
          ]
        },
        {
          "output_type": "stream",
          "name": "stdout",
          "text": [
            "Current Accuracy after processing 904 records: 0.21\n",
            "Current Accuracy after processing 905 records: 0.21\n"
          ]
        },
        {
          "output_type": "stream",
          "name": "stderr",
          "text": [
            "\r 74%|███████▍  | 906/1221 [02:15<00:51,  6.12it/s]"
          ]
        },
        {
          "output_type": "stream",
          "name": "stdout",
          "text": [
            "Current Accuracy after processing 906 records: 0.21\n",
            "Current Accuracy after processing 907 records: 0.21\n"
          ]
        },
        {
          "output_type": "stream",
          "name": "stderr",
          "text": [
            " 75%|███████▍  | 910/1221 [02:15<00:43,  7.16it/s]"
          ]
        },
        {
          "output_type": "stream",
          "name": "stdout",
          "text": [
            "Current Accuracy after processing 908 records: 0.21\n",
            "Current Accuracy after processing 909 records: 0.21\n",
            "Current Accuracy after processing 910 records: 0.21\n",
            "Current Accuracy after processing 911 records: 0.21\n"
          ]
        },
        {
          "output_type": "stream",
          "name": "stderr",
          "text": [
            "\r 75%|███████▍  | 912/1221 [02:15<00:45,  6.80it/s]"
          ]
        },
        {
          "output_type": "stream",
          "name": "stdout",
          "text": [
            "Current Accuracy after processing 912 records: 0.21\n",
            "Current Accuracy after processing 913 records: 0.21\n"
          ]
        },
        {
          "output_type": "stream",
          "name": "stderr",
          "text": [
            " 75%|███████▌  | 916/1221 [02:16<00:36,  8.43it/s]"
          ]
        },
        {
          "output_type": "stream",
          "name": "stdout",
          "text": [
            "Current Accuracy after processing 914 records: 0.21\n",
            "Current Accuracy after processing 915 records: 0.21\n",
            "Current Accuracy after processing 916 records: 0.21\n"
          ]
        },
        {
          "output_type": "stream",
          "name": "stderr",
          "text": [
            "\r 75%|███████▌  | 918/1221 [02:16<00:45,  6.67it/s]"
          ]
        },
        {
          "output_type": "stream",
          "name": "stdout",
          "text": [
            "Current Accuracy after processing 917 records: 0.21\n",
            "Current Accuracy after processing 918 records: 0.21\n"
          ]
        },
        {
          "output_type": "stream",
          "name": "stderr",
          "text": [
            "\r 75%|███████▌  | 919/1221 [02:16<00:45,  6.62it/s]"
          ]
        },
        {
          "output_type": "stream",
          "name": "stdout",
          "text": [
            "Current Accuracy after processing 919 records: 0.21\n",
            "Current Accuracy after processing 920 records: 0.21\n"
          ]
        },
        {
          "output_type": "stream",
          "name": "stderr",
          "text": [
            " 76%|███████▌  | 923/1221 [02:17<00:39,  7.50it/s]"
          ]
        },
        {
          "output_type": "stream",
          "name": "stdout",
          "text": [
            "Current Accuracy after processing 921 records: 0.21\n",
            "Current Accuracy after processing 922 records: 0.21\n",
            "Current Accuracy after processing 923 records: 0.21\n"
          ]
        },
        {
          "output_type": "stream",
          "name": "stderr",
          "text": [
            "\r 76%|███████▌  | 924/1221 [02:17<00:46,  6.37it/s]"
          ]
        },
        {
          "output_type": "stream",
          "name": "stdout",
          "text": [
            "Current Accuracy after processing 924 records: 0.21\n",
            "Current Accuracy after processing 925 records: 0.21\n"
          ]
        },
        {
          "output_type": "stream",
          "name": "stderr",
          "text": [
            " 76%|███████▌  | 927/1221 [02:18<00:41,  7.13it/s]"
          ]
        },
        {
          "output_type": "stream",
          "name": "stdout",
          "text": [
            "Current Accuracy after processing 926 records: 0.21\n",
            "Current Accuracy after processing 927 records: 0.21\n",
            "Current Accuracy after processing 928 records: 0.21\n"
          ]
        },
        {
          "output_type": "stream",
          "name": "stderr",
          "text": [
            "\r 76%|███████▌  | 929/1221 [02:18<00:33,  8.77it/s]"
          ]
        },
        {
          "output_type": "stream",
          "name": "stdout",
          "text": [
            "Current Accuracy after processing 929 records: 0.21\n"
          ]
        },
        {
          "output_type": "stream",
          "name": "stderr",
          "text": [
            "\r 76%|███████▌  | 930/1221 [02:18<00:42,  6.88it/s]"
          ]
        },
        {
          "output_type": "stream",
          "name": "stdout",
          "text": [
            "Current Accuracy after processing 930 records: 0.21\n",
            "Current Accuracy after processing 931 records: 0.21\n"
          ]
        },
        {
          "output_type": "stream",
          "name": "stderr",
          "text": [
            "\r 76%|███████▋  | 932/1221 [02:18<00:51,  5.58it/s]"
          ]
        },
        {
          "output_type": "stream",
          "name": "stdout",
          "text": [
            "Current Accuracy after processing 932 records: 0.21\n"
          ]
        },
        {
          "output_type": "stream",
          "name": "stderr",
          "text": [
            "\r 76%|███████▋  | 933/1221 [02:19<00:57,  4.99it/s]"
          ]
        },
        {
          "output_type": "stream",
          "name": "stdout",
          "text": [
            "Current Accuracy after processing 933 records: 0.21\n"
          ]
        },
        {
          "output_type": "stream",
          "name": "stderr",
          "text": [
            " 77%|███████▋  | 935/1221 [02:19<00:57,  5.00it/s]"
          ]
        },
        {
          "output_type": "stream",
          "name": "stdout",
          "text": [
            "Current Accuracy after processing 934 records: 0.21\n",
            "Current Accuracy after processing 935 records: 0.21\n"
          ]
        },
        {
          "output_type": "stream",
          "name": "stderr",
          "text": [
            "\r 77%|███████▋  | 936/1221 [02:19<00:52,  5.46it/s]"
          ]
        },
        {
          "output_type": "stream",
          "name": "stdout",
          "text": [
            "Current Accuracy after processing 936 records: 0.21\n"
          ]
        },
        {
          "output_type": "stream",
          "name": "stderr",
          "text": [
            " 77%|███████▋  | 938/1221 [02:20<00:48,  5.82it/s]"
          ]
        },
        {
          "output_type": "stream",
          "name": "stdout",
          "text": [
            "Current Accuracy after processing 937 records: 0.21\n",
            "Current Accuracy after processing 938 records: 0.21\n",
            "Current Accuracy after processing 939 records: 0.21\n"
          ]
        },
        {
          "output_type": "stream",
          "name": "stderr",
          "text": [
            " 77%|███████▋  | 943/1221 [02:20<00:24, 11.52it/s]"
          ]
        },
        {
          "output_type": "stream",
          "name": "stdout",
          "text": [
            "Current Accuracy after processing 940 records: 0.21\n",
            "Current Accuracy after processing 941 records: 0.21\n",
            "Current Accuracy after processing 942 records: 0.21\n",
            "Current Accuracy after processing 943 records: 0.21\n",
            "Current Accuracy after processing 944 records: 0.21\n"
          ]
        },
        {
          "output_type": "stream",
          "name": "stderr",
          "text": [
            "\r 77%|███████▋  | 945/1221 [02:20<00:22, 12.38it/s]"
          ]
        },
        {
          "output_type": "stream",
          "name": "stdout",
          "text": [
            "Current Accuracy after processing 945 records: 0.21\n",
            "Current Accuracy after processing 946 records: 0.21\n"
          ]
        },
        {
          "output_type": "stream",
          "name": "stderr",
          "text": [
            "\r 78%|███████▊  | 947/1221 [02:20<00:27, 10.11it/s]"
          ]
        },
        {
          "output_type": "stream",
          "name": "stdout",
          "text": [
            "Current Accuracy after processing 947 records: 0.21\n",
            "Current Accuracy after processing 948 records: 0.21\n"
          ]
        },
        {
          "output_type": "stream",
          "name": "stderr",
          "text": [
            "\r 78%|███████▊  | 949/1221 [02:21<00:28,  9.69it/s]"
          ]
        },
        {
          "output_type": "stream",
          "name": "stdout",
          "text": [
            "Current Accuracy after processing 949 records: 0.21\n",
            "Current Accuracy after processing 950 records: 0.21\n"
          ]
        },
        {
          "output_type": "stream",
          "name": "stderr",
          "text": [
            " 78%|███████▊  | 953/1221 [02:21<00:31,  8.50it/s]"
          ]
        },
        {
          "output_type": "stream",
          "name": "stdout",
          "text": [
            "Current Accuracy after processing 951 records: 0.21\n",
            "Current Accuracy after processing 952 records: 0.21\n",
            "Current Accuracy after processing 953 records: 0.21\n"
          ]
        },
        {
          "output_type": "stream",
          "name": "stderr",
          "text": [
            "\r 78%|███████▊  | 955/1221 [02:21<00:26,  9.92it/s]"
          ]
        },
        {
          "output_type": "stream",
          "name": "stdout",
          "text": [
            "Current Accuracy after processing 954 records: 0.21\n",
            "Current Accuracy after processing 955 records: 0.21\n",
            "Current Accuracy after processing 956 records: 0.21\n"
          ]
        },
        {
          "output_type": "stream",
          "name": "stderr",
          "text": [
            "\r 78%|███████▊  | 957/1221 [02:22<00:32,  8.17it/s]"
          ]
        },
        {
          "output_type": "stream",
          "name": "stdout",
          "text": [
            "Current Accuracy after processing 957 records: 0.21\n",
            "Current Accuracy after processing 958 records: 0.21\n"
          ]
        },
        {
          "output_type": "stream",
          "name": "stderr",
          "text": [
            "\r 79%|███████▊  | 959/1221 [02:22<00:30,  8.50it/s]"
          ]
        },
        {
          "output_type": "stream",
          "name": "stdout",
          "text": [
            "Current Accuracy after processing 959 records: 0.21\n"
          ]
        },
        {
          "output_type": "stream",
          "name": "stderr",
          "text": [
            "\r 79%|███████▊  | 960/1221 [02:22<00:35,  7.25it/s]"
          ]
        },
        {
          "output_type": "stream",
          "name": "stdout",
          "text": [
            "Current Accuracy after processing 960 records: 0.21\n"
          ]
        },
        {
          "output_type": "stream",
          "name": "stderr",
          "text": [
            "\r 79%|███████▊  | 961/1221 [02:22<00:44,  5.86it/s]"
          ]
        },
        {
          "output_type": "stream",
          "name": "stdout",
          "text": [
            "Current Accuracy after processing 961 records: 0.21\n"
          ]
        },
        {
          "output_type": "stream",
          "name": "stderr",
          "text": [
            "\r 79%|███████▉  | 962/1221 [02:23<00:50,  5.18it/s]"
          ]
        },
        {
          "output_type": "stream",
          "name": "stdout",
          "text": [
            "Current Accuracy after processing 962 records: 0.21\n",
            "Current Accuracy after processing 963 records: 0.21\n"
          ]
        },
        {
          "output_type": "stream",
          "name": "stderr",
          "text": [
            " 79%|███████▉  | 966/1221 [02:23<00:35,  7.26it/s]"
          ]
        },
        {
          "output_type": "stream",
          "name": "stdout",
          "text": [
            "Current Accuracy after processing 964 records: 0.21\n",
            "Current Accuracy after processing 965 records: 0.21\n",
            "Current Accuracy after processing 966 records: 0.21\n",
            "Current Accuracy after processing 967 records: 0.21\n"
          ]
        },
        {
          "output_type": "stream",
          "name": "stderr",
          "text": [
            "\r 79%|███████▉  | 968/1221 [02:23<00:31,  8.15it/s]"
          ]
        },
        {
          "output_type": "stream",
          "name": "stdout",
          "text": [
            "Current Accuracy after processing 968 records: 0.21\n"
          ]
        },
        {
          "output_type": "stream",
          "name": "stderr",
          "text": [
            "\r 79%|███████▉  | 970/1221 [02:24<00:34,  7.32it/s]"
          ]
        },
        {
          "output_type": "stream",
          "name": "stdout",
          "text": [
            "Current Accuracy after processing 969 records: 0.21\n",
            "Current Accuracy after processing 970 records: 0.21\n"
          ]
        },
        {
          "output_type": "stream",
          "name": "stderr",
          "text": [
            " 80%|███████▉  | 973/1221 [02:24<00:31,  7.92it/s]"
          ]
        },
        {
          "output_type": "stream",
          "name": "stdout",
          "text": [
            "Current Accuracy after processing 971 records: 0.21\n",
            "Current Accuracy after processing 972 records: 0.21\n",
            "Current Accuracy after processing 973 records: 0.21\n",
            "Current Accuracy after processing 974 records: 0.21\n"
          ]
        },
        {
          "output_type": "stream",
          "name": "stderr",
          "text": [
            " 80%|████████  | 977/1221 [02:25<00:31,  7.75it/s]"
          ]
        },
        {
          "output_type": "stream",
          "name": "stdout",
          "text": [
            "Current Accuracy after processing 975 records: 0.21\n",
            "Current Accuracy after processing 976 records: 0.21\n",
            "Current Accuracy after processing 977 records: 0.21\n",
            "Current Accuracy after processing 978 records: 0.21\n"
          ]
        },
        {
          "output_type": "stream",
          "name": "stderr",
          "text": [
            "\r 80%|████████  | 979/1221 [02:25<00:29,  8.23it/s]"
          ]
        },
        {
          "output_type": "stream",
          "name": "stdout",
          "text": [
            "Current Accuracy after processing 979 records: 0.21\n",
            "Current Accuracy after processing 980 records: 0.21\n"
          ]
        },
        {
          "output_type": "stream",
          "name": "stderr",
          "text": [
            "\r 80%|████████  | 981/1221 [02:25<00:36,  6.64it/s]"
          ]
        },
        {
          "output_type": "stream",
          "name": "stdout",
          "text": [
            "Current Accuracy after processing 981 records: 0.21\n"
          ]
        },
        {
          "output_type": "stream",
          "name": "stderr",
          "text": [
            "\r 80%|████████  | 982/1221 [02:25<00:41,  5.79it/s]"
          ]
        },
        {
          "output_type": "stream",
          "name": "stdout",
          "text": [
            "Current Accuracy after processing 982 records: 0.21\n",
            "Current Accuracy after processing 983 records: 0.21\n"
          ]
        },
        {
          "output_type": "stream",
          "name": "stderr",
          "text": [
            "\r 81%|████████  | 984/1221 [02:26<00:41,  5.75it/s]"
          ]
        },
        {
          "output_type": "stream",
          "name": "stdout",
          "text": [
            "Current Accuracy after processing 984 records: 0.21\n"
          ]
        },
        {
          "output_type": "stream",
          "name": "stderr",
          "text": [
            " 81%|████████  | 986/1221 [02:26<00:42,  5.56it/s]"
          ]
        },
        {
          "output_type": "stream",
          "name": "stdout",
          "text": [
            "Current Accuracy after processing 985 records: 0.21\n",
            "Current Accuracy after processing 986 records: 0.21\n"
          ]
        },
        {
          "output_type": "stream",
          "name": "stderr",
          "text": [
            "\r 81%|████████  | 988/1221 [02:26<00:31,  7.41it/s]"
          ]
        },
        {
          "output_type": "stream",
          "name": "stdout",
          "text": [
            "Current Accuracy after processing 987 records: 0.21\n",
            "Current Accuracy after processing 988 records: 0.21\n",
            "Current Accuracy after processing 989 records: 0.21\n"
          ]
        },
        {
          "output_type": "stream",
          "name": "stderr",
          "text": [
            " 81%|████████  | 991/1221 [02:27<00:29,  7.75it/s]"
          ]
        },
        {
          "output_type": "stream",
          "name": "stdout",
          "text": [
            "Current Accuracy after processing 990 records: 0.21\n",
            "Current Accuracy after processing 991 records: 0.21\n"
          ]
        },
        {
          "output_type": "stream",
          "name": "stderr",
          "text": [
            " 81%|████████▏ | 994/1221 [02:27<00:25,  8.87it/s]"
          ]
        },
        {
          "output_type": "stream",
          "name": "stdout",
          "text": [
            "Current Accuracy after processing 992 records: 0.21\n",
            "Current Accuracy after processing 993 records: 0.21\n",
            "Current Accuracy after processing 994 records: 0.21\n",
            "Current Accuracy after processing 995 records: 0.21\n"
          ]
        },
        {
          "output_type": "stream",
          "name": "stderr",
          "text": [
            "\r 82%|████████▏ | 996/1221 [02:27<00:29,  7.62it/s]"
          ]
        },
        {
          "output_type": "stream",
          "name": "stdout",
          "text": [
            "Current Accuracy after processing 996 records: 0.20\n",
            "Current Accuracy after processing 997 records: 0.20\n"
          ]
        },
        {
          "output_type": "stream",
          "name": "stderr",
          "text": [
            " 82%|████████▏ | 999/1221 [02:28<00:33,  6.63it/s]"
          ]
        },
        {
          "output_type": "stream",
          "name": "stdout",
          "text": [
            "Current Accuracy after processing 998 records: 0.20\n",
            "Current Accuracy after processing 999 records: 0.20\n"
          ]
        },
        {
          "output_type": "stream",
          "name": "stderr",
          "text": [
            "\r 82%|████████▏ | 1000/1221 [02:28<00:31,  6.92it/s]"
          ]
        },
        {
          "output_type": "stream",
          "name": "stdout",
          "text": [
            "Current Accuracy after processing 1000 records: 0.20\n",
            "Current Accuracy after processing 1001 records: 0.20\n"
          ]
        },
        {
          "output_type": "stream",
          "name": "stderr",
          "text": [
            " 82%|████████▏ | 1004/1221 [02:29<00:27,  8.00it/s]"
          ]
        },
        {
          "output_type": "stream",
          "name": "stdout",
          "text": [
            "Current Accuracy after processing 1002 records: 0.20\n",
            "Current Accuracy after processing 1003 records: 0.20\n",
            "Current Accuracy after processing 1004 records: 0.21\n",
            "Current Accuracy after processing 1005 records: 0.20\n"
          ]
        },
        {
          "output_type": "stream",
          "name": "stderr",
          "text": [
            " 82%|████████▏ | 1007/1221 [02:29<00:25,  8.56it/s]"
          ]
        },
        {
          "output_type": "stream",
          "name": "stdout",
          "text": [
            "Current Accuracy after processing 1006 records: 0.20\n",
            "Current Accuracy after processing 1007 records: 0.20\n"
          ]
        },
        {
          "output_type": "stream",
          "name": "stderr",
          "text": [
            " 83%|████████▎ | 1010/1221 [02:29<00:20, 10.37it/s]"
          ]
        },
        {
          "output_type": "stream",
          "name": "stdout",
          "text": [
            "Current Accuracy after processing 1008 records: 0.21\n",
            "Current Accuracy after processing 1009 records: 0.21\n",
            "Current Accuracy after processing 1010 records: 0.20\n"
          ]
        },
        {
          "output_type": "stream",
          "name": "stderr",
          "text": [
            "\r 83%|████████▎ | 1012/1221 [02:29<00:24,  8.70it/s]"
          ]
        },
        {
          "output_type": "stream",
          "name": "stdout",
          "text": [
            "Current Accuracy after processing 1011 records: 0.20\n",
            "Current Accuracy after processing 1012 records: 0.20\n",
            "Current Accuracy after processing 1013 records: 0.20\n"
          ]
        },
        {
          "output_type": "stream",
          "name": "stderr",
          "text": [
            " 83%|████████▎ | 1016/1221 [02:30<00:18, 10.92it/s]"
          ]
        },
        {
          "output_type": "stream",
          "name": "stdout",
          "text": [
            "Current Accuracy after processing 1014 records: 0.20\n",
            "Current Accuracy after processing 1015 records: 0.20\n",
            "Current Accuracy after processing 1016 records: 0.20\n",
            "Current Accuracy after processing 1017 records: 0.20\n"
          ]
        },
        {
          "output_type": "stream",
          "name": "stderr",
          "text": [
            " 84%|████████▎ | 1020/1221 [02:30<00:16, 11.94it/s]"
          ]
        },
        {
          "output_type": "stream",
          "name": "stdout",
          "text": [
            "Current Accuracy after processing 1018 records: 0.20\n",
            "Current Accuracy after processing 1019 records: 0.20\n",
            "Current Accuracy after processing 1020 records: 0.20\n"
          ]
        },
        {
          "output_type": "stream",
          "name": "stderr",
          "text": [
            "\r 84%|████████▎ | 1022/1221 [02:30<00:24,  8.07it/s]"
          ]
        },
        {
          "output_type": "stream",
          "name": "stdout",
          "text": [
            "Current Accuracy after processing 1021 records: 0.20\n",
            "Current Accuracy after processing 1022 records: 0.20\n"
          ]
        },
        {
          "output_type": "stream",
          "name": "stderr",
          "text": [
            "\r 84%|████████▍ | 1024/1221 [02:31<00:28,  6.98it/s]"
          ]
        },
        {
          "output_type": "stream",
          "name": "stdout",
          "text": [
            "Current Accuracy after processing 1023 records: 0.20\n",
            "Current Accuracy after processing 1024 records: 0.20\n"
          ]
        },
        {
          "output_type": "stream",
          "name": "stderr",
          "text": [
            "\r 84%|████████▍ | 1025/1221 [02:31<00:30,  6.33it/s]"
          ]
        },
        {
          "output_type": "stream",
          "name": "stdout",
          "text": [
            "Current Accuracy after processing 1025 records: 0.20\n"
          ]
        },
        {
          "output_type": "stream",
          "name": "stderr",
          "text": [
            "\r 84%|████████▍ | 1026/1221 [02:31<00:36,  5.41it/s]"
          ]
        },
        {
          "output_type": "stream",
          "name": "stdout",
          "text": [
            "Current Accuracy after processing 1026 records: 0.20\n"
          ]
        },
        {
          "output_type": "stream",
          "name": "stderr",
          "text": [
            " 84%|████████▍ | 1029/1221 [02:32<00:27,  6.86it/s]"
          ]
        },
        {
          "output_type": "stream",
          "name": "stdout",
          "text": [
            "Current Accuracy after processing 1027 records: 0.20\n",
            "Current Accuracy after processing 1028 records: 0.20\n",
            "Current Accuracy after processing 1029 records: 0.20\n",
            "Current Accuracy after processing 1030 records: 0.20\n"
          ]
        },
        {
          "output_type": "stream",
          "name": "stderr",
          "text": [
            "\r 84%|████████▍ | 1031/1221 [02:32<00:22,  8.55it/s]"
          ]
        },
        {
          "output_type": "stream",
          "name": "stdout",
          "text": [
            "Current Accuracy after processing 1031 records: 0.20\n",
            "Current Accuracy after processing 1032 records: 0.20\n"
          ]
        },
        {
          "output_type": "stream",
          "name": "stderr",
          "text": [
            " 85%|████████▍ | 1036/1221 [02:32<00:16, 11.41it/s]"
          ]
        },
        {
          "output_type": "stream",
          "name": "stdout",
          "text": [
            "Current Accuracy after processing 1033 records: 0.21\n",
            "Current Accuracy after processing 1034 records: 0.21\n",
            "Current Accuracy after processing 1035 records: 0.21\n",
            "Current Accuracy after processing 1036 records: 0.21\n"
          ]
        },
        {
          "output_type": "stream",
          "name": "stderr",
          "text": [
            "\r 85%|████████▌ | 1038/1221 [02:32<00:19,  9.49it/s]"
          ]
        },
        {
          "output_type": "stream",
          "name": "stdout",
          "text": [
            "Current Accuracy after processing 1037 records: 0.21\n",
            "Current Accuracy after processing 1038 records: 0.21\n",
            "Current Accuracy after processing 1039 records: 0.21\n"
          ]
        },
        {
          "output_type": "stream",
          "name": "stderr",
          "text": [
            " 85%|████████▌ | 1042/1221 [02:33<00:19,  9.02it/s]"
          ]
        },
        {
          "output_type": "stream",
          "name": "stdout",
          "text": [
            "Current Accuracy after processing 1040 records: 0.21\n",
            "Current Accuracy after processing 1041 records: 0.21\n",
            "Current Accuracy after processing 1042 records: 0.21\n",
            "Current Accuracy after processing 1043 records: 0.21\n"
          ]
        },
        {
          "output_type": "stream",
          "name": "stderr",
          "text": [
            " 86%|████████▌ | 1045/1221 [02:33<00:20,  8.56it/s]"
          ]
        },
        {
          "output_type": "stream",
          "name": "stdout",
          "text": [
            "Current Accuracy after processing 1044 records: 0.21\n",
            "Current Accuracy after processing 1045 records: 0.21\n",
            "Current Accuracy after processing 1046 records: 0.21\n"
          ]
        },
        {
          "output_type": "stream",
          "name": "stderr",
          "text": [
            "\r 86%|████████▌ | 1047/1221 [02:34<00:21,  8.03it/s]"
          ]
        },
        {
          "output_type": "stream",
          "name": "stdout",
          "text": [
            "Current Accuracy after processing 1047 records: 0.21\n",
            "Current Accuracy after processing 1048 records: 0.21\n"
          ]
        },
        {
          "output_type": "stream",
          "name": "stderr",
          "text": [
            " 86%|████████▌ | 1051/1221 [02:34<00:16, 10.19it/s]"
          ]
        },
        {
          "output_type": "stream",
          "name": "stdout",
          "text": [
            "Current Accuracy after processing 1049 records: 0.21\n",
            "Current Accuracy after processing 1050 records: 0.21\n",
            "Current Accuracy after processing 1051 records: 0.21\n",
            "Current Accuracy after processing 1052 records: 0.21\n"
          ]
        },
        {
          "output_type": "stream",
          "name": "stderr",
          "text": [
            "\r 86%|████████▌ | 1053/1221 [02:34<00:21,  7.97it/s]"
          ]
        },
        {
          "output_type": "stream",
          "name": "stdout",
          "text": [
            "Current Accuracy after processing 1053 records: 0.21\n",
            "Current Accuracy after processing 1054 records: 0.21\n"
          ]
        },
        {
          "output_type": "stream",
          "name": "stderr",
          "text": [
            " 86%|████████▋ | 1056/1221 [02:35<00:20,  8.06it/s]"
          ]
        },
        {
          "output_type": "stream",
          "name": "stdout",
          "text": [
            "Current Accuracy after processing 1055 records: 0.21\n",
            "Current Accuracy after processing 1056 records: 0.21\n"
          ]
        },
        {
          "output_type": "stream",
          "name": "stderr",
          "text": [
            "\r 87%|████████▋ | 1057/1221 [02:35<00:22,  7.28it/s]"
          ]
        },
        {
          "output_type": "stream",
          "name": "stdout",
          "text": [
            "Current Accuracy after processing 1057 records: 0.21\n",
            "Current Accuracy after processing 1058 records: 0.21\n"
          ]
        },
        {
          "output_type": "stream",
          "name": "stderr",
          "text": [
            "\r 87%|████████▋ | 1059/1221 [02:35<00:21,  7.60it/s]"
          ]
        },
        {
          "output_type": "stream",
          "name": "stdout",
          "text": [
            "Current Accuracy after processing 1059 records: 0.21\n",
            "Current Accuracy after processing 1060 records: 0.21\n"
          ]
        },
        {
          "output_type": "stream",
          "name": "stderr",
          "text": [
            " 87%|████████▋ | 1062/1221 [02:36<00:22,  7.10it/s]"
          ]
        },
        {
          "output_type": "stream",
          "name": "stdout",
          "text": [
            "Current Accuracy after processing 1061 records: 0.21\n",
            "Current Accuracy after processing 1062 records: 0.21\n"
          ]
        },
        {
          "output_type": "stream",
          "name": "stderr",
          "text": [
            "\r 87%|████████▋ | 1063/1221 [02:36<00:27,  5.76it/s]"
          ]
        },
        {
          "output_type": "stream",
          "name": "stdout",
          "text": [
            "Current Accuracy after processing 1063 records: 0.21\n",
            "Current Accuracy after processing 1064 records: 0.21\n"
          ]
        },
        {
          "output_type": "stream",
          "name": "stderr",
          "text": [
            " 87%|████████▋ | 1067/1221 [02:36<00:20,  7.42it/s]"
          ]
        },
        {
          "output_type": "stream",
          "name": "stdout",
          "text": [
            "Current Accuracy after processing 1065 records: 0.21\n",
            "Current Accuracy after processing 1066 records: 0.21\n",
            "Current Accuracy after processing 1067 records: 0.21\n",
            "Current Accuracy after processing 1068 records: 0.21\n"
          ]
        },
        {
          "output_type": "stream",
          "name": "stderr",
          "text": [
            " 88%|████████▊ | 1071/1221 [02:37<00:15,  9.89it/s]"
          ]
        },
        {
          "output_type": "stream",
          "name": "stdout",
          "text": [
            "Current Accuracy after processing 1069 records: 0.20\n",
            "Current Accuracy after processing 1070 records: 0.20\n",
            "Current Accuracy after processing 1071 records: 0.20\n"
          ]
        },
        {
          "output_type": "stream",
          "name": "stderr",
          "text": [
            "\r 88%|████████▊ | 1073/1221 [02:37<00:15,  9.30it/s]"
          ]
        },
        {
          "output_type": "stream",
          "name": "stdout",
          "text": [
            "Current Accuracy after processing 1072 records: 0.20\n",
            "Current Accuracy after processing 1073 records: 0.21\n",
            "Current Accuracy after processing 1074 records: 0.20\n"
          ]
        },
        {
          "output_type": "stream",
          "name": "stderr",
          "text": [
            "\r 88%|████████▊ | 1075/1221 [02:37<00:19,  7.35it/s]"
          ]
        },
        {
          "output_type": "stream",
          "name": "stdout",
          "text": [
            "Current Accuracy after processing 1075 records: 0.21\n"
          ]
        },
        {
          "output_type": "stream",
          "name": "stderr",
          "text": [
            "\r 88%|████████▊ | 1076/1221 [02:38<00:24,  6.02it/s]"
          ]
        },
        {
          "output_type": "stream",
          "name": "stdout",
          "text": [
            "Current Accuracy after processing 1076 records: 0.21\n",
            "Current Accuracy after processing 1077 records: 0.21\n"
          ]
        },
        {
          "output_type": "stream",
          "name": "stderr",
          "text": [
            " 88%|████████▊ | 1080/1221 [02:38<00:17,  7.90it/s]"
          ]
        },
        {
          "output_type": "stream",
          "name": "stdout",
          "text": [
            "Current Accuracy after processing 1078 records: 0.21\n",
            "Current Accuracy after processing 1079 records: 0.21\n",
            "Current Accuracy after processing 1080 records: 0.21\n"
          ]
        },
        {
          "output_type": "stream",
          "name": "stderr",
          "text": [
            "\r 89%|████████▊ | 1082/1221 [02:38<00:18,  7.34it/s]"
          ]
        },
        {
          "output_type": "stream",
          "name": "stdout",
          "text": [
            "Current Accuracy after processing 1081 records: 0.21\n",
            "Current Accuracy after processing 1082 records: 0.21\n",
            "Current Accuracy after processing 1083 records: 0.21\n"
          ]
        },
        {
          "output_type": "stream",
          "name": "stderr",
          "text": [
            "\r 89%|████████▉ | 1084/1221 [02:39<00:19,  7.11it/s]"
          ]
        },
        {
          "output_type": "stream",
          "name": "stdout",
          "text": [
            "Current Accuracy after processing 1084 records: 0.21\n"
          ]
        },
        {
          "output_type": "stream",
          "name": "stderr",
          "text": [
            "\r 89%|████████▉ | 1085/1221 [02:39<00:22,  6.17it/s]"
          ]
        },
        {
          "output_type": "stream",
          "name": "stdout",
          "text": [
            "Current Accuracy after processing 1085 records: 0.21\n",
            "Current Accuracy after processing 1086 records: 0.21\n"
          ]
        },
        {
          "output_type": "stream",
          "name": "stderr",
          "text": [
            " 89%|████████▉ | 1088/1221 [02:39<00:18,  7.30it/s]"
          ]
        },
        {
          "output_type": "stream",
          "name": "stdout",
          "text": [
            "Current Accuracy after processing 1087 records: 0.21\n",
            "Current Accuracy after processing 1088 records: 0.21\n",
            "Current Accuracy after processing 1089 records: 0.21\n"
          ]
        },
        {
          "output_type": "stream",
          "name": "stderr",
          "text": [
            "\r 89%|████████▉ | 1090/1221 [02:39<00:14,  8.84it/s]"
          ]
        },
        {
          "output_type": "stream",
          "name": "stdout",
          "text": [
            "Current Accuracy after processing 1090 records: 0.21\n",
            "Current Accuracy after processing 1091 records: 0.21\n"
          ]
        },
        {
          "output_type": "stream",
          "name": "stderr",
          "text": [
            "\r 89%|████████▉ | 1092/1221 [02:40<00:14,  8.93it/s]"
          ]
        },
        {
          "output_type": "stream",
          "name": "stdout",
          "text": [
            "Current Accuracy after processing 1092 records: 0.21\n",
            "Current Accuracy after processing 1093 records: 0.21\n"
          ]
        },
        {
          "output_type": "stream",
          "name": "stderr",
          "text": [
            "\r 90%|████████▉ | 1094/1221 [02:40<00:17,  7.47it/s]"
          ]
        },
        {
          "output_type": "stream",
          "name": "stdout",
          "text": [
            "Current Accuracy after processing 1094 records: 0.21\n"
          ]
        },
        {
          "output_type": "stream",
          "name": "stderr",
          "text": [
            "\r 90%|████████▉ | 1095/1221 [02:40<00:20,  6.21it/s]"
          ]
        },
        {
          "output_type": "stream",
          "name": "stdout",
          "text": [
            "Current Accuracy after processing 1095 records: 0.21\n"
          ]
        },
        {
          "output_type": "stream",
          "name": "stderr",
          "text": [
            "\r 90%|████████▉ | 1096/1221 [02:40<00:23,  5.38it/s]"
          ]
        },
        {
          "output_type": "stream",
          "name": "stdout",
          "text": [
            "Current Accuracy after processing 1096 records: 0.21\n",
            "Current Accuracy after processing 1097 records: 0.21\n"
          ]
        },
        {
          "output_type": "stream",
          "name": "stderr",
          "text": [
            "\r 90%|████████▉ | 1098/1221 [02:41<00:22,  5.43it/s]"
          ]
        },
        {
          "output_type": "stream",
          "name": "stdout",
          "text": [
            "Current Accuracy after processing 1098 records: 0.21\n"
          ]
        },
        {
          "output_type": "stream",
          "name": "stderr",
          "text": [
            " 90%|█████████ | 1100/1221 [02:41<00:23,  5.24it/s]"
          ]
        },
        {
          "output_type": "stream",
          "name": "stdout",
          "text": [
            "Current Accuracy after processing 1099 records: 0.21\n",
            "Current Accuracy after processing 1100 records: 0.21\n"
          ]
        },
        {
          "output_type": "stream",
          "name": "stderr",
          "text": [
            "\r 90%|█████████ | 1101/1221 [02:41<00:20,  5.92it/s]"
          ]
        },
        {
          "output_type": "stream",
          "name": "stdout",
          "text": [
            "Current Accuracy after processing 1101 records: 0.21\n",
            "Current Accuracy after processing 1102 records: 0.21\n"
          ]
        },
        {
          "output_type": "stream",
          "name": "stderr",
          "text": [
            " 90%|█████████ | 1104/1221 [02:42<00:20,  5.69it/s]"
          ]
        },
        {
          "output_type": "stream",
          "name": "stdout",
          "text": [
            "Current Accuracy after processing 1103 records: 0.21\n",
            "Current Accuracy after processing 1104 records: 0.21\n",
            "Current Accuracy after processing 1105 records: 0.21\n"
          ]
        },
        {
          "output_type": "stream",
          "name": "stderr",
          "text": [
            " 91%|█████████ | 1107/1221 [02:43<00:20,  5.64it/s]"
          ]
        },
        {
          "output_type": "stream",
          "name": "stdout",
          "text": [
            "Current Accuracy after processing 1106 records: 0.21\n",
            "Current Accuracy after processing 1107 records: 0.21\n",
            "Current Accuracy after processing 1108 records: 0.21\n"
          ]
        },
        {
          "output_type": "stream",
          "name": "stderr",
          "text": [
            " 91%|█████████ | 1110/1221 [02:43<00:14,  7.74it/s]"
          ]
        },
        {
          "output_type": "stream",
          "name": "stdout",
          "text": [
            "Current Accuracy after processing 1109 records: 0.21\n",
            "Current Accuracy after processing 1110 records: 0.21\n"
          ]
        },
        {
          "output_type": "stream",
          "name": "stderr",
          "text": [
            " 91%|█████████ | 1112/1221 [02:43<00:21,  5.09it/s]"
          ]
        },
        {
          "output_type": "stream",
          "name": "stdout",
          "text": [
            "Current Accuracy after processing 1111 records: 0.21\n",
            "Current Accuracy after processing 1112 records: 0.21\n"
          ]
        },
        {
          "output_type": "stream",
          "name": "stderr",
          "text": [
            "\r 91%|█████████ | 1113/1221 [02:44<00:23,  4.56it/s]"
          ]
        },
        {
          "output_type": "stream",
          "name": "stdout",
          "text": [
            "Current Accuracy after processing 1113 records: 0.21\n"
          ]
        },
        {
          "output_type": "stream",
          "name": "stderr",
          "text": [
            " 91%|█████████▏| 1116/1221 [02:44<00:17,  6.16it/s]"
          ]
        },
        {
          "output_type": "stream",
          "name": "stdout",
          "text": [
            "Current Accuracy after processing 1114 records: 0.21\n",
            "Current Accuracy after processing 1115 records: 0.21\n",
            "Current Accuracy after processing 1116 records: 0.21\n"
          ]
        },
        {
          "output_type": "stream",
          "name": "stderr",
          "text": [
            "\r 91%|█████████▏| 1117/1221 [02:44<00:16,  6.16it/s]"
          ]
        },
        {
          "output_type": "stream",
          "name": "stdout",
          "text": [
            "Current Accuracy after processing 1117 records: 0.21\n",
            "Current Accuracy after processing 1118 records: 0.21\n"
          ]
        },
        {
          "output_type": "stream",
          "name": "stderr",
          "text": [
            " 92%|█████████▏| 1121/1221 [02:45<00:14,  7.04it/s]"
          ]
        },
        {
          "output_type": "stream",
          "name": "stdout",
          "text": [
            "Current Accuracy after processing 1119 records: 0.21\n",
            "Current Accuracy after processing 1120 records: 0.21\n",
            "Current Accuracy after processing 1121 records: 0.21\n"
          ]
        },
        {
          "output_type": "stream",
          "name": "stderr",
          "text": [
            " 92%|█████████▏| 1123/1221 [02:45<00:16,  6.08it/s]"
          ]
        },
        {
          "output_type": "stream",
          "name": "stdout",
          "text": [
            "Current Accuracy after processing 1122 records: 0.20\n",
            "Current Accuracy after processing 1123 records: 0.20\n",
            "Current Accuracy after processing 1124 records: 0.20\n"
          ]
        },
        {
          "output_type": "stream",
          "name": "stderr",
          "text": [
            " 92%|█████████▏| 1127/1221 [02:45<00:09, 10.13it/s]"
          ]
        },
        {
          "output_type": "stream",
          "name": "stdout",
          "text": [
            "Current Accuracy after processing 1125 records: 0.21\n",
            "Current Accuracy after processing 1126 records: 0.21\n",
            "Current Accuracy after processing 1127 records: 0.20\n",
            "Current Accuracy after processing 1128 records: 0.20\n"
          ]
        },
        {
          "output_type": "stream",
          "name": "stderr",
          "text": [
            "\r 92%|█████████▏| 1129/1221 [02:46<00:11,  7.88it/s]"
          ]
        },
        {
          "output_type": "stream",
          "name": "stdout",
          "text": [
            "Current Accuracy after processing 1129 records: 0.20\n",
            "Current Accuracy after processing 1130 records: 0.21\n"
          ]
        },
        {
          "output_type": "stream",
          "name": "stderr",
          "text": [
            " 93%|█████████▎| 1132/1221 [02:46<00:14,  6.03it/s]"
          ]
        },
        {
          "output_type": "stream",
          "name": "stdout",
          "text": [
            "Current Accuracy after processing 1131 records: 0.21\n",
            "Current Accuracy after processing 1132 records: 0.21\n"
          ]
        },
        {
          "output_type": "stream",
          "name": "stderr",
          "text": [
            " 93%|█████████▎| 1134/1221 [02:47<00:14,  6.21it/s]"
          ]
        },
        {
          "output_type": "stream",
          "name": "stdout",
          "text": [
            "Current Accuracy after processing 1133 records: 0.21\n",
            "Current Accuracy after processing 1134 records: 0.21\n"
          ]
        },
        {
          "output_type": "stream",
          "name": "stderr",
          "text": [
            " 93%|█████████▎| 1137/1221 [02:47<00:10,  8.26it/s]"
          ]
        },
        {
          "output_type": "stream",
          "name": "stdout",
          "text": [
            "Current Accuracy after processing 1135 records: 0.21\n",
            "Current Accuracy after processing 1136 records: 0.21\n",
            "Current Accuracy after processing 1137 records: 0.21\n"
          ]
        },
        {
          "output_type": "stream",
          "name": "stderr",
          "text": [
            " 93%|█████████▎| 1140/1221 [02:47<00:09,  8.49it/s]"
          ]
        },
        {
          "output_type": "stream",
          "name": "stdout",
          "text": [
            "Current Accuracy after processing 1138 records: 0.21\n",
            "Current Accuracy after processing 1139 records: 0.21\n",
            "Current Accuracy after processing 1140 records: 0.21\n"
          ]
        },
        {
          "output_type": "stream",
          "name": "stderr",
          "text": [
            "\r 94%|█████████▎| 1142/1221 [02:48<00:08,  9.28it/s]"
          ]
        },
        {
          "output_type": "stream",
          "name": "stdout",
          "text": [
            "Current Accuracy after processing 1141 records: 0.21\n",
            "Current Accuracy after processing 1142 records: 0.21\n",
            "Current Accuracy after processing 1143 records: 0.21\n"
          ]
        },
        {
          "output_type": "stream",
          "name": "stderr",
          "text": [
            " 94%|█████████▍| 1146/1221 [02:48<00:06, 10.87it/s]"
          ]
        },
        {
          "output_type": "stream",
          "name": "stdout",
          "text": [
            "Current Accuracy after processing 1144 records: 0.21\n",
            "Current Accuracy after processing 1145 records: 0.21\n",
            "Current Accuracy after processing 1146 records: 0.21\n"
          ]
        },
        {
          "output_type": "stream",
          "name": "stderr",
          "text": [
            "\r 94%|█████████▍| 1148/1221 [02:48<00:07, 10.29it/s]"
          ]
        },
        {
          "output_type": "stream",
          "name": "stdout",
          "text": [
            "Current Accuracy after processing 1147 records: 0.21\n",
            "Current Accuracy after processing 1148 records: 0.21\n"
          ]
        },
        {
          "output_type": "stream",
          "name": "stderr",
          "text": [
            "\r 94%|█████████▍| 1150/1221 [02:48<00:07,  9.78it/s]"
          ]
        },
        {
          "output_type": "stream",
          "name": "stdout",
          "text": [
            "Current Accuracy after processing 1149 records: 0.21\n",
            "Current Accuracy after processing 1150 records: 0.21\n",
            "Current Accuracy after processing 1151 records: 0.21\n",
            "Current Accuracy after processing 1152 records: 0.21\n"
          ]
        },
        {
          "output_type": "stream",
          "name": "stderr",
          "text": [
            "\r 94%|█████████▍| 1153/1221 [02:49<00:05, 12.55it/s]"
          ]
        },
        {
          "output_type": "stream",
          "name": "stdout",
          "text": [
            "Current Accuracy after processing 1153 records: 0.21\n",
            "Current Accuracy after processing 1154 records: 0.21\n"
          ]
        },
        {
          "output_type": "stream",
          "name": "stderr",
          "text": [
            " 95%|█████████▍| 1157/1221 [02:49<00:06, 10.14it/s]"
          ]
        },
        {
          "output_type": "stream",
          "name": "stdout",
          "text": [
            "Current Accuracy after processing 1155 records: 0.21\n",
            "Current Accuracy after processing 1156 records: 0.21\n",
            "Current Accuracy after processing 1157 records: 0.21\n"
          ]
        },
        {
          "output_type": "stream",
          "name": "stderr",
          "text": [
            "\r 95%|█████████▍| 1159/1221 [02:49<00:06, 10.17it/s]"
          ]
        },
        {
          "output_type": "stream",
          "name": "stdout",
          "text": [
            "Current Accuracy after processing 1158 records: 0.21\n",
            "Current Accuracy after processing 1159 records: 0.21\n"
          ]
        },
        {
          "output_type": "stream",
          "name": "stderr",
          "text": [
            "\r 95%|█████████▌| 1161/1221 [02:49<00:06,  9.10it/s]"
          ]
        },
        {
          "output_type": "stream",
          "name": "stdout",
          "text": [
            "Current Accuracy after processing 1160 records: 0.21\n",
            "Current Accuracy after processing 1161 records: 0.21\n"
          ]
        },
        {
          "output_type": "stream",
          "name": "stderr",
          "text": [
            "\r 95%|█████████▌| 1163/1221 [02:50<00:05, 10.61it/s]"
          ]
        },
        {
          "output_type": "stream",
          "name": "stdout",
          "text": [
            "Current Accuracy after processing 1162 records: 0.21\n",
            "Current Accuracy after processing 1163 records: 0.21\n",
            "Current Accuracy after processing 1164 records: 0.21\n"
          ]
        },
        {
          "output_type": "stream",
          "name": "stderr",
          "text": [
            "\r 95%|█████████▌| 1165/1221 [02:50<00:06,  8.68it/s]"
          ]
        },
        {
          "output_type": "stream",
          "name": "stdout",
          "text": [
            "Current Accuracy after processing 1165 records: 0.21\n",
            "Current Accuracy after processing 1166 records: 0.21\n",
            "Current Accuracy after processing 1167 records: 0.21\n"
          ]
        },
        {
          "output_type": "stream",
          "name": "stderr",
          "text": [
            "\r 96%|█████████▌| 1168/1221 [02:50<00:06,  8.39it/s]"
          ]
        },
        {
          "output_type": "stream",
          "name": "stdout",
          "text": [
            "Current Accuracy after processing 1168 records: 0.21\n"
          ]
        },
        {
          "output_type": "stream",
          "name": "stderr",
          "text": [
            " 96%|█████████▌| 1170/1221 [02:51<00:07,  7.04it/s]"
          ]
        },
        {
          "output_type": "stream",
          "name": "stdout",
          "text": [
            "Current Accuracy after processing 1169 records: 0.21\n",
            "Current Accuracy after processing 1170 records: 0.21\n",
            "Current Accuracy after processing 1171 records: 0.21\n"
          ]
        },
        {
          "output_type": "stream",
          "name": "stderr",
          "text": [
            "\r 96%|█████████▌| 1172/1221 [02:51<00:07,  6.80it/s]"
          ]
        },
        {
          "output_type": "stream",
          "name": "stdout",
          "text": [
            "Current Accuracy after processing 1172 records: 0.21\n",
            "Current Accuracy after processing 1173 records: 0.21\n"
          ]
        },
        {
          "output_type": "stream",
          "name": "stderr",
          "text": [
            " 96%|█████████▋| 1176/1221 [02:51<00:05,  8.44it/s]"
          ]
        },
        {
          "output_type": "stream",
          "name": "stdout",
          "text": [
            "Current Accuracy after processing 1174 records: 0.21\n",
            "Current Accuracy after processing 1175 records: 0.21\n",
            "Current Accuracy after processing 1176 records: 0.20\n"
          ]
        },
        {
          "output_type": "stream",
          "name": "stderr",
          "text": [
            "\r 96%|█████████▋| 1177/1221 [02:52<00:05,  7.35it/s]"
          ]
        },
        {
          "output_type": "stream",
          "name": "stdout",
          "text": [
            "Current Accuracy after processing 1177 records: 0.20\n",
            "Current Accuracy after processing 1178 records: 0.21\n"
          ]
        },
        {
          "output_type": "stream",
          "name": "stderr",
          "text": [
            " 97%|█████████▋| 1181/1221 [02:52<00:04,  8.50it/s]"
          ]
        },
        {
          "output_type": "stream",
          "name": "stdout",
          "text": [
            "Current Accuracy after processing 1179 records: 0.21\n",
            "Current Accuracy after processing 1180 records: 0.21\n",
            "Current Accuracy after processing 1181 records: 0.21\n",
            "Current Accuracy after processing 1182 records: 0.21\n",
            "Current Accuracy after processing 1183 records: 0.21\n"
          ]
        },
        {
          "output_type": "stream",
          "name": "stderr",
          "text": [
            "\r 97%|█████████▋| 1184/1221 [02:52<00:03, 11.58it/s]"
          ]
        },
        {
          "output_type": "stream",
          "name": "stdout",
          "text": [
            "Current Accuracy after processing 1184 records: 0.21\n"
          ]
        },
        {
          "output_type": "stream",
          "name": "stderr",
          "text": [
            "\r 97%|█████████▋| 1186/1221 [02:53<00:03,  9.07it/s]"
          ]
        },
        {
          "output_type": "stream",
          "name": "stdout",
          "text": [
            "Current Accuracy after processing 1185 records: 0.21\n",
            "Current Accuracy after processing 1186 records: 0.20\n",
            "Current Accuracy after processing 1187 records: 0.20\n"
          ]
        },
        {
          "output_type": "stream",
          "name": "stderr",
          "text": [
            "\r 97%|█████████▋| 1188/1221 [02:53<00:03,  8.43it/s]"
          ]
        },
        {
          "output_type": "stream",
          "name": "stdout",
          "text": [
            "Current Accuracy after processing 1188 records: 0.20\n",
            "Current Accuracy after processing 1189 records: 0.21\n"
          ]
        },
        {
          "output_type": "stream",
          "name": "stderr",
          "text": [
            " 98%|█████████▊| 1191/1221 [02:53<00:04,  6.46it/s]"
          ]
        },
        {
          "output_type": "stream",
          "name": "stdout",
          "text": [
            "Current Accuracy after processing 1190 records: 0.21\n",
            "Current Accuracy after processing 1191 records: 0.20\n",
            "Current Accuracy after processing 1192 records: 0.20\n"
          ]
        },
        {
          "output_type": "stream",
          "name": "stderr",
          "text": [
            " 98%|█████████▊| 1194/1221 [02:54<00:04,  6.21it/s]"
          ]
        },
        {
          "output_type": "stream",
          "name": "stdout",
          "text": [
            "Current Accuracy after processing 1193 records: 0.20\n",
            "Current Accuracy after processing 1194 records: 0.20\n"
          ]
        },
        {
          "output_type": "stream",
          "name": "stderr",
          "text": [
            "\r 98%|█████████▊| 1195/1221 [02:54<00:04,  5.63it/s]"
          ]
        },
        {
          "output_type": "stream",
          "name": "stdout",
          "text": [
            "Current Accuracy after processing 1195 records: 0.20\n"
          ]
        },
        {
          "output_type": "stream",
          "name": "stderr",
          "text": [
            " 98%|█████████▊| 1198/1221 [02:55<00:03,  6.26it/s]"
          ]
        },
        {
          "output_type": "stream",
          "name": "stdout",
          "text": [
            "Current Accuracy after processing 1196 records: 0.20\n",
            "Current Accuracy after processing 1197 records: 0.20\n",
            "Current Accuracy after processing 1198 records: 0.20\n"
          ]
        },
        {
          "output_type": "stream",
          "name": "stderr",
          "text": [
            "\r 98%|█████████▊| 1199/1221 [02:55<00:03,  6.07it/s]"
          ]
        },
        {
          "output_type": "stream",
          "name": "stdout",
          "text": [
            "Current Accuracy after processing 1199 records: 0.20\n"
          ]
        },
        {
          "output_type": "stream",
          "name": "stderr",
          "text": [
            "\r 98%|█████████▊| 1200/1221 [02:55<00:04,  4.73it/s]"
          ]
        },
        {
          "output_type": "stream",
          "name": "stdout",
          "text": [
            "Current Accuracy after processing 1200 records: 0.20\n"
          ]
        },
        {
          "output_type": "stream",
          "name": "stderr",
          "text": [
            " 99%|█████████▊| 1203/1221 [02:56<00:02,  6.57it/s]"
          ]
        },
        {
          "output_type": "stream",
          "name": "stdout",
          "text": [
            "Current Accuracy after processing 1201 records: 0.20\n",
            "Current Accuracy after processing 1202 records: 0.20\n",
            "Current Accuracy after processing 1203 records: 0.20\n"
          ]
        },
        {
          "output_type": "stream",
          "name": "stderr",
          "text": [
            " 99%|█████████▉| 1206/1221 [02:56<00:01,  8.54it/s]"
          ]
        },
        {
          "output_type": "stream",
          "name": "stdout",
          "text": [
            "Current Accuracy after processing 1204 records: 0.20\n",
            "Current Accuracy after processing 1205 records: 0.20\n",
            "Current Accuracy after processing 1206 records: 0.20\n"
          ]
        },
        {
          "output_type": "stream",
          "name": "stderr",
          "text": [
            "\r 99%|█████████▉| 1207/1221 [02:56<00:02,  6.12it/s]"
          ]
        },
        {
          "output_type": "stream",
          "name": "stdout",
          "text": [
            "Current Accuracy after processing 1207 records: 0.20\n",
            "Current Accuracy after processing 1208 records: 0.20\n"
          ]
        },
        {
          "output_type": "stream",
          "name": "stderr",
          "text": [
            " 99%|█████████▉| 1210/1221 [02:57<00:01,  6.64it/s]"
          ]
        },
        {
          "output_type": "stream",
          "name": "stdout",
          "text": [
            "Current Accuracy after processing 1209 records: 0.20\n",
            "Current Accuracy after processing 1210 records: 0.20\n",
            "Current Accuracy after processing 1211 records: 0.20\n"
          ]
        },
        {
          "output_type": "stream",
          "name": "stderr",
          "text": [
            "\r 99%|█████████▉| 1212/1221 [02:57<00:01,  6.34it/s]"
          ]
        },
        {
          "output_type": "stream",
          "name": "stdout",
          "text": [
            "Current Accuracy after processing 1212 records: 0.20\n",
            "Current Accuracy after processing 1213 records: 0.20\n"
          ]
        },
        {
          "output_type": "stream",
          "name": "stderr",
          "text": [
            "100%|█████████▉| 1216/1221 [02:58<00:00,  7.08it/s]"
          ]
        },
        {
          "output_type": "stream",
          "name": "stdout",
          "text": [
            "Current Accuracy after processing 1214 records: 0.20\n",
            "Current Accuracy after processing 1215 records: 0.20\n",
            "Current Accuracy after processing 1216 records: 0.20\n"
          ]
        },
        {
          "output_type": "stream",
          "name": "stderr",
          "text": [
            "\r100%|█████████▉| 1217/1221 [02:58<00:00,  7.23it/s]"
          ]
        },
        {
          "output_type": "stream",
          "name": "stdout",
          "text": [
            "Current Accuracy after processing 1217 records: 0.20\n",
            "Current Accuracy after processing 1218 records: 0.20\n"
          ]
        },
        {
          "output_type": "stream",
          "name": "stderr",
          "text": [
            "100%|██████████| 1221/1221 [02:58<00:00,  6.84it/s]"
          ]
        },
        {
          "output_type": "stream",
          "name": "stdout",
          "text": [
            "Current Accuracy after processing 1219 records: 0.20\n",
            "Current Accuracy after processing 1220 records: 0.20\n",
            "Current Accuracy after processing 1221 records: 0.20\n",
            "Total Records Processed: 1221\n",
            "Number of Correct Answers: 249\n",
            "Number of Wrong Answers: 972\n",
            "Final Accuracy: 0.20\n",
            "Processing complete. Results saved to 'output_with_results.json'.\n"
          ]
        },
        {
          "output_type": "stream",
          "name": "stderr",
          "text": [
            "\n"
          ]
        }
      ]
    },
    {
      "cell_type": "code",
      "source": [],
      "metadata": {
        "id": "bJLqXK_7Tq7r"
      },
      "execution_count": null,
      "outputs": []
    }
  ]
}